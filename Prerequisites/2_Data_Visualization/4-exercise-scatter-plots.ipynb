{
 "cells": [
  {
   "cell_type": "markdown",
   "id": "a7598e9b",
   "metadata": {
    "papermill": {
     "duration": 0.010925,
     "end_time": "2022-11-15T02:21:48.642732",
     "exception": false,
     "start_time": "2022-11-15T02:21:48.631807",
     "status": "completed"
    },
    "tags": []
   },
   "source": [
    "**This notebook is an exercise in the [Data Visualization](https://www.kaggle.com/learn/data-visualization) course.  You can reference the tutorial at [this link](https://www.kaggle.com/alexisbcook/scatter-plots).**\n",
    "\n",
    "---\n"
   ]
  },
  {
   "cell_type": "markdown",
   "id": "fb87b4ba",
   "metadata": {
    "papermill": {
     "duration": 0.008136,
     "end_time": "2022-11-15T02:21:48.659968",
     "exception": false,
     "start_time": "2022-11-15T02:21:48.651832",
     "status": "completed"
    },
    "tags": []
   },
   "source": [
    "In this exercise, you will use your new knowledge to propose a solution to a real-world scenario.  To succeed, you will need to import data into Python, answer questions using the data, and generate **scatter plots** to understand patterns in the data.\n",
    "\n",
    "## Scenario\n",
    "\n",
    "You work for a major candy producer, and your goal is to write a report that your company can use to guide the design of its next product.  Soon after starting your research, you stumble across this [very interesting dataset](https://fivethirtyeight.com/features/the-ultimate-halloween-candy-power-ranking/) containing results from a fun survey to crowdsource favorite candies.\n",
    "\n",
    "## Setup\n",
    "\n",
    "Run the next cell to import and configure the Python libraries that you need to complete the exercise."
   ]
  },
  {
   "cell_type": "code",
   "execution_count": 1,
   "id": "a5a6bea7",
   "metadata": {
    "execution": {
     "iopub.execute_input": "2022-11-15T02:21:48.679896Z",
     "iopub.status.busy": "2022-11-15T02:21:48.678510Z",
     "iopub.status.idle": "2022-11-15T02:21:49.810412Z",
     "shell.execute_reply": "2022-11-15T02:21:49.809335Z"
    },
    "papermill": {
     "duration": 1.144855,
     "end_time": "2022-11-15T02:21:49.813192",
     "exception": false,
     "start_time": "2022-11-15T02:21:48.668337",
     "status": "completed"
    },
    "tags": []
   },
   "outputs": [
    {
     "name": "stdout",
     "output_type": "stream",
     "text": [
      "Setup Complete\n"
     ]
    }
   ],
   "source": [
    "import pandas as pd\n",
    "pd.plotting.register_matplotlib_converters()\n",
    "import matplotlib.pyplot as plt\n",
    "%matplotlib inline\n",
    "import seaborn as sns\n",
    "print(\"Setup Complete\")"
   ]
  },
  {
   "cell_type": "markdown",
   "id": "53cc2573",
   "metadata": {
    "papermill": {
     "duration": 0.008637,
     "end_time": "2022-11-15T02:21:49.830711",
     "exception": false,
     "start_time": "2022-11-15T02:21:49.822074",
     "status": "completed"
    },
    "tags": []
   },
   "source": [
    "The questions below will give you feedback on your work. Run the following cell to set up our feedback system."
   ]
  },
  {
   "cell_type": "code",
   "execution_count": 2,
   "id": "005fd136",
   "metadata": {
    "execution": {
     "iopub.execute_input": "2022-11-15T02:21:49.852395Z",
     "iopub.status.busy": "2022-11-15T02:21:49.851969Z",
     "iopub.status.idle": "2022-11-15T02:21:49.918356Z",
     "shell.execute_reply": "2022-11-15T02:21:49.917113Z"
    },
    "papermill": {
     "duration": 0.079264,
     "end_time": "2022-11-15T02:21:49.920844",
     "exception": false,
     "start_time": "2022-11-15T02:21:49.841580",
     "status": "completed"
    },
    "tags": []
   },
   "outputs": [
    {
     "name": "stdout",
     "output_type": "stream",
     "text": [
      "Setup Complete\n"
     ]
    }
   ],
   "source": [
    "# Set up code checking\n",
    "import os\n",
    "if not os.path.exists(\"../input/candy.csv\"):\n",
    "    os.symlink(\"../input/data-for-datavis/candy.csv\", \"../input/candy.csv\") \n",
    "from learntools.core import binder\n",
    "binder.bind(globals())\n",
    "from learntools.data_viz_to_coder.ex4 import *\n",
    "print(\"Setup Complete\")"
   ]
  },
  {
   "cell_type": "markdown",
   "id": "69b1a5a2",
   "metadata": {
    "papermill": {
     "duration": 0.008561,
     "end_time": "2022-11-15T02:21:49.938356",
     "exception": false,
     "start_time": "2022-11-15T02:21:49.929795",
     "status": "completed"
    },
    "tags": []
   },
   "source": [
    "## Step 1: Load the Data\n",
    "\n",
    "Read the candy data file into `candy_data`.  Use the `\"id\"` column to label the rows."
   ]
  },
  {
   "cell_type": "code",
   "execution_count": 3,
   "id": "4aeed119",
   "metadata": {
    "execution": {
     "iopub.execute_input": "2022-11-15T02:21:49.958044Z",
     "iopub.status.busy": "2022-11-15T02:21:49.957273Z",
     "iopub.status.idle": "2022-11-15T02:21:49.975080Z",
     "shell.execute_reply": "2022-11-15T02:21:49.973915Z"
    },
    "papermill": {
     "duration": 0.030866,
     "end_time": "2022-11-15T02:21:49.978128",
     "exception": false,
     "start_time": "2022-11-15T02:21:49.947262",
     "status": "completed"
    },
    "tags": []
   },
   "outputs": [
    {
     "data": {
      "application/javascript": [
       "parent.postMessage({\"jupyterEvent\": \"custom.exercise_interaction\", \"data\": {\"outcomeType\": 1, \"valueTowardsCompletion\": 0.3333333333333333, \"interactionType\": 1, \"questionType\": 1, \"questionId\": \"1_LoadData\", \"learnToolsVersion\": \"0.3.4\", \"failureMessage\": \"\", \"exceptionClass\": \"\", \"trace\": \"\"}}, \"*\")"
      ],
      "text/plain": [
       "<IPython.core.display.Javascript object>"
      ]
     },
     "metadata": {},
     "output_type": "display_data"
    },
    {
     "data": {
      "text/markdown": [
       "<span style=\"color:#33cc33\">Correct</span>"
      ],
      "text/plain": [
       "Correct"
      ]
     },
     "metadata": {},
     "output_type": "display_data"
    }
   ],
   "source": [
    "# Path of the file to read\n",
    "candy_filepath = \"../input/candy.csv\"\n",
    "\n",
    "# Fill in the line below to read the file into a variable candy_data\n",
    "candy_data = pd.read_csv(candy_filepath, index_col='id')\n",
    "\n",
    "# Run the line below with no changes to check that you've loaded the data correctly\n",
    "step_1.check()"
   ]
  },
  {
   "cell_type": "code",
   "execution_count": 4,
   "id": "640996ef",
   "metadata": {
    "execution": {
     "iopub.execute_input": "2022-11-15T02:21:49.998643Z",
     "iopub.status.busy": "2022-11-15T02:21:49.998231Z",
     "iopub.status.idle": "2022-11-15T02:21:50.002920Z",
     "shell.execute_reply": "2022-11-15T02:21:50.001769Z"
    },
    "papermill": {
     "duration": 0.018019,
     "end_time": "2022-11-15T02:21:50.005306",
     "exception": false,
     "start_time": "2022-11-15T02:21:49.987287",
     "status": "completed"
    },
    "tags": []
   },
   "outputs": [],
   "source": [
    "# Lines below will give you a hint or solution code\n",
    "#step_1.hint()\n",
    "#step_1.solution()"
   ]
  },
  {
   "cell_type": "markdown",
   "id": "c248686e",
   "metadata": {
    "papermill": {
     "duration": 0.00876,
     "end_time": "2022-11-15T02:21:50.023447",
     "exception": false,
     "start_time": "2022-11-15T02:21:50.014687",
     "status": "completed"
    },
    "tags": []
   },
   "source": [
    "## Step 2: Review the data\n",
    "\n",
    "Use a Python command to print the first five rows of the data."
   ]
  },
  {
   "cell_type": "code",
   "execution_count": 5,
   "id": "c24b93b3",
   "metadata": {
    "execution": {
     "iopub.execute_input": "2022-11-15T02:21:50.043413Z",
     "iopub.status.busy": "2022-11-15T02:21:50.043016Z",
     "iopub.status.idle": "2022-11-15T02:21:50.069410Z",
     "shell.execute_reply": "2022-11-15T02:21:50.068007Z"
    },
    "papermill": {
     "duration": 0.040136,
     "end_time": "2022-11-15T02:21:50.072596",
     "exception": false,
     "start_time": "2022-11-15T02:21:50.032460",
     "status": "completed"
    },
    "tags": []
   },
   "outputs": [
    {
     "data": {
      "text/html": [
       "<div>\n",
       "<style scoped>\n",
       "    .dataframe tbody tr th:only-of-type {\n",
       "        vertical-align: middle;\n",
       "    }\n",
       "\n",
       "    .dataframe tbody tr th {\n",
       "        vertical-align: top;\n",
       "    }\n",
       "\n",
       "    .dataframe thead th {\n",
       "        text-align: right;\n",
       "    }\n",
       "</style>\n",
       "<table border=\"1\" class=\"dataframe\">\n",
       "  <thead>\n",
       "    <tr style=\"text-align: right;\">\n",
       "      <th></th>\n",
       "      <th>competitorname</th>\n",
       "      <th>chocolate</th>\n",
       "      <th>fruity</th>\n",
       "      <th>caramel</th>\n",
       "      <th>peanutyalmondy</th>\n",
       "      <th>nougat</th>\n",
       "      <th>crispedricewafer</th>\n",
       "      <th>hard</th>\n",
       "      <th>bar</th>\n",
       "      <th>pluribus</th>\n",
       "      <th>sugarpercent</th>\n",
       "      <th>pricepercent</th>\n",
       "      <th>winpercent</th>\n",
       "    </tr>\n",
       "    <tr>\n",
       "      <th>id</th>\n",
       "      <th></th>\n",
       "      <th></th>\n",
       "      <th></th>\n",
       "      <th></th>\n",
       "      <th></th>\n",
       "      <th></th>\n",
       "      <th></th>\n",
       "      <th></th>\n",
       "      <th></th>\n",
       "      <th></th>\n",
       "      <th></th>\n",
       "      <th></th>\n",
       "      <th></th>\n",
       "    </tr>\n",
       "  </thead>\n",
       "  <tbody>\n",
       "    <tr>\n",
       "      <th>0</th>\n",
       "      <td>100 Grand</td>\n",
       "      <td>Yes</td>\n",
       "      <td>No</td>\n",
       "      <td>Yes</td>\n",
       "      <td>No</td>\n",
       "      <td>No</td>\n",
       "      <td>Yes</td>\n",
       "      <td>No</td>\n",
       "      <td>Yes</td>\n",
       "      <td>No</td>\n",
       "      <td>0.732</td>\n",
       "      <td>0.860</td>\n",
       "      <td>66.971725</td>\n",
       "    </tr>\n",
       "    <tr>\n",
       "      <th>1</th>\n",
       "      <td>3 Musketeers</td>\n",
       "      <td>Yes</td>\n",
       "      <td>No</td>\n",
       "      <td>No</td>\n",
       "      <td>No</td>\n",
       "      <td>Yes</td>\n",
       "      <td>No</td>\n",
       "      <td>No</td>\n",
       "      <td>Yes</td>\n",
       "      <td>No</td>\n",
       "      <td>0.604</td>\n",
       "      <td>0.511</td>\n",
       "      <td>67.602936</td>\n",
       "    </tr>\n",
       "    <tr>\n",
       "      <th>2</th>\n",
       "      <td>Air Heads</td>\n",
       "      <td>No</td>\n",
       "      <td>Yes</td>\n",
       "      <td>No</td>\n",
       "      <td>No</td>\n",
       "      <td>No</td>\n",
       "      <td>No</td>\n",
       "      <td>No</td>\n",
       "      <td>No</td>\n",
       "      <td>No</td>\n",
       "      <td>0.906</td>\n",
       "      <td>0.511</td>\n",
       "      <td>52.341465</td>\n",
       "    </tr>\n",
       "    <tr>\n",
       "      <th>3</th>\n",
       "      <td>Almond Joy</td>\n",
       "      <td>Yes</td>\n",
       "      <td>No</td>\n",
       "      <td>No</td>\n",
       "      <td>Yes</td>\n",
       "      <td>No</td>\n",
       "      <td>No</td>\n",
       "      <td>No</td>\n",
       "      <td>Yes</td>\n",
       "      <td>No</td>\n",
       "      <td>0.465</td>\n",
       "      <td>0.767</td>\n",
       "      <td>50.347546</td>\n",
       "    </tr>\n",
       "    <tr>\n",
       "      <th>4</th>\n",
       "      <td>Baby Ruth</td>\n",
       "      <td>Yes</td>\n",
       "      <td>No</td>\n",
       "      <td>Yes</td>\n",
       "      <td>Yes</td>\n",
       "      <td>Yes</td>\n",
       "      <td>No</td>\n",
       "      <td>No</td>\n",
       "      <td>Yes</td>\n",
       "      <td>No</td>\n",
       "      <td>0.604</td>\n",
       "      <td>0.767</td>\n",
       "      <td>56.914547</td>\n",
       "    </tr>\n",
       "  </tbody>\n",
       "</table>\n",
       "</div>"
      ],
      "text/plain": [
       "   competitorname chocolate fruity caramel peanutyalmondy nougat  \\\n",
       "id                                                                 \n",
       "0       100 Grand       Yes     No     Yes             No     No   \n",
       "1    3 Musketeers       Yes     No      No             No    Yes   \n",
       "2       Air Heads        No    Yes      No             No     No   \n",
       "3      Almond Joy       Yes     No      No            Yes     No   \n",
       "4       Baby Ruth       Yes     No     Yes            Yes    Yes   \n",
       "\n",
       "   crispedricewafer hard  bar pluribus  sugarpercent  pricepercent  winpercent  \n",
       "id                                                                              \n",
       "0               Yes   No  Yes       No         0.732         0.860   66.971725  \n",
       "1                No   No  Yes       No         0.604         0.511   67.602936  \n",
       "2                No   No   No       No         0.906         0.511   52.341465  \n",
       "3                No   No  Yes       No         0.465         0.767   50.347546  \n",
       "4                No   No  Yes       No         0.604         0.767   56.914547  "
      ]
     },
     "execution_count": 5,
     "metadata": {},
     "output_type": "execute_result"
    }
   ],
   "source": [
    "# Print the first five rows of the data\n",
    "candy_data.head() # Your code here"
   ]
  },
  {
   "cell_type": "markdown",
   "id": "fd18a6f9",
   "metadata": {
    "papermill": {
     "duration": 0.009462,
     "end_time": "2022-11-15T02:21:50.092267",
     "exception": false,
     "start_time": "2022-11-15T02:21:50.082805",
     "status": "completed"
    },
    "tags": []
   },
   "source": [
    "The dataset contains 83 rows, where each corresponds to a different candy bar.  There are 13 columns:\n",
    "- `'competitorname'` contains the name of the candy bar. \n",
    "- the next **9** columns (from `'chocolate'` to `'pluribus'`) describe the candy.  For instance, rows with chocolate candies have `\"Yes\"` in the `'chocolate'` column (and candies without chocolate have `\"No\"` in the same column).\n",
    "- `'sugarpercent'` provides some indication of the amount of sugar, where higher values signify higher sugar content.\n",
    "- `'pricepercent'` shows the price per unit, relative to the other candies in the dataset.\n",
    "- `'winpercent'` is calculated from the survey results; higher values indicate that the candy was more popular with survey respondents.\n",
    "\n",
    "Use the first five rows of the data to answer the questions below."
   ]
  },
  {
   "cell_type": "code",
   "execution_count": 6,
   "id": "af0eb64a",
   "metadata": {
    "execution": {
     "iopub.execute_input": "2022-11-15T02:21:50.116969Z",
     "iopub.status.busy": "2022-11-15T02:21:50.116032Z",
     "iopub.status.idle": "2022-11-15T02:21:50.131951Z",
     "shell.execute_reply": "2022-11-15T02:21:50.127366Z"
    },
    "papermill": {
     "duration": 0.032243,
     "end_time": "2022-11-15T02:21:50.134823",
     "exception": false,
     "start_time": "2022-11-15T02:21:50.102580",
     "status": "completed"
    },
    "tags": []
   },
   "outputs": [
    {
     "data": {
      "text/plain": [
       "\"Reese's Peanut Butter cup\""
      ]
     },
     "execution_count": 6,
     "metadata": {},
     "output_type": "execute_result"
    }
   ],
   "source": [
    "candy_data.competitorname[candy_data.winpercent.argmax()]"
   ]
  },
  {
   "cell_type": "code",
   "execution_count": 7,
   "id": "c05db02a",
   "metadata": {
    "execution": {
     "iopub.execute_input": "2022-11-15T02:21:50.156256Z",
     "iopub.status.busy": "2022-11-15T02:21:50.155816Z",
     "iopub.status.idle": "2022-11-15T02:21:50.162833Z",
     "shell.execute_reply": "2022-11-15T02:21:50.162045Z"
    },
    "papermill": {
     "duration": 0.020117,
     "end_time": "2022-11-15T02:21:50.164966",
     "exception": false,
     "start_time": "2022-11-15T02:21:50.144849",
     "status": "completed"
    },
    "tags": []
   },
   "outputs": [
    {
     "data": {
      "text/plain": [
       "\"Reese's stuffed with pieces\""
      ]
     },
     "execution_count": 7,
     "metadata": {},
     "output_type": "execute_result"
    }
   ],
   "source": [
    "candy_data.competitorname[candy_data.sugarpercent.argmax()]"
   ]
  },
  {
   "cell_type": "code",
   "execution_count": 8,
   "id": "a719bb1d",
   "metadata": {
    "execution": {
     "iopub.execute_input": "2022-11-15T02:21:50.186972Z",
     "iopub.status.busy": "2022-11-15T02:21:50.185845Z",
     "iopub.status.idle": "2022-11-15T02:21:50.195879Z",
     "shell.execute_reply": "2022-11-15T02:21:50.194928Z"
    },
    "papermill": {
     "duration": 0.023169,
     "end_time": "2022-11-15T02:21:50.197919",
     "exception": false,
     "start_time": "2022-11-15T02:21:50.174750",
     "status": "completed"
    },
    "tags": []
   },
   "outputs": [
    {
     "data": {
      "application/javascript": [
       "parent.postMessage({\"jupyterEvent\": \"custom.exercise_interaction\", \"data\": {\"outcomeType\": 1, \"valueTowardsCompletion\": 0.3333333333333333, \"interactionType\": 1, \"questionType\": 1, \"questionId\": \"2_ReviewData\", \"learnToolsVersion\": \"0.3.4\", \"failureMessage\": \"\", \"exceptionClass\": \"\", \"trace\": \"\"}}, \"*\")"
      ],
      "text/plain": [
       "<IPython.core.display.Javascript object>"
      ]
     },
     "metadata": {},
     "output_type": "display_data"
    },
    {
     "data": {
      "text/markdown": [
       "<span style=\"color:#33cc33\">Correct</span>"
      ],
      "text/plain": [
       "Correct"
      ]
     },
     "metadata": {},
     "output_type": "display_data"
    }
   ],
   "source": [
    "# Fill in the line below: Which candy was more popular with survey respondents:\n",
    "# '3 Musketeers' or 'Almond Joy'?  (Please enclose your answer in single quotes.)\n",
    "more_popular = \"3 Musketeers\"\n",
    "\n",
    "# Fill in the line below: Which candy has higher sugar content: 'Air Heads'\n",
    "# or 'Baby Ruth'? (Please enclose your answer in single quotes.)\n",
    "more_sugar = \"Air Heads\"\n",
    "\n",
    "# Check your answers\n",
    "step_2.check()"
   ]
  },
  {
   "cell_type": "code",
   "execution_count": 9,
   "id": "5a569f37",
   "metadata": {
    "execution": {
     "iopub.execute_input": "2022-11-15T02:21:50.219916Z",
     "iopub.status.busy": "2022-11-15T02:21:50.219143Z",
     "iopub.status.idle": "2022-11-15T02:21:50.223046Z",
     "shell.execute_reply": "2022-11-15T02:21:50.222292Z"
    },
    "papermill": {
     "duration": 0.017213,
     "end_time": "2022-11-15T02:21:50.225062",
     "exception": false,
     "start_time": "2022-11-15T02:21:50.207849",
     "status": "completed"
    },
    "tags": []
   },
   "outputs": [],
   "source": [
    "# Lines below will give you a hint or solution code\n",
    "#step_2.hint()\n",
    "#step_2.solution()"
   ]
  },
  {
   "cell_type": "markdown",
   "id": "c6ca9984",
   "metadata": {
    "papermill": {
     "duration": 0.011608,
     "end_time": "2022-11-15T02:21:50.246565",
     "exception": false,
     "start_time": "2022-11-15T02:21:50.234957",
     "status": "completed"
    },
    "tags": []
   },
   "source": [
    "## Step 3: The role of sugar\n",
    "\n",
    "Do people tend to prefer candies with higher sugar content?  \n",
    "\n",
    "#### Part A\n",
    "\n",
    "Create a scatter plot that shows the relationship between `'sugarpercent'` (on the horizontal x-axis) and `'winpercent'` (on the vertical y-axis).  _Don't add a regression line just yet -- you'll do that in the next step!_"
   ]
  },
  {
   "cell_type": "code",
   "execution_count": 10,
   "id": "627cdd03",
   "metadata": {
    "execution": {
     "iopub.execute_input": "2022-11-15T02:21:50.269526Z",
     "iopub.status.busy": "2022-11-15T02:21:50.268844Z",
     "iopub.status.idle": "2022-11-15T02:21:50.636653Z",
     "shell.execute_reply": "2022-11-15T02:21:50.635351Z"
    },
    "papermill": {
     "duration": 0.382771,
     "end_time": "2022-11-15T02:21:50.639705",
     "exception": false,
     "start_time": "2022-11-15T02:21:50.256934",
     "status": "completed"
    },
    "tags": []
   },
   "outputs": [
    {
     "data": {
      "application/javascript": [
       "parent.postMessage({\"jupyterEvent\": \"custom.exercise_interaction\", \"data\": {\"outcomeType\": 1, \"valueTowardsCompletion\": 0.3333333333333333, \"interactionType\": 1, \"questionType\": 2, \"questionId\": \"3.1_PlotBlueScatter\", \"learnToolsVersion\": \"0.3.4\", \"failureMessage\": \"\", \"exceptionClass\": \"\", \"trace\": \"\"}}, \"*\")"
      ],
      "text/plain": [
       "<IPython.core.display.Javascript object>"
      ]
     },
     "metadata": {},
     "output_type": "display_data"
    },
    {
     "data": {
      "text/markdown": [
       "<span style=\"color:#33cc33\">Correct</span>"
      ],
      "text/plain": [
       "Correct"
      ]
     },
     "metadata": {},
     "output_type": "display_data"
    },
    {
     "data": {
      "image/png": "[encoded data removed]",
      "text/plain": [
       "<Figure size 1152x720 with 1 Axes>"
      ]
     },
     "metadata": {
      "needs_background": "light"
     },
     "output_type": "display_data"
    }
   ],
   "source": [
    "# Scatter plot showing the relationship between 'sugarpercent' and 'winpercent'\n",
    "# Your code here\n",
    "plt.figure(figsize=(16,10))\n",
    "plt.title(\"Relationship between sugarpercent and winpercent\")\n",
    "sns.scatterplot(x=candy_data['sugarpercent'], y=candy_data['winpercent'])\n",
    "plt.xlabel(\"Sugar Percent\")\n",
    "plt.ylabel(\"Win Percent\")\n",
    "# Check your answer\n",
    "step_3.a.check()"
   ]
  },
  {
   "cell_type": "code",
   "execution_count": 11,
   "id": "5b96e181",
   "metadata": {
    "execution": {
     "iopub.execute_input": "2022-11-15T02:21:50.664675Z",
     "iopub.status.busy": "2022-11-15T02:21:50.662258Z",
     "iopub.status.idle": "2022-11-15T02:21:50.668850Z",
     "shell.execute_reply": "2022-11-15T02:21:50.667775Z"
    },
    "papermill": {
     "duration": 0.021114,
     "end_time": "2022-11-15T02:21:50.671458",
     "exception": false,
     "start_time": "2022-11-15T02:21:50.650344",
     "status": "completed"
    },
    "tags": []
   },
   "outputs": [],
   "source": [
    "# Lines below will give you a hint or solution code\n",
    "#step_3.a.hint()\n",
    "#step_3.a.solution_plot()"
   ]
  },
  {
   "cell_type": "markdown",
   "id": "3715e65e",
   "metadata": {
    "papermill": {
     "duration": 0.010545,
     "end_time": "2022-11-15T02:21:50.692847",
     "exception": false,
     "start_time": "2022-11-15T02:21:50.682302",
     "status": "completed"
    },
    "tags": []
   },
   "source": [
    "#### Part B\n",
    "\n",
    "Does the scatter plot show a **strong** correlation between the two variables?  If so, are candies with more sugar relatively more or less popular with the survey respondents?"
   ]
  },
  {
   "cell_type": "code",
   "execution_count": 12,
   "id": "3eb8ce7c",
   "metadata": {
    "execution": {
     "iopub.execute_input": "2022-11-15T02:21:50.716882Z",
     "iopub.status.busy": "2022-11-15T02:21:50.716026Z",
     "iopub.status.idle": "2022-11-15T02:21:50.721147Z",
     "shell.execute_reply": "2022-11-15T02:21:50.720185Z"
    },
    "papermill": {
     "duration": 0.019734,
     "end_time": "2022-11-15T02:21:50.723480",
     "exception": false,
     "start_time": "2022-11-15T02:21:50.703746",
     "status": "completed"
    },
    "tags": []
   },
   "outputs": [],
   "source": [
    "#step_3.b.hint()"
   ]
  },
  {
   "cell_type": "code",
   "execution_count": 13,
   "id": "94f78934",
   "metadata": {
    "execution": {
     "iopub.execute_input": "2022-11-15T02:21:50.747251Z",
     "iopub.status.busy": "2022-11-15T02:21:50.746448Z",
     "iopub.status.idle": "2022-11-15T02:21:50.755893Z",
     "shell.execute_reply": "2022-11-15T02:21:50.754934Z"
    },
    "papermill": {
     "duration": 0.023815,
     "end_time": "2022-11-15T02:21:50.758288",
     "exception": false,
     "start_time": "2022-11-15T02:21:50.734473",
     "status": "completed"
    },
    "tags": []
   },
   "outputs": [
    {
     "data": {
      "application/javascript": [
       "parent.postMessage({\"jupyterEvent\": \"custom.exercise_interaction\", \"data\": {\"interactionType\": 3, \"questionType\": 4, \"questionId\": \"3.2_ThinkBlueScatter\", \"learnToolsVersion\": \"0.3.4\", \"valueTowardsCompletion\": 0.0, \"failureMessage\": \"\", \"exceptionClass\": \"\", \"trace\": \"\", \"outcomeType\": 4}}, \"*\")"
      ],
      "text/plain": [
       "<IPython.core.display.Javascript object>"
      ]
     },
     "metadata": {},
     "output_type": "display_data"
    },
    {
     "data": {
      "text/markdown": [
       "<span style=\"color:#33cc99\">Solution:</span> The scatter plot does not show a strong correlation between the two variables. Since there is no clear relationship between the two variables, this tells us that sugar content does not play a strong role in candy popularity."
      ],
      "text/plain": [
       "Solution: The scatter plot does not show a strong correlation between the two variables. Since there is no clear relationship between the two variables, this tells us that sugar content does not play a strong role in candy popularity."
      ]
     },
     "metadata": {},
     "output_type": "display_data"
    }
   ],
   "source": [
    "# Check your answer (Run this code cell to receive credit!)\n",
    "step_3.b.solution()"
   ]
  },
  {
   "cell_type": "markdown",
   "id": "afe3aa33",
   "metadata": {
    "papermill": {
     "duration": 0.010421,
     "end_time": "2022-11-15T02:21:50.779680",
     "exception": false,
     "start_time": "2022-11-15T02:21:50.769259",
     "status": "completed"
    },
    "tags": []
   },
   "source": [
    "## Step 4: Take a closer look\n",
    "\n",
    "#### Part A\n",
    "\n",
    "Create the same scatter plot you created in **Step 3**, but now with a regression line!"
   ]
  },
  {
   "cell_type": "code",
   "execution_count": 14,
   "id": "33eee2cd",
   "metadata": {
    "execution": {
     "iopub.execute_input": "2022-11-15T02:21:50.807239Z",
     "iopub.status.busy": "2022-11-15T02:21:50.806705Z",
     "iopub.status.idle": "2022-11-15T02:21:51.147791Z",
     "shell.execute_reply": "2022-11-15T02:21:51.146567Z"
    },
    "papermill": {
     "duration": 0.360084,
     "end_time": "2022-11-15T02:21:51.150757",
     "exception": false,
     "start_time": "2022-11-15T02:21:50.790673",
     "status": "completed"
    },
    "tags": []
   },
   "outputs": [
    {
     "data": {
      "application/javascript": [
       "parent.postMessage({\"jupyterEvent\": \"custom.exercise_interaction\", \"data\": {\"outcomeType\": 1, \"valueTowardsCompletion\": 0.3333333333333333, \"interactionType\": 1, \"questionType\": 2, \"questionId\": \"4.1_PlotBlueReg\", \"learnToolsVersion\": \"0.3.4\", \"failureMessage\": \"\", \"exceptionClass\": \"\", \"trace\": \"\"}}, \"*\")"
      ],
      "text/plain": [
       "<IPython.core.display.Javascript object>"
      ]
     },
     "metadata": {},
     "output_type": "display_data"
    },
    {
     "data": {
      "text/markdown": [
       "<span style=\"color:#33cc33\">Correct</span>"
      ],
      "text/plain": [
       "Correct"
      ]
     },
     "metadata": {},
     "output_type": "display_data"
    },
    {
     "data": {
      "image/png": "[encoded data removed]",
      "text/plain": [
       "<Figure size 1152x720 with 1 Axes>"
      ]
     },
     "metadata": {
      "needs_background": "light"
     },
     "output_type": "display_data"
    }
   ],
   "source": [
    "# Scatter plot w/ regression line showing the relationship between 'sugarpercent' and 'winpercent'\n",
    "# Your code here\n",
    "plt.figure(figsize=(16,10))\n",
    "plt.title(\"Relationship between sugarpercent and winpercent\")\n",
    "sns.regplot(x=candy_data['sugarpercent'], y=candy_data['winpercent'])\n",
    "plt.xlabel(\"Sugar Percent\")\n",
    "plt.ylabel(\"Win Percent\")\n",
    "# Check your answer\n",
    "step_4.a.check()"
   ]
  },
  {
   "cell_type": "code",
   "execution_count": 15,
   "id": "6f38e4c7",
   "metadata": {
    "execution": {
     "iopub.execute_input": "2022-11-15T02:21:51.176660Z",
     "iopub.status.busy": "2022-11-15T02:21:51.176172Z",
     "iopub.status.idle": "2022-11-15T02:21:51.180727Z",
     "shell.execute_reply": "2022-11-15T02:21:51.179594Z"
    },
    "papermill": {
     "duration": 0.020529,
     "end_time": "2022-11-15T02:21:51.183214",
     "exception": false,
     "start_time": "2022-11-15T02:21:51.162685",
     "status": "completed"
    },
    "tags": []
   },
   "outputs": [],
   "source": [
    "# Lines below will give you a hint or solution code\n",
    "#step_4.a.hint()\n",
    "#step_4.a.solution_plot()"
   ]
  },
  {
   "cell_type": "markdown",
   "id": "14fd5c51",
   "metadata": {
    "papermill": {
     "duration": 0.011454,
     "end_time": "2022-11-15T02:21:51.206609",
     "exception": false,
     "start_time": "2022-11-15T02:21:51.195155",
     "status": "completed"
    },
    "tags": []
   },
   "source": [
    "#### Part B\n",
    "\n",
    "According to the plot above, is there a **slight** correlation between `'winpercent'` and `'sugarpercent'`?  What does this tell you about the candy that people tend to prefer?"
   ]
  },
  {
   "cell_type": "code",
   "execution_count": 16,
   "id": "bb319f71",
   "metadata": {
    "execution": {
     "iopub.execute_input": "2022-11-15T02:21:51.232047Z",
     "iopub.status.busy": "2022-11-15T02:21:51.231669Z",
     "iopub.status.idle": "2022-11-15T02:21:51.235757Z",
     "shell.execute_reply": "2022-11-15T02:21:51.234730Z"
    },
    "papermill": {
     "duration": 0.019881,
     "end_time": "2022-11-15T02:21:51.237987",
     "exception": false,
     "start_time": "2022-11-15T02:21:51.218106",
     "status": "completed"
    },
    "tags": []
   },
   "outputs": [],
   "source": [
    "#step_4.b.hint()"
   ]
  },
  {
   "cell_type": "code",
   "execution_count": 17,
   "id": "f42ef179",
   "metadata": {
    "execution": {
     "iopub.execute_input": "2022-11-15T02:21:51.263884Z",
     "iopub.status.busy": "2022-11-15T02:21:51.263460Z",
     "iopub.status.idle": "2022-11-15T02:21:51.272361Z",
     "shell.execute_reply": "2022-11-15T02:21:51.271280Z"
    },
    "papermill": {
     "duration": 0.024421,
     "end_time": "2022-11-15T02:21:51.274435",
     "exception": false,
     "start_time": "2022-11-15T02:21:51.250014",
     "status": "completed"
    },
    "tags": []
   },
   "outputs": [
    {
     "data": {
      "application/javascript": [
       "parent.postMessage({\"jupyterEvent\": \"custom.exercise_interaction\", \"data\": {\"interactionType\": 3, \"questionType\": 4, \"questionId\": \"4.2_ThinkBlueReg\", \"learnToolsVersion\": \"0.3.4\", \"valueTowardsCompletion\": 0.0, \"failureMessage\": \"\", \"exceptionClass\": \"\", \"trace\": \"\", \"outcomeType\": 4}}, \"*\")"
      ],
      "text/plain": [
       "<IPython.core.display.Javascript object>"
      ]
     },
     "metadata": {},
     "output_type": "display_data"
    },
    {
     "data": {
      "text/markdown": [
       "<span style=\"color:#33cc99\">Solution:</span> Since the regression line has a slightly positive slope, this tells us that there is a slightly positive correlation between `'winpercent'` and `'sugarpercent'`. Thus, people have a slight preference for candies containing relatively more sugar."
      ],
      "text/plain": [
       "Solution: Since the regression line has a slightly positive slope, this tells us that there is a slightly positive correlation between `'winpercent'` and `'sugarpercent'`. Thus, people have a slight preference for candies containing relatively more sugar."
      ]
     },
     "metadata": {},
     "output_type": "display_data"
    }
   ],
   "source": [
    "# Check your answer (Run this code cell to receive credit!)\n",
    "step_4.b.solution()"
   ]
  },
  {
   "cell_type": "markdown",
   "id": "e81062a9",
   "metadata": {
    "papermill": {
     "duration": 0.012212,
     "end_time": "2022-11-15T02:21:51.298445",
     "exception": false,
     "start_time": "2022-11-15T02:21:51.286233",
     "status": "completed"
    },
    "tags": []
   },
   "source": [
    "## Step 5: Chocolate!\n",
    "\n",
    "In the code cell below, create a scatter plot to show the relationship between `'pricepercent'` (on the horizontal x-axis) and `'winpercent'` (on the vertical y-axis). Use the `'chocolate'` column to color-code the points.  _Don't add any regression lines just yet -- you'll do that in the next step!_"
   ]
  },
  {
   "cell_type": "code",
   "execution_count": 18,
   "id": "3d63712c",
   "metadata": {
    "execution": {
     "iopub.execute_input": "2022-11-15T02:21:51.324441Z",
     "iopub.status.busy": "2022-11-15T02:21:51.323729Z",
     "iopub.status.idle": "2022-11-15T02:21:51.682200Z",
     "shell.execute_reply": "2022-11-15T02:21:51.680974Z"
    },
    "papermill": {
     "duration": 0.374172,
     "end_time": "2022-11-15T02:21:51.684628",
     "exception": false,
     "start_time": "2022-11-15T02:21:51.310456",
     "status": "completed"
    },
    "tags": []
   },
   "outputs": [
    {
     "data": {
      "application/javascript": [
       "parent.postMessage({\"jupyterEvent\": \"custom.exercise_interaction\", \"data\": {\"outcomeType\": 1, \"valueTowardsCompletion\": 0.3333333333333333, \"interactionType\": 1, \"questionType\": 2, \"questionId\": \"5_ColorScatter\", \"learnToolsVersion\": \"0.3.4\", \"failureMessage\": \"\", \"exceptionClass\": \"\", \"trace\": \"\"}}, \"*\")"
      ],
      "text/plain": [
       "<IPython.core.display.Javascript object>"
      ]
     },
     "metadata": {},
     "output_type": "display_data"
    },
    {
     "data": {
      "text/markdown": [
       "<span style=\"color:#33cc33\">Correct</span>"
      ],
      "text/plain": [
       "Correct"
      ]
     },
     "metadata": {},
     "output_type": "display_data"
    },
    {
     "data": {
      "image/png": "[encoded data removed]",
      "text/plain": [
       "<Figure size 1152x720 with 1 Axes>"
      ]
     },
     "metadata": {
      "needs_background": "light"
     },
     "output_type": "display_data"
    }
   ],
   "source": [
    "# Scatter plot showing the relationship between 'pricepercent', 'winpercent', and 'chocolate'\n",
    "# Your code here\n",
    "plt.figure(figsize=(16,10))\n",
    "plt.title(\"Relationship between pricepercent and winpercent\")\n",
    "sns.scatterplot(x=candy_data['pricepercent'], y=candy_data['winpercent'], hue=candy_data['chocolate'])\n",
    "plt.xlabel(\"Price Percent\")\n",
    "plt.ylabel(\"Win Percent\")\n",
    "# Check your answer\n",
    "step_5.check()"
   ]
  },
  {
   "cell_type": "code",
   "execution_count": 19,
   "id": "483241f9",
   "metadata": {
    "execution": {
     "iopub.execute_input": "2022-11-15T02:21:51.712460Z",
     "iopub.status.busy": "2022-11-15T02:21:51.712041Z",
     "iopub.status.idle": "2022-11-15T02:21:51.715969Z",
     "shell.execute_reply": "2022-11-15T02:21:51.715204Z"
    },
    "papermill": {
     "duration": 0.020325,
     "end_time": "2022-11-15T02:21:51.717956",
     "exception": false,
     "start_time": "2022-11-15T02:21:51.697631",
     "status": "completed"
    },
    "tags": []
   },
   "outputs": [],
   "source": [
    "# Lines below will give you a hint or solution code\n",
    "#step_5.hint()\n",
    "#step_5.solution_plot()"
   ]
  },
  {
   "cell_type": "markdown",
   "id": "1dc3fcc4",
   "metadata": {
    "papermill": {
     "duration": 0.012131,
     "end_time": "2022-11-15T02:21:51.742811",
     "exception": false,
     "start_time": "2022-11-15T02:21:51.730680",
     "status": "completed"
    },
    "tags": []
   },
   "source": [
    "Can you see any interesting patterns in the scatter plot?  We'll investigate this plot further  by adding regression lines in the next step!\n",
    "\n",
    "## Step 6: Investigate chocolate\n",
    "\n",
    "#### Part A\n",
    "\n",
    "Create the same scatter plot you created in **Step 5**, but now with two regression lines, corresponding to (1) chocolate candies and (2) candies without chocolate."
   ]
  },
  {
   "cell_type": "code",
   "execution_count": 20,
   "id": "a6c30200",
   "metadata": {
    "execution": {
     "iopub.execute_input": "2022-11-15T02:21:51.769718Z",
     "iopub.status.busy": "2022-11-15T02:21:51.769038Z",
     "iopub.status.idle": "2022-11-15T02:21:52.449172Z",
     "shell.execute_reply": "2022-11-15T02:21:52.448340Z"
    },
    "papermill": {
     "duration": 0.696281,
     "end_time": "2022-11-15T02:21:52.451450",
     "exception": false,
     "start_time": "2022-11-15T02:21:51.755169",
     "status": "completed"
    },
    "tags": []
   },
   "outputs": [
    {
     "data": {
      "application/javascript": [
       "parent.postMessage({\"jupyterEvent\": \"custom.exercise_interaction\", \"data\": {\"outcomeType\": 1, \"valueTowardsCompletion\": 0.3333333333333333, \"interactionType\": 1, \"questionType\": 2, \"questionId\": \"6.1_PlotColorReg\", \"learnToolsVersion\": \"0.3.4\", \"failureMessage\": \"\", \"exceptionClass\": \"\", \"trace\": \"\"}}, \"*\")"
      ],
      "text/plain": [
       "<IPython.core.display.Javascript object>"
      ]
     },
     "metadata": {},
     "output_type": "display_data"
    },
    {
     "data": {
      "text/markdown": [
       "<span style=\"color:#33cc33\">Correct</span>"
      ],
      "text/plain": [
       "Correct"
      ]
     },
     "metadata": {},
     "output_type": "display_data"
    },
    {
     "data": {
      "image/png": "[encoded data removed]",
      "text/plain": [
       "<Figure size 416.375x360 with 1 Axes>"
      ]
     },
     "metadata": {
      "needs_background": "light"
     },
     "output_type": "display_data"
    }
   ],
   "source": [
    "# Color-coded scatter plot w/ regression lines\n",
    "# Your code here\n",
    "# plt.figure(figsize=(16,10))\n",
    "# plt.title(\"Relationship between pricepercent and winpercent\")\n",
    "sns.lmplot(x='pricepercent', y='winpercent', hue='chocolate', data=candy_data)\n",
    "# plt.xlabel(\"Price Percent\")\n",
    "# plt.ylabel(\"Win Percent\")\n",
    "# Check your answer\n",
    "step_6.a.check()"
   ]
  },
  {
   "cell_type": "code",
   "execution_count": 21,
   "id": "3b80331d",
   "metadata": {
    "execution": {
     "iopub.execute_input": "2022-11-15T02:21:52.480600Z",
     "iopub.status.busy": "2022-11-15T02:21:52.480082Z",
     "iopub.status.idle": "2022-11-15T02:21:52.484960Z",
     "shell.execute_reply": "2022-11-15T02:21:52.483851Z"
    },
    "papermill": {
     "duration": 0.022179,
     "end_time": "2022-11-15T02:21:52.487249",
     "exception": false,
     "start_time": "2022-11-15T02:21:52.465070",
     "status": "completed"
    },
    "tags": []
   },
   "outputs": [],
   "source": [
    "# Lines below will give you a hint or solution code\n",
    "#step_6.a.hint()\n",
    "#step_6.a.solution_plot()"
   ]
  },
  {
   "cell_type": "markdown",
   "id": "307fc122",
   "metadata": {
    "papermill": {
     "duration": 0.012987,
     "end_time": "2022-11-15T02:21:52.514043",
     "exception": false,
     "start_time": "2022-11-15T02:21:52.501056",
     "status": "completed"
    },
    "tags": []
   },
   "source": [
    "#### Part B\n",
    "\n",
    "Using the regression lines, what conclusions can you draw about the effects of chocolate and price on candy popularity?"
   ]
  },
  {
   "cell_type": "code",
   "execution_count": 22,
   "id": "a9642ef3",
   "metadata": {
    "execution": {
     "iopub.execute_input": "2022-11-15T02:21:52.543012Z",
     "iopub.status.busy": "2022-11-15T02:21:52.542587Z",
     "iopub.status.idle": "2022-11-15T02:21:52.547161Z",
     "shell.execute_reply": "2022-11-15T02:21:52.546088Z"
    },
    "papermill": {
     "duration": 0.021432,
     "end_time": "2022-11-15T02:21:52.549254",
     "exception": false,
     "start_time": "2022-11-15T02:21:52.527822",
     "status": "completed"
    },
    "tags": []
   },
   "outputs": [],
   "source": [
    "#step_6.b.hint()"
   ]
  },
  {
   "cell_type": "code",
   "execution_count": 23,
   "id": "7a4a1af0",
   "metadata": {
    "execution": {
     "iopub.execute_input": "2022-11-15T02:21:52.579269Z",
     "iopub.status.busy": "2022-11-15T02:21:52.578349Z",
     "iopub.status.idle": "2022-11-15T02:21:52.588824Z",
     "shell.execute_reply": "2022-11-15T02:21:52.587510Z"
    },
    "papermill": {
     "duration": 0.028358,
     "end_time": "2022-11-15T02:21:52.591274",
     "exception": false,
     "start_time": "2022-11-15T02:21:52.562916",
     "status": "completed"
    },
    "tags": []
   },
   "outputs": [
    {
     "data": {
      "application/javascript": [
       "parent.postMessage({\"jupyterEvent\": \"custom.exercise_interaction\", \"data\": {\"interactionType\": 3, \"questionType\": 4, \"questionId\": \"6.2_ThinkColorReg\", \"learnToolsVersion\": \"0.3.4\", \"valueTowardsCompletion\": 0.0, \"failureMessage\": \"\", \"exceptionClass\": \"\", \"trace\": \"\", \"outcomeType\": 4}}, \"*\")"
      ],
      "text/plain": [
       "<IPython.core.display.Javascript object>"
      ]
     },
     "metadata": {},
     "output_type": "display_data"
    },
    {
     "data": {
      "text/markdown": [
       "<span style=\"color:#33cc99\">Solution:</span> We'll begin with the regression line for chocolate candies. Since this line has a slightly positive slope, we can say that more expensive chocolate candies tend to be more popular (than relatively cheaper chocolate candies).  Likewise, since the regression line for candies without chocolate has a negative slope, we can say that if candies don't contain chocolate, they tend to be more popular when they are cheaper.  One important note, however, is that the dataset is quite small -- so we shouldn't invest too much trust in these patterns!  To inspire more confidence in the results, we should add more candies to the dataset."
      ],
      "text/plain": [
       "Solution: We'll begin with the regression line for chocolate candies. Since this line has a slightly positive slope, we can say that more expensive chocolate candies tend to be more popular (than relatively cheaper chocolate candies).  Likewise, since the regression line for candies without chocolate has a negative slope, we can say that if candies don't contain chocolate, they tend to be more popular when they are cheaper.  One important note, however, is that the dataset is quite small -- so we shouldn't invest too much trust in these patterns!  To inspire more confidence in the results, we should add more candies to the dataset."
      ]
     },
     "metadata": {},
     "output_type": "display_data"
    }
   ],
   "source": [
    "# Check your answer (Run this code cell to receive credit!)\n",
    "step_6.b.solution()"
   ]
  },
  {
   "cell_type": "markdown",
   "id": "b688896a",
   "metadata": {
    "papermill": {
     "duration": 0.013222,
     "end_time": "2022-11-15T02:21:52.618701",
     "exception": false,
     "start_time": "2022-11-15T02:21:52.605479",
     "status": "completed"
    },
    "tags": []
   },
   "source": [
    "## Step 7: Everybody loves chocolate.\n",
    "\n",
    "#### Part A\n",
    "\n",
    "Create a categorical scatter plot to highlight the relationship between `'chocolate'` and `'winpercent'`.  Put `'chocolate'` on the (horizontal) x-axis, and `'winpercent'` on the (vertical) y-axis."
   ]
  },
  {
   "cell_type": "code",
   "execution_count": 24,
   "id": "713dd0e9",
   "metadata": {
    "execution": {
     "iopub.execute_input": "2022-11-15T02:21:52.647828Z",
     "iopub.status.busy": "2022-11-15T02:21:52.647176Z",
     "iopub.status.idle": "2022-11-15T02:21:52.805312Z",
     "shell.execute_reply": "2022-11-15T02:21:52.804121Z"
    },
    "papermill": {
     "duration": 0.176388,
     "end_time": "2022-11-15T02:21:52.808505",
     "exception": false,
     "start_time": "2022-11-15T02:21:52.632117",
     "status": "completed"
    },
    "tags": []
   },
   "outputs": [
    {
     "data": {
      "application/javascript": [
       "parent.postMessage({\"jupyterEvent\": \"custom.exercise_interaction\", \"data\": {\"outcomeType\": 1, \"valueTowardsCompletion\": 0.3333333333333333, \"interactionType\": 1, \"questionType\": 2, \"questionId\": \"7.1_PlotSwarm\", \"learnToolsVersion\": \"0.3.4\", \"failureMessage\": \"\", \"exceptionClass\": \"\", \"trace\": \"\"}}, \"*\")"
      ],
      "text/plain": [
       "<IPython.core.display.Javascript object>"
      ]
     },
     "metadata": {},
     "output_type": "display_data"
    },
    {
     "data": {
      "text/markdown": [
       "<span style=\"color:#33cc33\">Correct</span>"
      ],
      "text/plain": [
       "Correct"
      ]
     },
     "metadata": {},
     "output_type": "display_data"
    },
    {
     "data": {
      "image/png": "[encoded data removed]",
      "text/plain": [
       "<Figure size 432x288 with 1 Axes>"
      ]
     },
     "metadata": {
      "needs_background": "light"
     },
     "output_type": "display_data"
    }
   ],
   "source": [
    "# Scatter plot showing the relationship between 'chocolate' and 'winpercent'\n",
    "# Your code here\n",
    "sns.swarmplot(x=candy_data['chocolate'], y=candy_data['winpercent'])\n",
    "\n",
    "# Check your answer\n",
    "step_7.a.check()"
   ]
  },
  {
   "cell_type": "code",
   "execution_count": 25,
   "id": "dfc1e4b6",
   "metadata": {
    "execution": {
     "iopub.execute_input": "2022-11-15T02:21:52.840651Z",
     "iopub.status.busy": "2022-11-15T02:21:52.839425Z",
     "iopub.status.idle": "2022-11-15T02:21:52.844614Z",
     "shell.execute_reply": "2022-11-15T02:21:52.843748Z"
    },
    "papermill": {
     "duration": 0.023437,
     "end_time": "2022-11-15T02:21:52.846908",
     "exception": false,
     "start_time": "2022-11-15T02:21:52.823471",
     "status": "completed"
    },
    "tags": []
   },
   "outputs": [],
   "source": [
    "# Lines below will give you a hint or solution code\n",
    "#step_7.a.hint()\n",
    "#step_7.a.solution_plot()"
   ]
  },
  {
   "cell_type": "markdown",
   "id": "88c31330",
   "metadata": {
    "papermill": {
     "duration": 0.014072,
     "end_time": "2022-11-15T02:21:52.875223",
     "exception": false,
     "start_time": "2022-11-15T02:21:52.861151",
     "status": "completed"
    },
    "tags": []
   },
   "source": [
    "#### Part B\n",
    "\n",
    "You decide to dedicate a section of your report to the fact that chocolate candies tend to be more popular than candies without chocolate.  Which plot is more appropriate to tell this story: the plot from **Step 6**, or the plot from **Step 7**?"
   ]
  },
  {
   "cell_type": "code",
   "execution_count": 26,
   "id": "2be163e1",
   "metadata": {
    "execution": {
     "iopub.execute_input": "2022-11-15T02:21:52.906754Z",
     "iopub.status.busy": "2022-11-15T02:21:52.906242Z",
     "iopub.status.idle": "2022-11-15T02:21:52.911671Z",
     "shell.execute_reply": "2022-11-15T02:21:52.910272Z"
    },
    "papermill": {
     "duration": 0.024312,
     "end_time": "2022-11-15T02:21:52.914294",
     "exception": false,
     "start_time": "2022-11-15T02:21:52.889982",
     "status": "completed"
    },
    "tags": []
   },
   "outputs": [],
   "source": [
    "#step_7.b.hint()"
   ]
  },
  {
   "cell_type": "code",
   "execution_count": 27,
   "id": "9d87226f",
   "metadata": {
    "execution": {
     "iopub.execute_input": "2022-11-15T02:21:52.946158Z",
     "iopub.status.busy": "2022-11-15T02:21:52.945340Z",
     "iopub.status.idle": "2022-11-15T02:21:52.954636Z",
     "shell.execute_reply": "2022-11-15T02:21:52.953744Z"
    },
    "papermill": {
     "duration": 0.02769,
     "end_time": "2022-11-15T02:21:52.956837",
     "exception": false,
     "start_time": "2022-11-15T02:21:52.929147",
     "status": "completed"
    },
    "tags": []
   },
   "outputs": [
    {
     "data": {
      "application/javascript": [
       "parent.postMessage({\"jupyterEvent\": \"custom.exercise_interaction\", \"data\": {\"interactionType\": 3, \"questionType\": 4, \"questionId\": \"7.2_ThinkSwarm\", \"learnToolsVersion\": \"0.3.4\", \"valueTowardsCompletion\": 0.0, \"failureMessage\": \"\", \"exceptionClass\": \"\", \"trace\": \"\", \"outcomeType\": 4}}, \"*\")"
      ],
      "text/plain": [
       "<IPython.core.display.Javascript object>"
      ]
     },
     "metadata": {},
     "output_type": "display_data"
    },
    {
     "data": {
      "text/markdown": [
       "<span style=\"color:#33cc99\">Solution:</span> In this case, the categorical scatter plot from **Step 7** is the more appropriate plot. While both plots tell the desired story, the plot from **Step 6** conveys far more information that could distract from the main point."
      ],
      "text/plain": [
       "Solution: In this case, the categorical scatter plot from **Step 7** is the more appropriate plot. While both plots tell the desired story, the plot from **Step 6** conveys far more information that could distract from the main point."
      ]
     },
     "metadata": {},
     "output_type": "display_data"
    }
   ],
   "source": [
    "# Check your answer (Run this code cell to receive credit!)\n",
    "step_7.b.solution()"
   ]
  },
  {
   "cell_type": "markdown",
   "id": "f7e27a3d",
   "metadata": {
    "papermill": {
     "duration": 0.014428,
     "end_time": "2022-11-15T02:21:52.985777",
     "exception": false,
     "start_time": "2022-11-15T02:21:52.971349",
     "status": "completed"
    },
    "tags": []
   },
   "source": [
    "## Keep going\n",
    "\n",
    "Explore **[histograms and density plots](https://www.kaggle.com/alexisbcook/distributions)**."
   ]
  },
  {
   "cell_type": "markdown",
   "id": "7e6829e5",
   "metadata": {
    "papermill": {
     "duration": 0.01458,
     "end_time": "2022-11-15T02:21:53.015040",
     "exception": false,
     "start_time": "2022-11-15T02:21:53.000460",
     "status": "completed"
    },
    "tags": []
   },
   "source": [
    "---\n",
    "\n",
    "\n",
    "\n",
    "\n",
    "*Have questions or comments? Visit the [course discussion forum](https://www.kaggle.com/learn/data-visualization/discussion) to chat with other learners.*"
   ]
  }
 ],
 "metadata": {
  "kernelspec": {
   "display_name": "Python 3",
   "language": "python",
   "name": "python3"
  },
  "language_info": {
   "codemirror_mode": {
    "name": "ipython",
    "version": 3
   },
   "file_extension": ".py",
   "mimetype": "text/x-python",
   "name": "python",
   "nbconvert_exporter": "python",
   "pygments_lexer": "ipython3",
   "version": "3.7.12"
  },
  "papermill": {
   "default_parameters": {},
   "duration": 13.737287,
   "end_time": "2022-11-15T02:21:53.854774",
   "environment_variables": {},
   "exception": null,
   "input_path": "__notebook__.ipynb",
   "output_path": "__notebook__.ipynb",
   "parameters": {},
   "start_time": "2022-11-15T02:21:40.117487",
   "version": "2.3.4"
  }
 },
 "nbformat": 4,
 "nbformat_minor": 5
}
