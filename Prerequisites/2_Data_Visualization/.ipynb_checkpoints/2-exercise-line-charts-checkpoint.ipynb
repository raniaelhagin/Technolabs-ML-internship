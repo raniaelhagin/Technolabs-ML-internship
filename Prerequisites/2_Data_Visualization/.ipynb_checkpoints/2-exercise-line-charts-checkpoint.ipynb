{
 "cells": [
  {
   "cell_type": "markdown",
   "id": "87c81948",
   "metadata": {
    "papermill": {
     "duration": 0.006807,
     "end_time": "2022-11-15T00:30:08.841525",
     "exception": false,
     "start_time": "2022-11-15T00:30:08.834718",
     "status": "completed"
    },
    "tags": []
   },
   "source": [
    "**This notebook is an exercise in the [Data Visualization](https://www.kaggle.com/learn/data-visualization) course.  You can reference the tutorial at [this link](https://www.kaggle.com/alexisbcook/line-charts).**\n",
    "\n",
    "---\n"
   ]
  },
  {
   "cell_type": "markdown",
   "id": "8614e700",
   "metadata": {
    "papermill": {
     "duration": 0.005315,
     "end_time": "2022-11-15T00:30:08.852666",
     "exception": false,
     "start_time": "2022-11-15T00:30:08.847351",
     "status": "completed"
    },
    "tags": []
   },
   "source": [
    "In this exercise, you will use your new knowledge to propose a solution to a real-world scenario. To succeed, you will need to import data into Python, answer questions using the data, and generate **line charts** to understand patterns in the data.\n",
    "\n",
    "## Scenario\n",
    "\n",
    "You have recently been hired to manage the museums in the City of Los Angeles. Your first project focuses on the four museums pictured in the images below.\n",
    "\n",
    "![ex1_museums](https://i.imgur.com/pFYL8J1.png)\n",
    "\n",
    "You will leverage data from the Los Angeles [Data Portal](https://data.lacity.org/) that tracks monthly visitors to each museum.  \n",
    "\n",
    "![ex1_xlsx](https://i.imgur.com/mGWYlym.png)\n",
    "\n",
    "## Setup\n",
    "\n",
    "Run the next cell to import and configure the Python libraries that you need to complete the exercise."
   ]
  },
  {
   "cell_type": "code",
   "execution_count": 1,
   "id": "3578d632",
   "metadata": {
    "execution": {
     "iopub.execute_input": "2022-11-15T00:30:08.866105Z",
     "iopub.status.busy": "2022-11-15T00:30:08.865596Z",
     "iopub.status.idle": "2022-11-15T00:30:09.982473Z",
     "shell.execute_reply": "2022-11-15T00:30:09.981293Z"
    },
    "papermill": {
     "duration": 1.12698,
     "end_time": "2022-11-15T00:30:09.985333",
     "exception": false,
     "start_time": "2022-11-15T00:30:08.858353",
     "status": "completed"
    },
    "tags": []
   },
   "outputs": [
    {
     "name": "stdout",
     "output_type": "stream",
     "text": [
      "Setup Complete\n"
     ]
    }
   ],
   "source": [
    "import pandas as pd\n",
    "pd.plotting.register_matplotlib_converters()\n",
    "import matplotlib.pyplot as plt\n",
    "%matplotlib inline\n",
    "import seaborn as sns\n",
    "print(\"Setup Complete\")"
   ]
  },
  {
   "cell_type": "markdown",
   "id": "98ee0b3f",
   "metadata": {
    "papermill": {
     "duration": 0.006008,
     "end_time": "2022-11-15T00:30:09.997493",
     "exception": false,
     "start_time": "2022-11-15T00:30:09.991485",
     "status": "completed"
    },
    "tags": []
   },
   "source": [
    "The questions below will give you feedback on your work. Run the following cell to set up the feedback system."
   ]
  },
  {
   "cell_type": "code",
   "execution_count": 2,
   "id": "6343117d",
   "metadata": {
    "execution": {
     "iopub.execute_input": "2022-11-15T00:30:10.010929Z",
     "iopub.status.busy": "2022-11-15T00:30:10.010490Z",
     "iopub.status.idle": "2022-11-15T00:30:10.079306Z",
     "shell.execute_reply": "2022-11-15T00:30:10.077866Z"
    },
    "papermill": {
     "duration": 0.079106,
     "end_time": "2022-11-15T00:30:10.082483",
     "exception": false,
     "start_time": "2022-11-15T00:30:10.003377",
     "status": "completed"
    },
    "tags": []
   },
   "outputs": [
    {
     "name": "stdout",
     "output_type": "stream",
     "text": [
      "Setup Complete\n"
     ]
    }
   ],
   "source": [
    "# Set up code checking\n",
    "import os\n",
    "if not os.path.exists(\"../input/museum_visitors.csv\"):\n",
    "    os.symlink(\"../input/data-for-datavis/museum_visitors.csv\", \"../input/museum_visitors.csv\") \n",
    "from learntools.core import binder\n",
    "binder.bind(globals())\n",
    "from learntools.data_viz_to_coder.ex2 import *\n",
    "print(\"Setup Complete\")"
   ]
  },
  {
   "cell_type": "markdown",
   "id": "5e37c56c",
   "metadata": {
    "papermill": {
     "duration": 0.006697,
     "end_time": "2022-11-15T00:30:10.095817",
     "exception": false,
     "start_time": "2022-11-15T00:30:10.089120",
     "status": "completed"
    },
    "tags": []
   },
   "source": [
    "## Step 1: Load the data\n",
    "\n",
    "Your first assignment is to read the LA Museum Visitors data file into `museum_data`.  Note that:\n",
    "- The filepath to the dataset is stored as `museum_filepath`.  Please **do not** change the provided value of the filepath.\n",
    "- The name of the column to use as row labels is `\"Date\"`.  (This can be seen in cell A1 when the file is opened in Excel.)\n",
    "\n",
    "To help with this, you may find it useful to revisit some relevant code from the tutorial, which we have pasted below:\n",
    "\n",
    "```python\n",
    "# Path of the file to read\n",
    "spotify_filepath = \"../input/spotify.csv\"\n",
    "\n",
    "# Read the file into a variable spotify_data\n",
    "spotify_data = pd.read_csv(spotify_filepath, index_col=\"Date\", parse_dates=True)\n",
    "```\n",
    "\n",
    "The code you need to write now looks very similar!"
   ]
  },
  {
   "cell_type": "code",
   "execution_count": 3,
   "id": "3f0b2418",
   "metadata": {
    "execution": {
     "iopub.execute_input": "2022-11-15T00:30:10.111983Z",
     "iopub.status.busy": "2022-11-15T00:30:10.111440Z",
     "iopub.status.idle": "2022-11-15T00:30:10.131678Z",
     "shell.execute_reply": "2022-11-15T00:30:10.130423Z"
    },
    "papermill": {
     "duration": 0.031644,
     "end_time": "2022-11-15T00:30:10.135548",
     "exception": false,
     "start_time": "2022-11-15T00:30:10.103904",
     "status": "completed"
    },
    "tags": []
   },
   "outputs": [
    {
     "data": {
      "application/javascript": [
       "parent.postMessage({\"jupyterEvent\": \"custom.exercise_interaction\", \"data\": {\"outcomeType\": 1, \"valueTowardsCompletion\": 0.3333333333333333, \"interactionType\": 1, \"questionType\": 1, \"questionId\": \"1_LoadMuseumData\", \"learnToolsVersion\": \"0.3.4\", \"failureMessage\": \"\", \"exceptionClass\": \"\", \"trace\": \"\"}}, \"*\")"
      ],
      "text/plain": [
       "<IPython.core.display.Javascript object>"
      ]
     },
     "metadata": {},
     "output_type": "display_data"
    },
    {
     "data": {
      "text/markdown": [
       "<span style=\"color:#33cc33\">Correct</span>"
      ],
      "text/plain": [
       "Correct"
      ]
     },
     "metadata": {},
     "output_type": "display_data"
    }
   ],
   "source": [
    "# Path of the file to read\n",
    "museum_filepath = \"../input/museum_visitors.csv\"\n",
    "\n",
    "# Fill in the line below to read the file into a variable museum_data\n",
    "museum_data = pd.read_csv(museum_filepath, index_col='Date', parse_dates=True)\n",
    "\n",
    "# Run the line below with no changes to check that you've loaded the data correctly\n",
    "step_1.check()"
   ]
  },
  {
   "cell_type": "code",
   "execution_count": 4,
   "id": "ff55f353",
   "metadata": {
    "execution": {
     "iopub.execute_input": "2022-11-15T00:30:10.152429Z",
     "iopub.status.busy": "2022-11-15T00:30:10.151552Z",
     "iopub.status.idle": "2022-11-15T00:30:10.156204Z",
     "shell.execute_reply": "2022-11-15T00:30:10.155269Z"
    },
    "papermill": {
     "duration": 0.014228,
     "end_time": "2022-11-15T00:30:10.158408",
     "exception": false,
     "start_time": "2022-11-15T00:30:10.144180",
     "status": "completed"
    },
    "tags": []
   },
   "outputs": [],
   "source": [
    "# Uncomment the line below to receive a hint\n",
    "#step_1.hint()\n",
    "# Uncomment the line below to see the solution\n",
    "#step_1.solution()"
   ]
  },
  {
   "cell_type": "markdown",
   "id": "31d3896c",
   "metadata": {
    "papermill": {
     "duration": 0.005679,
     "end_time": "2022-11-15T00:30:10.171637",
     "exception": false,
     "start_time": "2022-11-15T00:30:10.165958",
     "status": "completed"
    },
    "tags": []
   },
   "source": [
    "## Step 2: Review the data\n",
    "\n",
    "Use a Python command to print the last 5 rows of the data."
   ]
  },
  {
   "cell_type": "code",
   "execution_count": 5,
   "id": "0fadcf78",
   "metadata": {
    "execution": {
     "iopub.execute_input": "2022-11-15T00:30:10.186144Z",
     "iopub.status.busy": "2022-11-15T00:30:10.185169Z",
     "iopub.status.idle": "2022-11-15T00:30:10.200909Z",
     "shell.execute_reply": "2022-11-15T00:30:10.199606Z"
    },
    "papermill": {
     "duration": 0.025955,
     "end_time": "2022-11-15T00:30:10.203563",
     "exception": false,
     "start_time": "2022-11-15T00:30:10.177608",
     "status": "completed"
    },
    "tags": []
   },
   "outputs": [
    {
     "data": {
      "text/html": [
       "<div>\n",
       "<style scoped>\n",
       "    .dataframe tbody tr th:only-of-type {\n",
       "        vertical-align: middle;\n",
       "    }\n",
       "\n",
       "    .dataframe tbody tr th {\n",
       "        vertical-align: top;\n",
       "    }\n",
       "\n",
       "    .dataframe thead th {\n",
       "        text-align: right;\n",
       "    }\n",
       "</style>\n",
       "<table border=\"1\" class=\"dataframe\">\n",
       "  <thead>\n",
       "    <tr style=\"text-align: right;\">\n",
       "      <th></th>\n",
       "      <th>Avila Adobe</th>\n",
       "      <th>Firehouse Museum</th>\n",
       "      <th>Chinese American Museum</th>\n",
       "      <th>America Tropical Interpretive Center</th>\n",
       "    </tr>\n",
       "    <tr>\n",
       "      <th>Date</th>\n",
       "      <th></th>\n",
       "      <th></th>\n",
       "      <th></th>\n",
       "      <th></th>\n",
       "    </tr>\n",
       "  </thead>\n",
       "  <tbody>\n",
       "    <tr>\n",
       "      <th>2018-07-01</th>\n",
       "      <td>23136</td>\n",
       "      <td>4191</td>\n",
       "      <td>2620</td>\n",
       "      <td>4718</td>\n",
       "    </tr>\n",
       "    <tr>\n",
       "      <th>2018-08-01</th>\n",
       "      <td>20815</td>\n",
       "      <td>4866</td>\n",
       "      <td>2409</td>\n",
       "      <td>3891</td>\n",
       "    </tr>\n",
       "    <tr>\n",
       "      <th>2018-09-01</th>\n",
       "      <td>21020</td>\n",
       "      <td>4956</td>\n",
       "      <td>2146</td>\n",
       "      <td>3180</td>\n",
       "    </tr>\n",
       "    <tr>\n",
       "      <th>2018-10-01</th>\n",
       "      <td>19280</td>\n",
       "      <td>4622</td>\n",
       "      <td>2364</td>\n",
       "      <td>3775</td>\n",
       "    </tr>\n",
       "    <tr>\n",
       "      <th>2018-11-01</th>\n",
       "      <td>17163</td>\n",
       "      <td>4082</td>\n",
       "      <td>2385</td>\n",
       "      <td>4562</td>\n",
       "    </tr>\n",
       "  </tbody>\n",
       "</table>\n",
       "</div>"
      ],
      "text/plain": [
       "            Avila Adobe  Firehouse Museum  Chinese American Museum  \\\n",
       "Date                                                                 \n",
       "2018-07-01        23136              4191                     2620   \n",
       "2018-08-01        20815              4866                     2409   \n",
       "2018-09-01        21020              4956                     2146   \n",
       "2018-10-01        19280              4622                     2364   \n",
       "2018-11-01        17163              4082                     2385   \n",
       "\n",
       "            America Tropical Interpretive Center  \n",
       "Date                                              \n",
       "2018-07-01                                  4718  \n",
       "2018-08-01                                  3891  \n",
       "2018-09-01                                  3180  \n",
       "2018-10-01                                  3775  \n",
       "2018-11-01                                  4562  "
      ]
     },
     "execution_count": 5,
     "metadata": {},
     "output_type": "execute_result"
    }
   ],
   "source": [
    "# Print the last five rows of the data \n",
    "museum_data.tail() # Your code here"
   ]
  },
  {
   "cell_type": "markdown",
   "id": "01e51cdd",
   "metadata": {
    "papermill": {
     "duration": 0.00596,
     "end_time": "2022-11-15T00:30:10.215891",
     "exception": false,
     "start_time": "2022-11-15T00:30:10.209931",
     "status": "completed"
    },
    "tags": []
   },
   "source": [
    "The last row (for `2018-11-01`) tracks the number of visitors to each museum in November 2018, the next-to-last row (for `2018-10-01`) tracks the number of visitors to each museum in October 2018, _and so on_.\n",
    "\n",
    "Use the last 5 rows of the data to answer the questions below."
   ]
  },
  {
   "cell_type": "code",
   "execution_count": 6,
   "id": "9a3258c9",
   "metadata": {
    "execution": {
     "iopub.execute_input": "2022-11-15T00:30:10.231315Z",
     "iopub.status.busy": "2022-11-15T00:30:10.229976Z",
     "iopub.status.idle": "2022-11-15T00:30:10.240902Z",
     "shell.execute_reply": "2022-11-15T00:30:10.239706Z"
    },
    "papermill": {
     "duration": 0.021008,
     "end_time": "2022-11-15T00:30:10.243144",
     "exception": false,
     "start_time": "2022-11-15T00:30:10.222136",
     "status": "completed"
    },
    "tags": []
   },
   "outputs": [
    {
     "data": {
      "application/javascript": [
       "parent.postMessage({\"jupyterEvent\": \"custom.exercise_interaction\", \"data\": {\"outcomeType\": 1, \"valueTowardsCompletion\": 0.3333333333333333, \"interactionType\": 1, \"questionType\": 1, \"questionId\": \"2_ReviewData\", \"learnToolsVersion\": \"0.3.4\", \"failureMessage\": \"\", \"exceptionClass\": \"\", \"trace\": \"\"}}, \"*\")"
      ],
      "text/plain": [
       "<IPython.core.display.Javascript object>"
      ]
     },
     "metadata": {},
     "output_type": "display_data"
    },
    {
     "data": {
      "text/markdown": [
       "<span style=\"color:#33cc33\">Correct</span>"
      ],
      "text/plain": [
       "Correct"
      ]
     },
     "metadata": {},
     "output_type": "display_data"
    }
   ],
   "source": [
    "# Fill in the line below: How many visitors did the Chinese American Museum \n",
    "# receive in July 2018?\n",
    "ca_museum_jul18 = 2620 \n",
    "\n",
    "# Fill in the line below: In October 2018, how many more visitors did Avila \n",
    "# Adobe receive than the Firehouse Museum?\n",
    "avila_oct18 = 19280 - 4622\n",
    "\n",
    "# Check your answers\n",
    "step_2.check()"
   ]
  },
  {
   "cell_type": "code",
   "execution_count": 7,
   "id": "040a6a0c",
   "metadata": {
    "execution": {
     "iopub.execute_input": "2022-11-15T00:30:10.258551Z",
     "iopub.status.busy": "2022-11-15T00:30:10.257842Z",
     "iopub.status.idle": "2022-11-15T00:30:10.262349Z",
     "shell.execute_reply": "2022-11-15T00:30:10.261094Z"
    },
    "papermill": {
     "duration": 0.014948,
     "end_time": "2022-11-15T00:30:10.264709",
     "exception": false,
     "start_time": "2022-11-15T00:30:10.249761",
     "status": "completed"
    },
    "tags": []
   },
   "outputs": [],
   "source": [
    "# Lines below will give you a hint or solution code\n",
    "#step_2.hint()\n",
    "#step_2.solution()"
   ]
  },
  {
   "cell_type": "markdown",
   "id": "f8f1afa2",
   "metadata": {
    "papermill": {
     "duration": 0.006213,
     "end_time": "2022-11-15T00:30:10.277711",
     "exception": false,
     "start_time": "2022-11-15T00:30:10.271498",
     "status": "completed"
    },
    "tags": []
   },
   "source": [
    "## Step 3: Convince the museum board \n",
    "\n",
    "The Firehouse Museum claims they ran an event in 2014 that brought an incredible number of visitors, and that they should get extra budget to run a similar event again.  The other museums think these types of events aren't that important, and budgets should be split purely based on recent visitors on an average day.  \n",
    "\n",
    "To show the museum board how the event compared to regular traffic at each museum, create a line chart that shows how the number of visitors to each museum evolved over time.  Your figure should have four lines (one for each museum).\n",
    "\n",
    "> **(Optional) Note**: If you have some prior experience with plotting figures in Python, you might be familiar with the `plt.show()` command.  If you decide to use this command, please place it **after** the line of code that checks your answer (in this case, place it after `step_3.check()` below) -- otherwise, the checking code will return an error!"
   ]
  },
  {
   "cell_type": "code",
   "execution_count": 8,
   "id": "2600d28b",
   "metadata": {
    "execution": {
     "iopub.execute_input": "2022-11-15T00:30:10.293146Z",
     "iopub.status.busy": "2022-11-15T00:30:10.292178Z",
     "iopub.status.idle": "2022-11-15T00:30:10.299883Z",
     "shell.execute_reply": "2022-11-15T00:30:10.298775Z"
    },
    "papermill": {
     "duration": 0.017607,
     "end_time": "2022-11-15T00:30:10.302067",
     "exception": false,
     "start_time": "2022-11-15T00:30:10.284460",
     "status": "completed"
    },
    "tags": []
   },
   "outputs": [
    {
     "data": {
      "text/plain": [
       "['Avila Adobe',\n",
       " 'Firehouse Museum',\n",
       " 'Chinese American Museum',\n",
       " 'America Tropical Interpretive Center']"
      ]
     },
     "execution_count": 8,
     "metadata": {},
     "output_type": "execute_result"
    }
   ],
   "source": [
    "list(museum_data.columns)"
   ]
  },
  {
   "cell_type": "code",
   "execution_count": 9,
   "id": "3d9dd706",
   "metadata": {
    "execution": {
     "iopub.execute_input": "2022-11-15T00:30:10.317207Z",
     "iopub.status.busy": "2022-11-15T00:30:10.316776Z",
     "iopub.status.idle": "2022-11-15T00:30:10.807672Z",
     "shell.execute_reply": "2022-11-15T00:30:10.806346Z"
    },
    "papermill": {
     "duration": 0.501971,
     "end_time": "2022-11-15T00:30:10.810756",
     "exception": false,
     "start_time": "2022-11-15T00:30:10.308785",
     "status": "completed"
    },
    "tags": []
   },
   "outputs": [
    {
     "data": {
      "application/javascript": [
       "parent.postMessage({\"jupyterEvent\": \"custom.exercise_interaction\", \"data\": {\"outcomeType\": 1, \"valueTowardsCompletion\": 0.3333333333333333, \"interactionType\": 1, \"questionType\": 2, \"questionId\": \"3_PlotAll\", \"learnToolsVersion\": \"0.3.4\", \"failureMessage\": \"\", \"exceptionClass\": \"\", \"trace\": \"\"}}, \"*\")"
      ],
      "text/plain": [
       "<IPython.core.display.Javascript object>"
      ]
     },
     "metadata": {},
     "output_type": "display_data"
    },
    {
     "data": {
      "text/markdown": [
       "<span style=\"color:#33cc33\">Correct</span>"
      ],
      "text/plain": [
       "Correct"
      ]
     },
     "metadata": {},
     "output_type": "display_data"
    },
    {
     "data": {
      "image/png": "[encoded data removed]",
      "text/plain": [
       "<Figure size 1008x432 with 1 Axes>"
      ]
     },
     "metadata": {
      "needs_background": "light"
     },
     "output_type": "display_data"
    }
   ],
   "source": [
    "# Line chart showing the number of visitors to each museum over time\n",
    "# Your code here\n",
    "plt.figure(figsize=(14, 6))\n",
    "\n",
    "plt.title(\"Number of visitors of each museum over time\")\n",
    "\n",
    "sns.lineplot(data=museum_data['Avila Adobe'], label='Avila Adobe')\n",
    "sns.lineplot(data=museum_data['Firehouse Museum'], label='Firehouse Museum')\n",
    "sns.lineplot(data=museum_data['Chinese American Museum'], label='Chinese American Museum')\n",
    "sns.lineplot(data=museum_data['America Tropical Interpretive Center'], label='America Tropical Interpretive Center')\n",
    "\n",
    "plt.xlabel(\"Date\")\n",
    "# Check your answer\n",
    "step_3.check()"
   ]
  },
  {
   "cell_type": "code",
   "execution_count": 10,
   "id": "1f859c8f",
   "metadata": {
    "execution": {
     "iopub.execute_input": "2022-11-15T00:30:10.828820Z",
     "iopub.status.busy": "2022-11-15T00:30:10.828418Z",
     "iopub.status.idle": "2022-11-15T00:30:10.833362Z",
     "shell.execute_reply": "2022-11-15T00:30:10.832104Z"
    },
    "papermill": {
     "duration": 0.016716,
     "end_time": "2022-11-15T00:30:10.835777",
     "exception": false,
     "start_time": "2022-11-15T00:30:10.819061",
     "status": "completed"
    },
    "tags": []
   },
   "outputs": [],
   "source": [
    "# Lines below will give you a hint or solution code\n",
    "#step_3.hint()\n",
    "#step_3.solution_plot()"
   ]
  },
  {
   "cell_type": "markdown",
   "id": "55d37c31",
   "metadata": {
    "papermill": {
     "duration": 0.007838,
     "end_time": "2022-11-15T00:30:10.851634",
     "exception": false,
     "start_time": "2022-11-15T00:30:10.843796",
     "status": "completed"
    },
    "tags": []
   },
   "source": [
    "## Step 4: Assess seasonality\n",
    "\n",
    "When meeting with the employees at Avila Adobe, you hear that one major pain point is that the number of museum visitors varies greatly with the seasons, with low seasons (when the employees are perfectly staffed and happy) and also high seasons (when the employees are understaffed and stressed).  You realize that if you can predict these high and low seasons, you can plan ahead to hire some additional seasonal employees to help out with the extra work.\n",
    "\n",
    "#### Part A\n",
    "Create a line chart that shows how the number of visitors to Avila Adobe has evolved over time.  (_If your code returns an error, the first thing that you should check is that you've spelled the name of the column correctly!  You must write the name of the column exactly as it appears in the dataset._)"
   ]
  },
  {
   "cell_type": "code",
   "execution_count": 11,
   "id": "2039ff9b",
   "metadata": {
    "execution": {
     "iopub.execute_input": "2022-11-15T00:30:10.870042Z",
     "iopub.status.busy": "2022-11-15T00:30:10.868894Z",
     "iopub.status.idle": "2022-11-15T00:30:11.179298Z",
     "shell.execute_reply": "2022-11-15T00:30:11.178142Z"
    },
    "papermill": {
     "duration": 0.322181,
     "end_time": "2022-11-15T00:30:11.181843",
     "exception": false,
     "start_time": "2022-11-15T00:30:10.859662",
     "status": "completed"
    },
    "tags": []
   },
   "outputs": [
    {
     "name": "stdout",
     "output_type": "stream",
     "text": [
      "Thank you for creating a line chart!  To see how your code compares to the official solution, please use the code cell below.\n"
     ]
    },
    {
     "data": {
      "application/javascript": [
       "parent.postMessage({\"jupyterEvent\": \"custom.exercise_interaction\", \"data\": {\"outcomeType\": 1, \"valueTowardsCompletion\": 0.3333333333333333, \"interactionType\": 1, \"questionType\": 2, \"questionId\": \"4.1_PlotAvila\", \"learnToolsVersion\": \"0.3.4\", \"failureMessage\": \"\", \"exceptionClass\": \"\", \"trace\": \"\"}}, \"*\")"
      ],
      "text/plain": [
       "<IPython.core.display.Javascript object>"
      ]
     },
     "metadata": {},
     "output_type": "display_data"
    },
    {
     "data": {
      "text/markdown": [
       "<span style=\"color:#33cc33\">Correct</span>"
      ],
      "text/plain": [
       "Correct"
      ]
     },
     "metadata": {},
     "output_type": "display_data"
    },
    {
     "data": {
      "image/png": "[encoded data removed]",
      "text/plain": [
       "<Figure size 1008x432 with 1 Axes>"
      ]
     },
     "metadata": {
      "needs_background": "light"
     },
     "output_type": "display_data"
    }
   ],
   "source": [
    "# Line plot showing the number of visitors to Avila Adobe over time\n",
    "# Your code here\n",
    "plt.figure(figsize=(14, 6))\n",
    "plt.title(\"Monthly visitors of Avila Adobe Museum\")\n",
    "sns.lineplot(data=museum_data['Avila Adobe'], label='Avila Adobe')\n",
    "plt.xlabel(\"Date\")\n",
    "\n",
    "# Check your answer\n",
    "step_4.a.check()"
   ]
  },
  {
   "cell_type": "code",
   "execution_count": 12,
   "id": "80e1e7f1",
   "metadata": {
    "execution": {
     "iopub.execute_input": "2022-11-15T00:30:11.202843Z",
     "iopub.status.busy": "2022-11-15T00:30:11.202388Z",
     "iopub.status.idle": "2022-11-15T00:30:11.206811Z",
     "shell.execute_reply": "2022-11-15T00:30:11.205762Z"
    },
    "papermill": {
     "duration": 0.017428,
     "end_time": "2022-11-15T00:30:11.209256",
     "exception": false,
     "start_time": "2022-11-15T00:30:11.191828",
     "status": "completed"
    },
    "tags": []
   },
   "outputs": [],
   "source": [
    "# Lines below will give you a hint or solution code\n",
    "#step_4.a.hint()\n",
    "# step_4.a.solution_plot()"
   ]
  },
  {
   "cell_type": "markdown",
   "id": "5bb1cfaa",
   "metadata": {
    "papermill": {
     "duration": 0.008896,
     "end_time": "2022-11-15T00:30:11.227600",
     "exception": false,
     "start_time": "2022-11-15T00:30:11.218704",
     "status": "completed"
    },
    "tags": []
   },
   "source": [
    "#### Part B\n",
    "\n",
    "Does Avila Adobe get more visitors:\n",
    "- in September-February (in LA, the fall and winter months), or \n",
    "- in March-August (in LA, the spring and summer)?  \n",
    "\n",
    "Using this information, when should the museum staff additional seasonal employees?"
   ]
  },
  {
   "cell_type": "code",
   "execution_count": 13,
   "id": "7700a9de",
   "metadata": {
    "execution": {
     "iopub.execute_input": "2022-11-15T00:30:11.247923Z",
     "iopub.status.busy": "2022-11-15T00:30:11.247490Z",
     "iopub.status.idle": "2022-11-15T00:30:11.252224Z",
     "shell.execute_reply": "2022-11-15T00:30:11.251032Z"
    },
    "papermill": {
     "duration": 0.01807,
     "end_time": "2022-11-15T00:30:11.254853",
     "exception": false,
     "start_time": "2022-11-15T00:30:11.236783",
     "status": "completed"
    },
    "tags": []
   },
   "outputs": [],
   "source": [
    "#step_4.b.hint()"
   ]
  },
  {
   "cell_type": "code",
   "execution_count": 14,
   "id": "d7d8bc8f",
   "metadata": {
    "execution": {
     "iopub.execute_input": "2022-11-15T00:30:11.275376Z",
     "iopub.status.busy": "2022-11-15T00:30:11.274963Z",
     "iopub.status.idle": "2022-11-15T00:30:11.284731Z",
     "shell.execute_reply": "2022-11-15T00:30:11.283496Z"
    },
    "papermill": {
     "duration": 0.022639,
     "end_time": "2022-11-15T00:30:11.286995",
     "exception": false,
     "start_time": "2022-11-15T00:30:11.264356",
     "status": "completed"
    },
    "tags": []
   },
   "outputs": [
    {
     "data": {
      "application/javascript": [
       "parent.postMessage({\"jupyterEvent\": \"custom.exercise_interaction\", \"data\": {\"interactionType\": 3, \"questionType\": 4, \"questionId\": \"4.2_ThinkAvila\", \"learnToolsVersion\": \"0.3.4\", \"valueTowardsCompletion\": 0.0, \"failureMessage\": \"\", \"exceptionClass\": \"\", \"trace\": \"\", \"outcomeType\": 4}}, \"*\")"
      ],
      "text/plain": [
       "<IPython.core.display.Javascript object>"
      ]
     },
     "metadata": {},
     "output_type": "display_data"
    },
    {
     "data": {
      "text/markdown": [
       "<span style=\"color:#33cc99\">Solution:</span> The line chart generally dips to relatively low values around the early part of each year (in December and January), and reaches its highest values in the middle of the year (especially around May and June).  Thus, Avila Adobe usually gets more visitors in March-August (or the spring and summer months).  With this in mind, Avila Adobe could definitely benefit from hiring more seasonal employees to help with the extra work in March-August (the spring and summer)!"
      ],
      "text/plain": [
       "Solution: The line chart generally dips to relatively low values around the early part of each year (in December and January), and reaches its highest values in the middle of the year (especially around May and June).  Thus, Avila Adobe usually gets more visitors in March-August (or the spring and summer months).  With this in mind, Avila Adobe could definitely benefit from hiring more seasonal employees to help with the extra work in March-August (the spring and summer)!"
      ]
     },
     "metadata": {},
     "output_type": "display_data"
    }
   ],
   "source": [
    "# Check your answer (Run this code cell to receive credit!)\n",
    "step_4.b.solution()"
   ]
  },
  {
   "cell_type": "markdown",
   "id": "0ced9b8d",
   "metadata": {
    "papermill": {
     "duration": 0.009061,
     "end_time": "2022-11-15T00:30:11.305469",
     "exception": false,
     "start_time": "2022-11-15T00:30:11.296408",
     "status": "completed"
    },
    "tags": []
   },
   "source": [
    "# Keep going\n",
    "\n",
    "Move on to learn about **[bar charts and heatmaps](https://www.kaggle.com/alexisbcook/bar-charts-and-heatmaps)** with a new dataset!"
   ]
  },
  {
   "cell_type": "markdown",
   "id": "2e30fd3c",
   "metadata": {
    "papermill": {
     "duration": 0.008995,
     "end_time": "2022-11-15T00:30:11.323951",
     "exception": false,
     "start_time": "2022-11-15T00:30:11.314956",
     "status": "completed"
    },
    "tags": []
   },
   "source": [
    "---\n",
    "\n",
    "\n",
    "\n",
    "\n",
    "*Have questions or comments? Visit the [course discussion forum](https://www.kaggle.com/learn/data-visualization/discussion) to chat with other learners.*"
   ]
  }
 ],
 "metadata": {
  "kernelspec": {
   "display_name": "Python 3 (ipykernel)",
   "language": "python",
   "name": "python3"
  },
  "language_info": {
   "codemirror_mode": {
    "name": "ipython",
    "version": 3
   },
   "file_extension": ".py",
   "mimetype": "text/x-python",
   "name": "python",
   "nbconvert_exporter": "python",
   "pygments_lexer": "ipython3",
   "version": "3.9.12"
  },
  "papermill": {
   "default_parameters": {},
   "duration": 12.222964,
   "end_time": "2022-11-15T00:30:12.055874",
   "environment_variables": {},
   "exception": null,
   "input_path": "__notebook__.ipynb",
   "output_path": "__notebook__.ipynb",
   "parameters": {},
   "start_time": "2022-11-15T00:29:59.832910",
   "version": "2.3.4"
  }
 },
 "nbformat": 4,
 "nbformat_minor": 5
}
