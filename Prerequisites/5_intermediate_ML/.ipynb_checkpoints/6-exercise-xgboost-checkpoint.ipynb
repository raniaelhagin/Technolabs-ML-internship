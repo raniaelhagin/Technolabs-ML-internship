{
 "cells": [
  {
   "cell_type": "markdown",
   "id": "9a0036b8",
   "metadata": {
    "papermill": {
     "duration": 0.007625,
     "end_time": "2022-11-19T21:59:04.008334",
     "exception": false,
     "start_time": "2022-11-19T21:59:04.000709",
     "status": "completed"
    },
    "tags": []
   },
   "source": [
    "**This notebook is an exercise in the [Intermediate Machine Learning](https://www.kaggle.com/learn/intermediate-machine-learning) course.  You can reference the tutorial at [this link](https://www.kaggle.com/alexisbcook/xgboost).**\n",
    "\n",
    "---\n"
   ]
  },
  {
   "cell_type": "markdown",
   "id": "92bf1595",
   "metadata": {
    "papermill": {
     "duration": 0.005795,
     "end_time": "2022-11-19T21:59:04.020582",
     "exception": false,
     "start_time": "2022-11-19T21:59:04.014787",
     "status": "completed"
    },
    "tags": []
   },
   "source": [
    "In this exercise, you will use your new knowledge to train a model with **gradient boosting**.\n",
    "\n",
    "# Setup\n",
    "\n",
    "The questions below will give you feedback on your work. Run the following cell to set up the feedback system."
   ]
  },
  {
   "cell_type": "code",
   "execution_count": 1,
   "id": "64ab8559",
   "metadata": {
    "execution": {
     "iopub.execute_input": "2022-11-19T21:59:04.035194Z",
     "iopub.status.busy": "2022-11-19T21:59:04.034632Z",
     "iopub.status.idle": "2022-11-19T21:59:06.600134Z",
     "shell.execute_reply": "2022-11-19T21:59:06.598623Z"
    },
    "papermill": {
     "duration": 2.57706,
     "end_time": "2022-11-19T21:59:06.603861",
     "exception": false,
     "start_time": "2022-11-19T21:59:04.026801",
     "status": "completed"
    },
    "tags": []
   },
   "outputs": [
    {
     "name": "stdout",
     "output_type": "stream",
     "text": [
      "Setup Complete\n"
     ]
    }
   ],
   "source": [
    "# Set up code checking\n",
    "import os\n",
    "if not os.path.exists(\"../input/train.csv\"):\n",
    "    os.symlink(\"../input/home-data-for-ml-course/train.csv\", \"../input/train.csv\")  \n",
    "    os.symlink(\"../input/home-data-for-ml-course/test.csv\", \"../input/test.csv\") \n",
    "from learntools.core import binder\n",
    "binder.bind(globals())\n",
    "from learntools.ml_intermediate.ex6 import *\n",
    "print(\"Setup Complete\")"
   ]
  },
  {
   "cell_type": "markdown",
   "id": "1f27cc5e",
   "metadata": {
    "papermill": {
     "duration": 0.006135,
     "end_time": "2022-11-19T21:59:06.617374",
     "exception": false,
     "start_time": "2022-11-19T21:59:06.611239",
     "status": "completed"
    },
    "tags": []
   },
   "source": [
    "You will work with the [Housing Prices Competition for Kaggle Learn Users](https://www.kaggle.com/c/home-data-for-ml-course) dataset from the previous exercise. \n",
    "\n",
    "![Ames Housing dataset image](https://i.imgur.com/lTJVG4e.png)\n",
    "\n",
    "Run the next code cell without changes to load the training and validation sets in `X_train`, `X_valid`, `y_train`, and `y_valid`.  The test set is loaded in `X_test`."
   ]
  },
  {
   "cell_type": "code",
   "execution_count": 2,
   "id": "23555037",
   "metadata": {
    "execution": {
     "iopub.execute_input": "2022-11-19T21:59:06.631987Z",
     "iopub.status.busy": "2022-11-19T21:59:06.631556Z",
     "iopub.status.idle": "2022-11-19T21:59:06.827429Z",
     "shell.execute_reply": "2022-11-19T21:59:06.826276Z"
    },
    "papermill": {
     "duration": 0.206907,
     "end_time": "2022-11-19T21:59:06.830622",
     "exception": false,
     "start_time": "2022-11-19T21:59:06.623715",
     "status": "completed"
    },
    "tags": []
   },
   "outputs": [],
   "source": [
    "import pandas as pd\n",
    "from sklearn.model_selection import train_test_split\n",
    "\n",
    "# Read the data\n",
    "X = pd.read_csv('../input/train.csv', index_col='Id')\n",
    "X_test_full = pd.read_csv('../input/test.csv', index_col='Id')\n",
    "\n",
    "# Remove rows with missing target, separate target from predictors\n",
    "X.dropna(axis=0, subset=['SalePrice'], inplace=True)\n",
    "y = X.SalePrice              \n",
    "X.drop(['SalePrice'], axis=1, inplace=True)\n",
    "\n",
    "# Break off validation set from training data\n",
    "X_train_full, X_valid_full, y_train, y_valid = train_test_split(X, y, train_size=0.8, test_size=0.2,\n",
    "                                                                random_state=0)\n",
    "\n",
    "# \"Cardinality\" means the number of unique values in a column\n",
    "# Select categorical columns with relatively low cardinality (convenient but arbitrary)\n",
    "low_cardinality_cols = [cname for cname in X_train_full.columns if X_train_full[cname].nunique() < 10 and \n",
    "                        X_train_full[cname].dtype == \"object\"]\n",
    "\n",
    "# Select numeric columns\n",
    "numeric_cols = [cname for cname in X_train_full.columns if X_train_full[cname].dtype in ['int64', 'float64']]\n",
    "\n",
    "# Keep selected columns only\n",
    "my_cols = low_cardinality_cols + numeric_cols\n",
    "X_train = X_train_full[my_cols].copy()\n",
    "X_valid = X_valid_full[my_cols].copy()\n",
    "X_test = X_test_full[my_cols].copy()\n",
    "\n",
    "# One-hot encode the data (to shorten the code, we use pandas)\n",
    "X_train = pd.get_dummies(X_train)\n",
    "X_valid = pd.get_dummies(X_valid)\n",
    "X_test = pd.get_dummies(X_test)\n",
    "X_train, X_valid = X_train.align(X_valid, join='left', axis=1)\n",
    "X_train, X_test = X_train.align(X_test, join='left', axis=1)"
   ]
  },
  {
   "cell_type": "markdown",
   "id": "84a23043",
   "metadata": {
    "papermill": {
     "duration": 0.006318,
     "end_time": "2022-11-19T21:59:06.843372",
     "exception": false,
     "start_time": "2022-11-19T21:59:06.837054",
     "status": "completed"
    },
    "tags": []
   },
   "source": [
    "# Step 1: Build model\n",
    "\n",
    "### Part A\n",
    "\n",
    "In this step, you'll build and train your first model with gradient boosting.\n",
    "\n",
    "- Begin by setting `my_model_1` to an XGBoost model.  Use the [XGBRegressor](https://xgboost.readthedocs.io/en/latest/python/python_api.html#xgboost.XGBRegressor) class, and set the random seed to 0 (`random_state=0`).  **Leave all other parameters as default.**\n",
    "- Then, fit the model to the training data in `X_train` and `y_train`."
   ]
  },
  {
   "cell_type": "code",
   "execution_count": 3,
   "id": "2e156a0b",
   "metadata": {
    "execution": {
     "iopub.execute_input": "2022-11-19T21:59:06.858304Z",
     "iopub.status.busy": "2022-11-19T21:59:06.857890Z",
     "iopub.status.idle": "2022-11-19T21:59:07.832950Z",
     "shell.execute_reply": "2022-11-19T21:59:07.832004Z"
    },
    "papermill": {
     "duration": 0.985805,
     "end_time": "2022-11-19T21:59:07.835623",
     "exception": false,
     "start_time": "2022-11-19T21:59:06.849818",
     "status": "completed"
    },
    "tags": []
   },
   "outputs": [
    {
     "data": {
      "application/javascript": [
       "parent.postMessage({\"jupyterEvent\": \"custom.exercise_interaction\", \"data\": {\"outcomeType\": 1, \"valueTowardsCompletion\": 0.5, \"interactionType\": 1, \"questionType\": 2, \"questionId\": \"1.1_Model1A\", \"learnToolsVersion\": \"0.3.4\", \"failureMessage\": \"\", \"exceptionClass\": \"\", \"trace\": \"\"}}, \"*\")"
      ],
      "text/plain": [
       "<IPython.core.display.Javascript object>"
      ]
     },
     "metadata": {},
     "output_type": "display_data"
    },
    {
     "data": {
      "text/markdown": [
       "<span style=\"color:#33cc33\">Correct</span>"
      ],
      "text/plain": [
       "Correct"
      ]
     },
     "metadata": {},
     "output_type": "display_data"
    }
   ],
   "source": [
    "from xgboost import XGBRegressor\n",
    "\n",
    "# Define the model\n",
    "my_model_1 = XGBRegressor(random_state=0) # Your code here\n",
    "\n",
    "# Fit the model\n",
    "my_model_1.fit(X_train, y_train) # Your code here\n",
    "\n",
    "# Check your answer\n",
    "step_1.a.check()"
   ]
  },
  {
   "cell_type": "code",
   "execution_count": 4,
   "id": "171bf6d5",
   "metadata": {
    "execution": {
     "iopub.execute_input": "2022-11-19T21:59:07.851986Z",
     "iopub.status.busy": "2022-11-19T21:59:07.851528Z",
     "iopub.status.idle": "2022-11-19T21:59:07.856304Z",
     "shell.execute_reply": "2022-11-19T21:59:07.855104Z"
    },
    "papermill": {
     "duration": 0.016778,
     "end_time": "2022-11-19T21:59:07.858975",
     "exception": false,
     "start_time": "2022-11-19T21:59:07.842197",
     "status": "completed"
    },
    "tags": []
   },
   "outputs": [],
   "source": [
    "# Lines below will give you a hint or solution code\n",
    "#step_1.a.hint()\n",
    "#step_1.a.solution()"
   ]
  },
  {
   "cell_type": "markdown",
   "id": "bc5ad7f5",
   "metadata": {
    "papermill": {
     "duration": 0.006779,
     "end_time": "2022-11-19T21:59:07.872356",
     "exception": false,
     "start_time": "2022-11-19T21:59:07.865577",
     "status": "completed"
    },
    "tags": []
   },
   "source": [
    "### Part B\n",
    "\n",
    "Set `predictions_1` to the model's predictions for the validation data.  Recall that the validation features are stored in `X_valid`."
   ]
  },
  {
   "cell_type": "code",
   "execution_count": 5,
   "id": "844a4237",
   "metadata": {
    "execution": {
     "iopub.execute_input": "2022-11-19T21:59:07.887537Z",
     "iopub.status.busy": "2022-11-19T21:59:07.887150Z",
     "iopub.status.idle": "2022-11-19T21:59:07.914689Z",
     "shell.execute_reply": "2022-11-19T21:59:07.913421Z"
    },
    "papermill": {
     "duration": 0.038166,
     "end_time": "2022-11-19T21:59:07.917510",
     "exception": false,
     "start_time": "2022-11-19T21:59:07.879344",
     "status": "completed"
    },
    "tags": []
   },
   "outputs": [
    {
     "data": {
      "application/javascript": [
       "parent.postMessage({\"jupyterEvent\": \"custom.exercise_interaction\", \"data\": {\"outcomeType\": 1, \"valueTowardsCompletion\": 0.5, \"interactionType\": 1, \"questionType\": 2, \"questionId\": \"1.2_Model1B\", \"learnToolsVersion\": \"0.3.4\", \"failureMessage\": \"\", \"exceptionClass\": \"\", \"trace\": \"\"}}, \"*\")"
      ],
      "text/plain": [
       "<IPython.core.display.Javascript object>"
      ]
     },
     "metadata": {},
     "output_type": "display_data"
    },
    {
     "data": {
      "text/markdown": [
       "<span style=\"color:#33cc33\">Correct</span>"
      ],
      "text/plain": [
       "Correct"
      ]
     },
     "metadata": {},
     "output_type": "display_data"
    }
   ],
   "source": [
    "from sklearn.metrics import mean_absolute_error\n",
    "\n",
    "# Get predictions\n",
    "predictions_1 = my_model_1.predict(X_valid) # Your code here\n",
    "\n",
    "# Check your answer\n",
    "step_1.b.check()"
   ]
  },
  {
   "cell_type": "code",
   "execution_count": 6,
   "id": "e9795c93",
   "metadata": {
    "execution": {
     "iopub.execute_input": "2022-11-19T21:59:07.934157Z",
     "iopub.status.busy": "2022-11-19T21:59:07.933723Z",
     "iopub.status.idle": "2022-11-19T21:59:07.938841Z",
     "shell.execute_reply": "2022-11-19T21:59:07.937693Z"
    },
    "papermill": {
     "duration": 0.016455,
     "end_time": "2022-11-19T21:59:07.941408",
     "exception": false,
     "start_time": "2022-11-19T21:59:07.924953",
     "status": "completed"
    },
    "tags": []
   },
   "outputs": [],
   "source": [
    "# Lines below will give you a hint or solution code\n",
    "#step_1.b.hint()\n",
    "#step_1.b.solution()"
   ]
  },
  {
   "cell_type": "markdown",
   "id": "9d7a04d1",
   "metadata": {
    "papermill": {
     "duration": 0.006429,
     "end_time": "2022-11-19T21:59:07.954676",
     "exception": false,
     "start_time": "2022-11-19T21:59:07.948247",
     "status": "completed"
    },
    "tags": []
   },
   "source": [
    "### Part C\n",
    "\n",
    "Finally, use the `mean_absolute_error()` function to calculate the mean absolute error (MAE) corresponding to the predictions for the validation set.  Recall that the labels for the validation data are stored in `y_valid`."
   ]
  },
  {
   "cell_type": "code",
   "execution_count": 7,
   "id": "3caa3dbb",
   "metadata": {
    "execution": {
     "iopub.execute_input": "2022-11-19T21:59:07.970336Z",
     "iopub.status.busy": "2022-11-19T21:59:07.969861Z",
     "iopub.status.idle": "2022-11-19T21:59:07.980971Z",
     "shell.execute_reply": "2022-11-19T21:59:07.979749Z"
    },
    "papermill": {
     "duration": 0.022088,
     "end_time": "2022-11-19T21:59:07.983528",
     "exception": false,
     "start_time": "2022-11-19T21:59:07.961440",
     "status": "completed"
    },
    "tags": []
   },
   "outputs": [
    {
     "data": {
      "application/javascript": [
       "parent.postMessage({\"jupyterEvent\": \"custom.exercise_interaction\", \"data\": {\"outcomeType\": 1, \"valueTowardsCompletion\": 0.5, \"interactionType\": 1, \"questionType\": 2, \"questionId\": \"1.3_Model1C\", \"learnToolsVersion\": \"0.3.4\", \"failureMessage\": \"\", \"exceptionClass\": \"\", \"trace\": \"\"}}, \"*\")"
      ],
      "text/plain": [
       "<IPython.core.display.Javascript object>"
      ]
     },
     "metadata": {},
     "output_type": "display_data"
    },
    {
     "data": {
      "text/markdown": [
       "<span style=\"color:#33cc33\">Correct</span>"
      ],
      "text/plain": [
       "Correct"
      ]
     },
     "metadata": {},
     "output_type": "display_data"
    }
   ],
   "source": [
    "# Calculate MAE\n",
    "mae_1 = mean_absolute_error(y_valid, predictions_1) # Your code here\n",
    "\n",
    "# Uncomment to print MAE\n",
    "# print(\"Mean Absolute Error:\" , mae_1)\n",
    "\n",
    "# Check your answer\n",
    "step_1.c.check()"
   ]
  },
  {
   "cell_type": "code",
   "execution_count": 8,
   "id": "b5de56d5",
   "metadata": {
    "execution": {
     "iopub.execute_input": "2022-11-19T21:59:08.000948Z",
     "iopub.status.busy": "2022-11-19T21:59:08.000497Z",
     "iopub.status.idle": "2022-11-19T21:59:08.008050Z",
     "shell.execute_reply": "2022-11-19T21:59:08.006560Z"
    },
    "papermill": {
     "duration": 0.019215,
     "end_time": "2022-11-19T21:59:08.010393",
     "exception": false,
     "start_time": "2022-11-19T21:59:07.991178",
     "status": "completed"
    },
    "tags": []
   },
   "outputs": [
    {
     "data": {
      "text/plain": [
       "17662.736729452055"
      ]
     },
     "execution_count": 8,
     "metadata": {},
     "output_type": "execute_result"
    }
   ],
   "source": [
    "mae_1"
   ]
  },
  {
   "cell_type": "code",
   "execution_count": 9,
   "id": "81bd8738",
   "metadata": {
    "execution": {
     "iopub.execute_input": "2022-11-19T21:59:08.026693Z",
     "iopub.status.busy": "2022-11-19T21:59:08.026265Z",
     "iopub.status.idle": "2022-11-19T21:59:08.031098Z",
     "shell.execute_reply": "2022-11-19T21:59:08.029877Z"
    },
    "papermill": {
     "duration": 0.015866,
     "end_time": "2022-11-19T21:59:08.033424",
     "exception": false,
     "start_time": "2022-11-19T21:59:08.017558",
     "status": "completed"
    },
    "tags": []
   },
   "outputs": [],
   "source": [
    "# Lines below will give you a hint or solution code\n",
    "#step_1.c.hint()\n",
    "#step_1.c.solution()"
   ]
  },
  {
   "cell_type": "markdown",
   "id": "744b3b7f",
   "metadata": {
    "papermill": {
     "duration": 0.007227,
     "end_time": "2022-11-19T21:59:08.047980",
     "exception": false,
     "start_time": "2022-11-19T21:59:08.040753",
     "status": "completed"
    },
    "tags": []
   },
   "source": [
    "# Step 2: Improve the model\n",
    "\n",
    "Now that you've trained a default model as baseline, it's time to tinker with the parameters, to see if you can get better performance!\n",
    "- Begin by setting `my_model_2` to an XGBoost model, using the [XGBRegressor](https://xgboost.readthedocs.io/en/latest/python/python_api.html#xgboost.XGBRegressor) class.  Use what you learned in the previous tutorial to figure out how to change the default parameters (like `n_estimators` and `learning_rate`) to get better results.\n",
    "- Then, fit the model to the training data in `X_train` and `y_train`.\n",
    "- Set `predictions_2` to the model's predictions for the validation data.  Recall that the validation features are stored in `X_valid`.\n",
    "- Finally, use the `mean_absolute_error()` function to calculate the mean absolute error (MAE) corresponding to the predictions on the validation set.  Recall that the labels for the validation data are stored in `y_valid`.\n",
    "\n",
    "In order for this step to be marked correct, your model in `my_model_2` must attain lower MAE than the model in `my_model_1`. "
   ]
  },
  {
   "cell_type": "code",
   "execution_count": 10,
   "id": "86a7644c",
   "metadata": {
    "execution": {
     "iopub.execute_input": "2022-11-19T21:59:08.064639Z",
     "iopub.status.busy": "2022-11-19T21:59:08.064174Z",
     "iopub.status.idle": "2022-11-19T21:59:09.528965Z",
     "shell.execute_reply": "2022-11-19T21:59:09.527979Z"
    },
    "papermill": {
     "duration": 1.475998,
     "end_time": "2022-11-19T21:59:09.531514",
     "exception": false,
     "start_time": "2022-11-19T21:59:08.055516",
     "status": "completed"
    },
    "tags": []
   },
   "outputs": [
    {
     "name": "stdout",
     "output_type": "stream",
     "text": [
      "Mean Absolute Error: 17661.037778253423\n"
     ]
    },
    {
     "data": {
      "application/javascript": [
       "parent.postMessage({\"jupyterEvent\": \"custom.exercise_interaction\", \"data\": {\"outcomeType\": 1, \"valueTowardsCompletion\": 0.5, \"interactionType\": 1, \"questionType\": 2, \"questionId\": \"2_Model2\", \"learnToolsVersion\": \"0.3.4\", \"failureMessage\": \"\", \"exceptionClass\": \"\", \"trace\": \"\"}}, \"*\")"
      ],
      "text/plain": [
       "<IPython.core.display.Javascript object>"
      ]
     },
     "metadata": {},
     "output_type": "display_data"
    },
    {
     "data": {
      "text/markdown": [
       "<span style=\"color:#33cc33\">Correct</span>"
      ],
      "text/plain": [
       "Correct"
      ]
     },
     "metadata": {},
     "output_type": "display_data"
    }
   ],
   "source": [
    "# mae = dict()\n",
    "# for i in range(50, 1000, 50):\n",
    "#     # Define the model\n",
    "#     my_model_2 = XGBRegressor(n_estimators=i, random_state=0) # Your code here\n",
    "\n",
    "#     # Fit the model\n",
    "#     my_model_2.fit(X_train, y_train) # Your code here\n",
    "\n",
    "#     # Get predictions\n",
    "#     predictions_2 = my_model_2.predict(X_valid) # Your code here\n",
    "\n",
    "#     # Calculate MAE\n",
    "#     mae_2 = mean_absolute_error(y_valid, predictions_2) # Your code here\n",
    "    \n",
    "#     mae[i] = mae_2\n",
    "    \n",
    "#     print(mae_2)\n",
    "    \n",
    "# print(mae)\n",
    "\n",
    "# Define the model\n",
    "my_model_2 = XGBRegressor(n_estimators=150, random_state=0) # Your code here\n",
    "\n",
    "# Fit the model\n",
    "my_model_2.fit(X_train, y_train) # Your code here\n",
    "\n",
    "# Get predictions\n",
    "predictions_2 = my_model_2.predict(X_valid) # Your code here\n",
    "\n",
    "# Calculate MAE\n",
    "mae_2 = mean_absolute_error(y_valid, predictions_2) # Your code here\n",
    "\n",
    "# Uncomment to print MAE\n",
    "print(\"Mean Absolute Error:\" , mae_2)\n",
    "\n",
    "# Check your answer\n",
    "step_2.check()"
   ]
  },
  {
   "cell_type": "code",
   "execution_count": 11,
   "id": "8e229253",
   "metadata": {
    "execution": {
     "iopub.execute_input": "2022-11-19T21:59:09.548937Z",
     "iopub.status.busy": "2022-11-19T21:59:09.548467Z",
     "iopub.status.idle": "2022-11-19T21:59:09.553431Z",
     "shell.execute_reply": "2022-11-19T21:59:09.552133Z"
    },
    "papermill": {
     "duration": 0.016532,
     "end_time": "2022-11-19T21:59:09.555804",
     "exception": false,
     "start_time": "2022-11-19T21:59:09.539272",
     "status": "completed"
    },
    "tags": []
   },
   "outputs": [],
   "source": [
    "# Lines below will give you a hint or solution code\n",
    "#step_2.hint()\n",
    "#step_2.solution()"
   ]
  },
  {
   "cell_type": "code",
   "execution_count": 12,
   "id": "b040caae",
   "metadata": {
    "execution": {
     "iopub.execute_input": "2022-11-19T21:59:09.573812Z",
     "iopub.status.busy": "2022-11-19T21:59:09.572658Z",
     "iopub.status.idle": "2022-11-19T21:59:11.071391Z",
     "shell.execute_reply": "2022-11-19T21:59:11.070208Z"
    },
    "papermill": {
     "duration": 1.510642,
     "end_time": "2022-11-19T21:59:11.074165",
     "exception": false,
     "start_time": "2022-11-19T21:59:09.563523",
     "status": "completed"
    },
    "tags": []
   },
   "outputs": [
    {
     "name": "stdout",
     "output_type": "stream",
     "text": [
      "Mean Absolute Error: 16973.43865047089\n"
     ]
    },
    {
     "data": {
      "application/javascript": [
       "parent.postMessage({\"jupyterEvent\": \"custom.exercise_interaction\", \"data\": {\"outcomeType\": 1, \"valueTowardsCompletion\": 0.5, \"interactionType\": 1, \"questionType\": 2, \"questionId\": \"2_Model2\", \"learnToolsVersion\": \"0.3.4\", \"failureMessage\": \"\", \"exceptionClass\": \"\", \"trace\": \"\"}}, \"*\")"
      ],
      "text/plain": [
       "<IPython.core.display.Javascript object>"
      ]
     },
     "metadata": {},
     "output_type": "display_data"
    },
    {
     "data": {
      "text/markdown": [
       "<span style=\"color:#33cc33\">Correct</span>"
      ],
      "text/plain": [
       "Correct"
      ]
     },
     "metadata": {},
     "output_type": "display_data"
    }
   ],
   "source": [
    "# Define the model\n",
    "my_model_2 = XGBRegressor(n_estimators=150, random_state=0, learning_rate=0.05) # Your code here\n",
    "\n",
    "# Fit the model\n",
    "my_model_2.fit(X_train, y_train) # Your code here\n",
    "\n",
    "# Get predictions\n",
    "predictions_2 = my_model_2.predict(X_valid) # Your code here\n",
    "\n",
    "# Calculate MAE\n",
    "mae_2 = mean_absolute_error(y_valid, predictions_2) # Your code here\n",
    "\n",
    "# Uncomment to print MAE\n",
    "print(\"Mean Absolute Error:\" , mae_2)\n",
    "\n",
    "# Check your answer\n",
    "step_2.check()"
   ]
  },
  {
   "cell_type": "markdown",
   "id": "1e7f128d",
   "metadata": {
    "papermill": {
     "duration": 0.007728,
     "end_time": "2022-11-19T21:59:11.091216",
     "exception": false,
     "start_time": "2022-11-19T21:59:11.083488",
     "status": "completed"
    },
    "tags": []
   },
   "source": [
    "# Step 3: Break the model\n",
    "\n",
    "In this step, you will create a model that performs worse than the original model in Step 1.  This will help you to develop your intuition for how to set parameters.  You might even find that you accidentally get better performance, which is ultimately a nice problem to have and a valuable learning experience!\n",
    "- Begin by setting `my_model_3` to an XGBoost model, using the [XGBRegressor](https://xgboost.readthedocs.io/en/latest/python/python_api.html#xgboost.XGBRegressor) class.  Use what you learned in the previous tutorial to figure out how to change the default parameters (like `n_estimators` and `learning_rate`) to design a model to get high MAE.\n",
    "- Then, fit the model to the training data in `X_train` and `y_train`.\n",
    "- Set `predictions_3` to the model's predictions for the validation data.  Recall that the validation features are stored in `X_valid`.\n",
    "- Finally, use the `mean_absolute_error()` function to calculate the mean absolute error (MAE) corresponding to the predictions on the validation set.  Recall that the labels for the validation data are stored in `y_valid`.\n",
    "\n",
    "In order for this step to be marked correct, your model in `my_model_3` must attain higher MAE than the model in `my_model_1`. "
   ]
  },
  {
   "cell_type": "code",
   "execution_count": 13,
   "id": "e8d8df7f",
   "metadata": {
    "execution": {
     "iopub.execute_input": "2022-11-19T21:59:11.108829Z",
     "iopub.status.busy": "2022-11-19T21:59:11.108341Z",
     "iopub.status.idle": "2022-11-19T21:59:16.864995Z",
     "shell.execute_reply": "2022-11-19T21:59:16.864007Z"
    },
    "papermill": {
     "duration": 5.768806,
     "end_time": "2022-11-19T21:59:16.867813",
     "exception": false,
     "start_time": "2022-11-19T21:59:11.099007",
     "status": "completed"
    },
    "tags": []
   },
   "outputs": [
    {
     "name": "stdout",
     "output_type": "stream",
     "text": [
      "Mean Absolute Error: 20928.521297089042\n"
     ]
    },
    {
     "data": {
      "application/javascript": [
       "parent.postMessage({\"jupyterEvent\": \"custom.exercise_interaction\", \"data\": {\"outcomeType\": 1, \"valueTowardsCompletion\": 0.5, \"interactionType\": 1, \"questionType\": 2, \"questionId\": \"3_Model3\", \"learnToolsVersion\": \"0.3.4\", \"failureMessage\": \"\", \"exceptionClass\": \"\", \"trace\": \"\"}}, \"*\")"
      ],
      "text/plain": [
       "<IPython.core.display.Javascript object>"
      ]
     },
     "metadata": {},
     "output_type": "display_data"
    },
    {
     "data": {
      "text/markdown": [
       "<span style=\"color:#33cc33\">Correct</span>"
      ],
      "text/plain": [
       "Correct"
      ]
     },
     "metadata": {},
     "output_type": "display_data"
    }
   ],
   "source": [
    "# Define the model\n",
    "my_model_3 = XGBRegressor(n_estimators=500, learning_rate=0.5)\n",
    "\n",
    "# Fit the model\n",
    "my_model_3.fit(X_train, y_train) # Your code here\n",
    "\n",
    "# Get predictions\n",
    "predictions_3 = my_model_3.predict(X_valid)\n",
    "\n",
    "# Calculate MAE\n",
    "mae_3 = mean_absolute_error(y_valid, predictions_3)\n",
    "\n",
    "# Uncomment to print MAE\n",
    "print(\"Mean Absolute Error:\" , mae_3)\n",
    "\n",
    "# Check your answer\n",
    "step_3.check()"
   ]
  },
  {
   "cell_type": "code",
   "execution_count": 14,
   "id": "86870764",
   "metadata": {
    "execution": {
     "iopub.execute_input": "2022-11-19T21:59:16.886881Z",
     "iopub.status.busy": "2022-11-19T21:59:16.886479Z",
     "iopub.status.idle": "2022-11-19T21:59:16.890638Z",
     "shell.execute_reply": "2022-11-19T21:59:16.889754Z"
    },
    "papermill": {
     "duration": 0.015502,
     "end_time": "2022-11-19T21:59:16.892684",
     "exception": false,
     "start_time": "2022-11-19T21:59:16.877182",
     "status": "completed"
    },
    "tags": []
   },
   "outputs": [],
   "source": [
    "# Lines below will give you a hint or solution code\n",
    "#step_3.hint()\n",
    "#step_3.solution()"
   ]
  },
  {
   "cell_type": "code",
   "execution_count": 15,
   "id": "7db3fda8",
   "metadata": {
    "execution": {
     "iopub.execute_input": "2022-11-19T21:59:16.911247Z",
     "iopub.status.busy": "2022-11-19T21:59:16.910487Z",
     "iopub.status.idle": "2022-11-19T21:59:18.362471Z",
     "shell.execute_reply": "2022-11-19T21:59:18.361396Z"
    },
    "papermill": {
     "duration": 1.464345,
     "end_time": "2022-11-19T21:59:18.365287",
     "exception": false,
     "start_time": "2022-11-19T21:59:16.900942",
     "status": "completed"
    },
    "tags": []
   },
   "outputs": [
    {
     "data": {
      "text/plain": [
       "16973.43865047089"
      ]
     },
     "execution_count": 15,
     "metadata": {},
     "output_type": "execute_result"
    }
   ],
   "source": [
    "reg = XGBRegressor(n_estimators=150, random_state=0, learning_rate=0.05)\n",
    "\n",
    "# Fit the model\n",
    "reg.fit(X_train, y_train) # Your code here\n",
    "\n",
    "# Get predictions\n",
    "predictions = reg.predict(X_valid) # Your code here\n",
    "\n",
    "# Calculate MAE\n",
    "mae = mean_absolute_error(y_valid, predictions)\n",
    "mae"
   ]
  },
  {
   "cell_type": "code",
   "execution_count": 16,
   "id": "1f56e6c2",
   "metadata": {
    "execution": {
     "iopub.execute_input": "2022-11-19T21:59:18.384814Z",
     "iopub.status.busy": "2022-11-19T21:59:18.384376Z",
     "iopub.status.idle": "2022-11-19T21:59:18.405727Z",
     "shell.execute_reply": "2022-11-19T21:59:18.404752Z"
    },
    "papermill": {
     "duration": 0.034015,
     "end_time": "2022-11-19T21:59:18.408888",
     "exception": false,
     "start_time": "2022-11-19T21:59:18.374873",
     "status": "completed"
    },
    "tags": []
   },
   "outputs": [],
   "source": [
    "pred_test = reg.predict(X_test)"
   ]
  },
  {
   "cell_type": "code",
   "execution_count": 17,
   "id": "bf1e4b2b",
   "metadata": {
    "execution": {
     "iopub.execute_input": "2022-11-19T21:59:18.429467Z",
     "iopub.status.busy": "2022-11-19T21:59:18.429057Z",
     "iopub.status.idle": "2022-11-19T21:59:18.442837Z",
     "shell.execute_reply": "2022-11-19T21:59:18.441802Z"
    },
    "papermill": {
     "duration": 0.026528,
     "end_time": "2022-11-19T21:59:18.445778",
     "exception": false,
     "start_time": "2022-11-19T21:59:18.419250",
     "status": "completed"
    },
    "tags": []
   },
   "outputs": [],
   "source": [
    "# Save test predictions to file\n",
    "output = pd.DataFrame({'Id': X_test.index,\n",
    "                       'SalePrice': pred_test})\n",
    "output.to_csv('submission.csv', index=False)"
   ]
  },
  {
   "cell_type": "markdown",
   "id": "44500a7a",
   "metadata": {
    "papermill": {
     "duration": 0.007869,
     "end_time": "2022-11-19T21:59:18.462046",
     "exception": false,
     "start_time": "2022-11-19T21:59:18.454177",
     "status": "completed"
    },
    "tags": []
   },
   "source": [
    "# Keep going\n",
    "\n",
    "Continue to learn about **[data leakage](https://www.kaggle.com/alexisbcook/data-leakage)**.  This is an important issue for a data scientist to understand, and it has the potential to ruin your models in subtle and dangerous ways!"
   ]
  },
  {
   "cell_type": "markdown",
   "id": "d89e10e8",
   "metadata": {
    "papermill": {
     "duration": 0.007847,
     "end_time": "2022-11-19T21:59:18.478073",
     "exception": false,
     "start_time": "2022-11-19T21:59:18.470226",
     "status": "completed"
    },
    "tags": []
   },
   "source": [
    "---\n",
    "\n",
    "\n",
    "\n",
    "\n",
    "*Have questions or comments? Visit the [course discussion forum](https://www.kaggle.com/learn/intermediate-machine-learning/discussion) to chat with other learners.*"
   ]
  }
 ],
 "metadata": {
  "kernelspec": {
   "display_name": "Python 3 (ipykernel)",
   "language": "python",
   "name": "python3"
  },
  "language_info": {
   "codemirror_mode": {
    "name": "ipython",
    "version": 3
   },
   "file_extension": ".py",
   "mimetype": "text/x-python",
   "name": "python",
   "nbconvert_exporter": "python",
   "pygments_lexer": "ipython3",
   "version": "3.9.12"
  },
  "papermill": {
   "default_parameters": {},
   "duration": 26.726862,
   "end_time": "2022-11-19T21:59:19.310074",
   "environment_variables": {},
   "exception": null,
   "input_path": "__notebook__.ipynb",
   "output_path": "__notebook__.ipynb",
   "parameters": {},
   "start_time": "2022-11-19T21:58:52.583212",
   "version": "2.3.4"
  }
 },
 "nbformat": 4,
 "nbformat_minor": 5
}
