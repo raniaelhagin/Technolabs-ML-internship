{
 "cells": [
  {
   "cell_type": "markdown",
   "id": "82833cc0",
   "metadata": {
    "papermill": {
     "duration": 0.007225,
     "end_time": "2022-11-14T20:39:13.469496",
     "exception": false,
     "start_time": "2022-11-14T20:39:13.462271",
     "status": "completed"
    },
    "tags": []
   },
   "source": [
    "**This notebook is an exercise in the [Data Cleaning](https://www.kaggle.com/learn/data-cleaning) course.  You can reference the tutorial at [this link](https://www.kaggle.com/alexisbcook/character-encodings).**\n",
    "\n",
    "---\n"
   ]
  },
  {
   "cell_type": "markdown",
   "id": "3f8adbfb",
   "metadata": {
    "papermill": {
     "duration": 0.005854,
     "end_time": "2022-11-14T20:39:13.481185",
     "exception": false,
     "start_time": "2022-11-14T20:39:13.475331",
     "status": "completed"
    },
    "tags": []
   },
   "source": [
    "In this exercise, you'll apply what you learned in the **Character encodings** tutorial.\n",
    "\n",
    "# Setup\n",
    "\n",
    "The questions below will give you feedback on your work. Run the following cell to set up the feedback system."
   ]
  },
  {
   "cell_type": "code",
   "execution_count": 1,
   "id": "3bc837d0",
   "metadata": {
    "execution": {
     "iopub.execute_input": "2022-11-14T20:39:13.495823Z",
     "iopub.status.busy": "2022-11-14T20:39:13.495000Z",
     "iopub.status.idle": "2022-11-14T20:39:13.610306Z",
     "shell.execute_reply": "2022-11-14T20:39:13.608248Z"
    },
    "papermill": {
     "duration": 0.125915,
     "end_time": "2022-11-14T20:39:13.613423",
     "exception": false,
     "start_time": "2022-11-14T20:39:13.487508",
     "status": "completed"
    },
    "tags": []
   },
   "outputs": [
    {
     "name": "stdout",
     "output_type": "stream",
     "text": [
      "Setup Complete\n"
     ]
    }
   ],
   "source": [
    "from learntools.core import binder\n",
    "binder.bind(globals())\n",
    "from learntools.data_cleaning.ex4 import *\n",
    "print(\"Setup Complete\")"
   ]
  },
  {
   "cell_type": "markdown",
   "id": "fdb28daa",
   "metadata": {
    "papermill": {
     "duration": 0.005555,
     "end_time": "2022-11-14T20:39:13.625132",
     "exception": false,
     "start_time": "2022-11-14T20:39:13.619577",
     "status": "completed"
    },
    "tags": []
   },
   "source": [
    "# Get our environment set up\n",
    "\n",
    "The first thing we'll need to do is load in the libraries we'll be using."
   ]
  },
  {
   "cell_type": "code",
   "execution_count": 2,
   "id": "17cd45e1",
   "metadata": {
    "execution": {
     "iopub.execute_input": "2022-11-14T20:39:13.639193Z",
     "iopub.status.busy": "2022-11-14T20:39:13.638376Z",
     "iopub.status.idle": "2022-11-14T20:39:13.643831Z",
     "shell.execute_reply": "2022-11-14T20:39:13.642859Z"
    },
    "papermill": {
     "duration": 0.015402,
     "end_time": "2022-11-14T20:39:13.646257",
     "exception": false,
     "start_time": "2022-11-14T20:39:13.630855",
     "status": "completed"
    },
    "tags": []
   },
   "outputs": [],
   "source": [
    "# modules we'll use\n",
    "import pandas as pd\n",
    "import numpy as np\n",
    "\n",
    "# helpful character encoding module\n",
    "import chardet\n",
    "\n",
    "# set seed for reproducibility\n",
    "np.random.seed(0)"
   ]
  },
  {
   "cell_type": "markdown",
   "id": "fe65d12b",
   "metadata": {
    "papermill": {
     "duration": 0.005238,
     "end_time": "2022-11-14T20:39:13.657197",
     "exception": false,
     "start_time": "2022-11-14T20:39:13.651959",
     "status": "completed"
    },
    "tags": []
   },
   "source": [
    "# 1) What are encodings?\n",
    "\n",
    "You're working with a dataset composed of bytes.  Run the code cell below to print a sample entry."
   ]
  },
  {
   "cell_type": "code",
   "execution_count": 3,
   "id": "b5702ccd",
   "metadata": {
    "execution": {
     "iopub.execute_input": "2022-11-14T20:39:13.671036Z",
     "iopub.status.busy": "2022-11-14T20:39:13.670574Z",
     "iopub.status.idle": "2022-11-14T20:39:13.676747Z",
     "shell.execute_reply": "2022-11-14T20:39:13.675692Z"
    },
    "papermill": {
     "duration": 0.016141,
     "end_time": "2022-11-14T20:39:13.678980",
     "exception": false,
     "start_time": "2022-11-14T20:39:13.662839",
     "status": "completed"
    },
    "tags": []
   },
   "outputs": [
    {
     "name": "stdout",
     "output_type": "stream",
     "text": [
      "b'\\xa7A\\xa6n'\n",
      "data type: <class 'bytes'>\n"
     ]
    }
   ],
   "source": [
    "sample_entry = b'\\xa7A\\xa6n'\n",
    "print(sample_entry)\n",
    "print('data type:', type(sample_entry))"
   ]
  },
  {
   "cell_type": "markdown",
   "id": "8b6036c5",
   "metadata": {
    "papermill": {
     "duration": 0.005212,
     "end_time": "2022-11-14T20:39:13.689881",
     "exception": false,
     "start_time": "2022-11-14T20:39:13.684669",
     "status": "completed"
    },
    "tags": []
   },
   "source": [
    "You notice that it doesn't use the standard UTF-8 encoding. \n",
    "\n",
    "Use the next code cell to create a variable `new_entry` that changes the encoding from `\"big5-tw\"` to `\"utf-8\"`.  `new_entry` should have the bytes datatype."
   ]
  },
  {
   "cell_type": "code",
   "execution_count": 4,
   "id": "6a8769b8",
   "metadata": {
    "execution": {
     "iopub.execute_input": "2022-11-14T20:39:13.705285Z",
     "iopub.status.busy": "2022-11-14T20:39:13.704496Z",
     "iopub.status.idle": "2022-11-14T20:39:13.713705Z",
     "shell.execute_reply": "2022-11-14T20:39:13.712676Z"
    },
    "papermill": {
     "duration": 0.019156,
     "end_time": "2022-11-14T20:39:13.716245",
     "exception": false,
     "start_time": "2022-11-14T20:39:13.697089",
     "status": "completed"
    },
    "tags": []
   },
   "outputs": [
    {
     "data": {
      "text/plain": [
       "'你好'"
      ]
     },
     "execution_count": 4,
     "metadata": {},
     "output_type": "execute_result"
    }
   ],
   "source": [
    "decoding = sample_entry.decode('big5-tw')\n",
    "decoding"
   ]
  },
  {
   "cell_type": "code",
   "execution_count": 5,
   "id": "10ebdec8",
   "metadata": {
    "execution": {
     "iopub.execute_input": "2022-11-14T20:39:13.730533Z",
     "iopub.status.busy": "2022-11-14T20:39:13.729789Z",
     "iopub.status.idle": "2022-11-14T20:39:13.739206Z",
     "shell.execute_reply": "2022-11-14T20:39:13.738010Z"
    },
    "papermill": {
     "duration": 0.019667,
     "end_time": "2022-11-14T20:39:13.741931",
     "exception": false,
     "start_time": "2022-11-14T20:39:13.722264",
     "status": "completed"
    },
    "tags": []
   },
   "outputs": [
    {
     "data": {
      "application/javascript": [
       "parent.postMessage({\"jupyterEvent\": \"custom.exercise_interaction\", \"data\": {\"outcomeType\": 1, \"valueTowardsCompletion\": 0.3333333333333333, \"interactionType\": 1, \"questionType\": 1, \"questionId\": \"1_EncodingsIntro\", \"learnToolsVersion\": \"0.3.4\", \"failureMessage\": \"\", \"exceptionClass\": \"\", \"trace\": \"\"}}, \"*\")"
      ],
      "text/plain": [
       "<IPython.core.display.Javascript object>"
      ]
     },
     "metadata": {},
     "output_type": "display_data"
    },
    {
     "data": {
      "text/markdown": [
       "<span style=\"color:#33cc33\">Correct</span>"
      ],
      "text/plain": [
       "Correct"
      ]
     },
     "metadata": {},
     "output_type": "display_data"
    }
   ],
   "source": [
    "new_entry = decoding.encode('utf-8', errors='replace')\n",
    "\n",
    "# Check your answer\n",
    "q1.check()"
   ]
  },
  {
   "cell_type": "code",
   "execution_count": 6,
   "id": "86ada8f8",
   "metadata": {
    "execution": {
     "iopub.execute_input": "2022-11-14T20:39:13.756137Z",
     "iopub.status.busy": "2022-11-14T20:39:13.755669Z",
     "iopub.status.idle": "2022-11-14T20:39:13.763251Z",
     "shell.execute_reply": "2022-11-14T20:39:13.762011Z"
    },
    "papermill": {
     "duration": 0.017688,
     "end_time": "2022-11-14T20:39:13.765819",
     "exception": false,
     "start_time": "2022-11-14T20:39:13.748131",
     "status": "completed"
    },
    "tags": []
   },
   "outputs": [
    {
     "data": {
      "text/plain": [
       "b'\\xe4\\xbd\\xa0\\xe5\\xa5\\xbd'"
      ]
     },
     "execution_count": 6,
     "metadata": {},
     "output_type": "execute_result"
    }
   ],
   "source": [
    "new_entry"
   ]
  },
  {
   "cell_type": "code",
   "execution_count": 7,
   "id": "ae24f3b7",
   "metadata": {
    "execution": {
     "iopub.execute_input": "2022-11-14T20:39:13.780013Z",
     "iopub.status.busy": "2022-11-14T20:39:13.779555Z",
     "iopub.status.idle": "2022-11-14T20:39:13.784830Z",
     "shell.execute_reply": "2022-11-14T20:39:13.783562Z"
    },
    "papermill": {
     "duration": 0.015428,
     "end_time": "2022-11-14T20:39:13.787436",
     "exception": false,
     "start_time": "2022-11-14T20:39:13.772008",
     "status": "completed"
    },
    "tags": []
   },
   "outputs": [],
   "source": [
    "# Lines below will give you a hint or solution code\n",
    "# q1.hint()\n",
    "# q1.solution()"
   ]
  },
  {
   "cell_type": "markdown",
   "id": "76230ed5",
   "metadata": {
    "papermill": {
     "duration": 0.005738,
     "end_time": "2022-11-14T20:39:13.799360",
     "exception": false,
     "start_time": "2022-11-14T20:39:13.793622",
     "status": "completed"
    },
    "tags": []
   },
   "source": [
    "# 2) Reading in files with encoding problems\n",
    "\n",
    "Use the code cell below to read in this file at path `\"../input/fatal-police-shootings-in-the-us/PoliceKillingsUS.csv\"`.  \n",
    "\n",
    "Figure out what the correct encoding should be and read in the file to a DataFrame `police_killings`."
   ]
  },
  {
   "cell_type": "code",
   "execution_count": 8,
   "id": "499ba053",
   "metadata": {
    "execution": {
     "iopub.execute_input": "2022-11-14T20:39:13.814453Z",
     "iopub.status.busy": "2022-11-14T20:39:13.813690Z",
     "iopub.status.idle": "2022-11-14T20:39:14.473616Z",
     "shell.execute_reply": "2022-11-14T20:39:14.472076Z"
    },
    "papermill": {
     "duration": 0.672229,
     "end_time": "2022-11-14T20:39:14.477708",
     "exception": false,
     "start_time": "2022-11-14T20:39:13.805479",
     "status": "completed"
    },
    "tags": []
   },
   "outputs": [
    {
     "name": "stdout",
     "output_type": "stream",
     "text": [
      "{'encoding': 'Windows-1252', 'confidence': 0.73, 'language': ''}\n"
     ]
    }
   ],
   "source": [
    "with open(\"../input/fatal-police-shootings-in-the-us/PoliceKillingsUS.csv\", 'rb') as rawdata:\n",
    "    result = chardet.detect(rawdata.read(30000))\n",
    "    \n",
    "print(result)"
   ]
  },
  {
   "cell_type": "code",
   "execution_count": 9,
   "id": "2ccfe26b",
   "metadata": {
    "execution": {
     "iopub.execute_input": "2022-11-14T20:39:14.491834Z",
     "iopub.status.busy": "2022-11-14T20:39:14.491397Z",
     "iopub.status.idle": "2022-11-14T20:39:14.519689Z",
     "shell.execute_reply": "2022-11-14T20:39:14.518251Z"
    },
    "papermill": {
     "duration": 0.038098,
     "end_time": "2022-11-14T20:39:14.522030",
     "exception": false,
     "start_time": "2022-11-14T20:39:14.483932",
     "status": "completed"
    },
    "tags": []
   },
   "outputs": [
    {
     "data": {
      "application/javascript": [
       "parent.postMessage({\"jupyterEvent\": \"custom.exercise_interaction\", \"data\": {\"outcomeType\": 1, \"valueTowardsCompletion\": 0.3333333333333333, \"interactionType\": 1, \"questionType\": 1, \"questionId\": \"2_ReadIn\", \"learnToolsVersion\": \"0.3.4\", \"failureMessage\": \"\", \"exceptionClass\": \"\", \"trace\": \"\"}}, \"*\")"
      ],
      "text/plain": [
       "<IPython.core.display.Javascript object>"
      ]
     },
     "metadata": {},
     "output_type": "display_data"
    },
    {
     "data": {
      "text/markdown": [
       "<span style=\"color:#33cc33\">Correct</span>"
      ],
      "text/plain": [
       "Correct"
      ]
     },
     "metadata": {},
     "output_type": "display_data"
    }
   ],
   "source": [
    "# TODO: Load in the DataFrame correctly.\n",
    "police_killings = pd.read_csv(\"../input/fatal-police-shootings-in-the-us/PoliceKillingsUS.csv\", \n",
    "                             encoding='Windows-1252')\n",
    "\n",
    "# Check your answer\n",
    "q2.check()"
   ]
  },
  {
   "cell_type": "code",
   "execution_count": 10,
   "id": "312fa782",
   "metadata": {
    "execution": {
     "iopub.execute_input": "2022-11-14T20:39:14.537628Z",
     "iopub.status.busy": "2022-11-14T20:39:14.536324Z",
     "iopub.status.idle": "2022-11-14T20:39:14.561542Z",
     "shell.execute_reply": "2022-11-14T20:39:14.560143Z"
    },
    "papermill": {
     "duration": 0.035741,
     "end_time": "2022-11-14T20:39:14.564238",
     "exception": false,
     "start_time": "2022-11-14T20:39:14.528497",
     "status": "completed"
    },
    "tags": []
   },
   "outputs": [
    {
     "data": {
      "text/html": [
       "<div>\n",
       "<style scoped>\n",
       "    .dataframe tbody tr th:only-of-type {\n",
       "        vertical-align: middle;\n",
       "    }\n",
       "\n",
       "    .dataframe tbody tr th {\n",
       "        vertical-align: top;\n",
       "    }\n",
       "\n",
       "    .dataframe thead th {\n",
       "        text-align: right;\n",
       "    }\n",
       "</style>\n",
       "<table border=\"1\" class=\"dataframe\">\n",
       "  <thead>\n",
       "    <tr style=\"text-align: right;\">\n",
       "      <th></th>\n",
       "      <th>id</th>\n",
       "      <th>name</th>\n",
       "      <th>date</th>\n",
       "      <th>manner_of_death</th>\n",
       "      <th>armed</th>\n",
       "      <th>age</th>\n",
       "      <th>gender</th>\n",
       "      <th>race</th>\n",
       "      <th>city</th>\n",
       "      <th>state</th>\n",
       "      <th>signs_of_mental_illness</th>\n",
       "      <th>threat_level</th>\n",
       "      <th>flee</th>\n",
       "      <th>body_camera</th>\n",
       "    </tr>\n",
       "  </thead>\n",
       "  <tbody>\n",
       "    <tr>\n",
       "      <th>0</th>\n",
       "      <td>3</td>\n",
       "      <td>Tim Elliot</td>\n",
       "      <td>02/01/15</td>\n",
       "      <td>shot</td>\n",
       "      <td>gun</td>\n",
       "      <td>53.0</td>\n",
       "      <td>M</td>\n",
       "      <td>A</td>\n",
       "      <td>Shelton</td>\n",
       "      <td>WA</td>\n",
       "      <td>True</td>\n",
       "      <td>attack</td>\n",
       "      <td>Not fleeing</td>\n",
       "      <td>False</td>\n",
       "    </tr>\n",
       "    <tr>\n",
       "      <th>1</th>\n",
       "      <td>4</td>\n",
       "      <td>Lewis Lee Lembke</td>\n",
       "      <td>02/01/15</td>\n",
       "      <td>shot</td>\n",
       "      <td>gun</td>\n",
       "      <td>47.0</td>\n",
       "      <td>M</td>\n",
       "      <td>W</td>\n",
       "      <td>Aloha</td>\n",
       "      <td>OR</td>\n",
       "      <td>False</td>\n",
       "      <td>attack</td>\n",
       "      <td>Not fleeing</td>\n",
       "      <td>False</td>\n",
       "    </tr>\n",
       "    <tr>\n",
       "      <th>2</th>\n",
       "      <td>5</td>\n",
       "      <td>John Paul Quintero</td>\n",
       "      <td>03/01/15</td>\n",
       "      <td>shot and Tasered</td>\n",
       "      <td>unarmed</td>\n",
       "      <td>23.0</td>\n",
       "      <td>M</td>\n",
       "      <td>H</td>\n",
       "      <td>Wichita</td>\n",
       "      <td>KS</td>\n",
       "      <td>False</td>\n",
       "      <td>other</td>\n",
       "      <td>Not fleeing</td>\n",
       "      <td>False</td>\n",
       "    </tr>\n",
       "    <tr>\n",
       "      <th>3</th>\n",
       "      <td>8</td>\n",
       "      <td>Matthew Hoffman</td>\n",
       "      <td>04/01/15</td>\n",
       "      <td>shot</td>\n",
       "      <td>toy weapon</td>\n",
       "      <td>32.0</td>\n",
       "      <td>M</td>\n",
       "      <td>W</td>\n",
       "      <td>San Francisco</td>\n",
       "      <td>CA</td>\n",
       "      <td>True</td>\n",
       "      <td>attack</td>\n",
       "      <td>Not fleeing</td>\n",
       "      <td>False</td>\n",
       "    </tr>\n",
       "    <tr>\n",
       "      <th>4</th>\n",
       "      <td>9</td>\n",
       "      <td>Michael Rodriguez</td>\n",
       "      <td>04/01/15</td>\n",
       "      <td>shot</td>\n",
       "      <td>nail gun</td>\n",
       "      <td>39.0</td>\n",
       "      <td>M</td>\n",
       "      <td>H</td>\n",
       "      <td>Evans</td>\n",
       "      <td>CO</td>\n",
       "      <td>False</td>\n",
       "      <td>attack</td>\n",
       "      <td>Not fleeing</td>\n",
       "      <td>False</td>\n",
       "    </tr>\n",
       "  </tbody>\n",
       "</table>\n",
       "</div>"
      ],
      "text/plain": [
       "   id                name      date   manner_of_death       armed   age  \\\n",
       "0   3          Tim Elliot  02/01/15              shot         gun  53.0   \n",
       "1   4    Lewis Lee Lembke  02/01/15              shot         gun  47.0   \n",
       "2   5  John Paul Quintero  03/01/15  shot and Tasered     unarmed  23.0   \n",
       "3   8     Matthew Hoffman  04/01/15              shot  toy weapon  32.0   \n",
       "4   9   Michael Rodriguez  04/01/15              shot    nail gun  39.0   \n",
       "\n",
       "  gender race           city state  signs_of_mental_illness threat_level  \\\n",
       "0      M    A        Shelton    WA                     True       attack   \n",
       "1      M    W          Aloha    OR                    False       attack   \n",
       "2      M    H        Wichita    KS                    False        other   \n",
       "3      M    W  San Francisco    CA                     True       attack   \n",
       "4      M    H          Evans    CO                    False       attack   \n",
       "\n",
       "          flee  body_camera  \n",
       "0  Not fleeing        False  \n",
       "1  Not fleeing        False  \n",
       "2  Not fleeing        False  \n",
       "3  Not fleeing        False  \n",
       "4  Not fleeing        False  "
      ]
     },
     "execution_count": 10,
     "metadata": {},
     "output_type": "execute_result"
    }
   ],
   "source": [
    "police_killings.head()"
   ]
  },
  {
   "cell_type": "markdown",
   "id": "9bde624e",
   "metadata": {
    "papermill": {
     "duration": 0.007256,
     "end_time": "2022-11-14T20:39:14.578243",
     "exception": false,
     "start_time": "2022-11-14T20:39:14.570987",
     "status": "completed"
    },
    "tags": []
   },
   "source": [
    "Feel free to use any additional code cells for supplemental work.  To get credit for finishing this question, you'll need to run `q2.check()` and get a result of **Correct**."
   ]
  },
  {
   "cell_type": "code",
   "execution_count": 11,
   "id": "42fd4279",
   "metadata": {
    "execution": {
     "iopub.execute_input": "2022-11-14T20:39:14.594449Z",
     "iopub.status.busy": "2022-11-14T20:39:14.593989Z",
     "iopub.status.idle": "2022-11-14T20:39:14.599054Z",
     "shell.execute_reply": "2022-11-14T20:39:14.597853Z"
    },
    "papermill": {
     "duration": 0.015954,
     "end_time": "2022-11-14T20:39:14.601409",
     "exception": false,
     "start_time": "2022-11-14T20:39:14.585455",
     "status": "completed"
    },
    "tags": []
   },
   "outputs": [],
   "source": [
    "# (Optional) Use this code cell for any additional work."
   ]
  },
  {
   "cell_type": "code",
   "execution_count": 12,
   "id": "a2ffcf2a",
   "metadata": {
    "execution": {
     "iopub.execute_input": "2022-11-14T20:39:14.616909Z",
     "iopub.status.busy": "2022-11-14T20:39:14.616502Z",
     "iopub.status.idle": "2022-11-14T20:39:14.620752Z",
     "shell.execute_reply": "2022-11-14T20:39:14.619917Z"
    },
    "papermill": {
     "duration": 0.014796,
     "end_time": "2022-11-14T20:39:14.622890",
     "exception": false,
     "start_time": "2022-11-14T20:39:14.608094",
     "status": "completed"
    },
    "tags": []
   },
   "outputs": [],
   "source": [
    "# Lines below will give you a hint or solution code\n",
    "#q2.hint()\n",
    "#q2.solution()"
   ]
  },
  {
   "cell_type": "markdown",
   "id": "43c32c08",
   "metadata": {
    "papermill": {
     "duration": 0.006443,
     "end_time": "2022-11-14T20:39:14.636239",
     "exception": false,
     "start_time": "2022-11-14T20:39:14.629796",
     "status": "completed"
    },
    "tags": []
   },
   "source": [
    "# 3) Saving your files with UTF-8 encoding\n",
    "\n",
    "Save a version of the police killings dataset to CSV with UTF-8 encoding.  Your answer will be marked correct after saving this file.  \n",
    "\n",
    "Note: When using the `to_csv()` method, supply only the name of the file (e.g., `\"my_file.csv\"`).  This saves the file at the filepath `\"/kaggle/working/my_file.csv\"`."
   ]
  },
  {
   "cell_type": "code",
   "execution_count": 13,
   "id": "85b2b54e",
   "metadata": {
    "execution": {
     "iopub.execute_input": "2022-11-14T20:39:14.652184Z",
     "iopub.status.busy": "2022-11-14T20:39:14.651417Z",
     "iopub.status.idle": "2022-11-14T20:39:14.686274Z",
     "shell.execute_reply": "2022-11-14T20:39:14.685457Z"
    },
    "papermill": {
     "duration": 0.045512,
     "end_time": "2022-11-14T20:39:14.688470",
     "exception": false,
     "start_time": "2022-11-14T20:39:14.642958",
     "status": "completed"
    },
    "tags": []
   },
   "outputs": [
    {
     "data": {
      "application/javascript": [
       "parent.postMessage({\"jupyterEvent\": \"custom.exercise_interaction\", \"data\": {\"outcomeType\": 1, \"valueTowardsCompletion\": 0.3333333333333333, \"interactionType\": 1, \"questionType\": 2, \"questionId\": \"3_SaveCSV\", \"learnToolsVersion\": \"0.3.4\", \"failureMessage\": \"\", \"exceptionClass\": \"\", \"trace\": \"\"}}, \"*\")"
      ],
      "text/plain": [
       "<IPython.core.display.Javascript object>"
      ]
     },
     "metadata": {},
     "output_type": "display_data"
    },
    {
     "data": {
      "text/markdown": [
       "<span style=\"color:#33cc33\">Correct</span>"
      ],
      "text/plain": [
       "Correct"
      ]
     },
     "metadata": {},
     "output_type": "display_data"
    }
   ],
   "source": [
    "# TODO: Save the police killings dataset to CSV\n",
    "police_killings.to_csv(\"my_file.csv\")\n",
    "\n",
    "# Check your answer\n",
    "q3.check()"
   ]
  },
  {
   "cell_type": "code",
   "execution_count": 14,
   "id": "3cd7a5ac",
   "metadata": {
    "execution": {
     "iopub.execute_input": "2022-11-14T20:39:14.705357Z",
     "iopub.status.busy": "2022-11-14T20:39:14.703940Z",
     "iopub.status.idle": "2022-11-14T20:39:14.709596Z",
     "shell.execute_reply": "2022-11-14T20:39:14.708484Z"
    },
    "papermill": {
     "duration": 0.016648,
     "end_time": "2022-11-14T20:39:14.712260",
     "exception": false,
     "start_time": "2022-11-14T20:39:14.695612",
     "status": "completed"
    },
    "tags": []
   },
   "outputs": [],
   "source": [
    "# Lines below will give you a hint or solution code\n",
    "#q3.hint()\n",
    "#q3.solution()"
   ]
  },
  {
   "cell_type": "markdown",
   "id": "0ab4f719",
   "metadata": {
    "papermill": {
     "duration": 0.006942,
     "end_time": "2022-11-14T20:39:14.726846",
     "exception": false,
     "start_time": "2022-11-14T20:39:14.719904",
     "status": "completed"
    },
    "tags": []
   },
   "source": [
    "# (Optional) More practice\n",
    "\n",
    "Check out [this dataset of files in different character encodings](https://www.kaggle.com/rtatman/character-encoding-examples). Can you read in all the files with their original encodings and them save them out as UTF-8 files?\n",
    "\n",
    "If you have a file that's in UTF-8 but has just a couple of weird-looking characters in it, you can try out the [ftfy module](https://ftfy.readthedocs.io/en/latest/#) and see if it helps. \n",
    "\n",
    "# Keep going\n",
    "\n",
    "In the final lesson, learn how to [**clean up inconsistent text entries**](https://www.kaggle.com/alexisbcook/inconsistent-data-entry) in your dataset."
   ]
  },
  {
   "cell_type": "markdown",
   "id": "50b68ffe",
   "metadata": {
    "papermill": {
     "duration": 0.006847,
     "end_time": "2022-11-14T20:39:14.741289",
     "exception": false,
     "start_time": "2022-11-14T20:39:14.734442",
     "status": "completed"
    },
    "tags": []
   },
   "source": [
    "---\n",
    "\n",
    "\n",
    "\n",
    "\n",
    "*Have questions or comments? Visit the [course discussion forum](https://www.kaggle.com/learn/data-cleaning/discussion) to chat with other learners.*"
   ]
  }
 ],
 "metadata": {
  "kernelspec": {
   "display_name": "Python 3",
   "language": "python",
   "name": "python3"
  },
  "language_info": {
   "codemirror_mode": {
    "name": "ipython",
    "version": 3
   },
   "file_extension": ".py",
   "mimetype": "text/x-python",
   "name": "python",
   "nbconvert_exporter": "python",
   "pygments_lexer": "ipython3",
   "version": "3.7.12"
  },
  "papermill": {
   "default_parameters": {},
   "duration": 13.60412,
   "end_time": "2022-11-14T20:39:15.474064",
   "environment_variables": {},
   "exception": null,
   "input_path": "__notebook__.ipynb",
   "output_path": "__notebook__.ipynb",
   "parameters": {},
   "start_time": "2022-11-14T20:39:01.869944",
   "version": "2.3.4"
  }
 },
 "nbformat": 4,
 "nbformat_minor": 5
}
