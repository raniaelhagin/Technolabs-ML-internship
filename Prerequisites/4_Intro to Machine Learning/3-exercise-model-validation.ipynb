{
 "cells": [
  {
   "cell_type": "markdown",
   "id": "c65f20dd",
   "metadata": {
    "papermill": {
     "duration": 0.007387,
     "end_time": "2022-11-16T13:54:12.772213",
     "exception": false,
     "start_time": "2022-11-16T13:54:12.764826",
     "status": "completed"
    },
    "tags": []
   },
   "source": [
    "**This notebook is an exercise in the [Introduction to Machine Learning](https://www.kaggle.com/learn/intro-to-machine-learning) course.  You can reference the tutorial at [this link](https://www.kaggle.com/dansbecker/model-validation).**\n",
    "\n",
    "---\n"
   ]
  },
  {
   "cell_type": "markdown",
   "id": "b2b66c37",
   "metadata": {
    "papermill": {
     "duration": 0.004697,
     "end_time": "2022-11-16T13:54:12.782285",
     "exception": false,
     "start_time": "2022-11-16T13:54:12.777588",
     "status": "completed"
    },
    "tags": []
   },
   "source": [
    "## Recap\n",
    "You've built a model. In this exercise you will test how good your model is.\n",
    "\n",
    "Run the cell below to set up your coding environment where the previous exercise left off."
   ]
  },
  {
   "cell_type": "code",
   "execution_count": 1,
   "id": "b866c619",
   "metadata": {
    "execution": {
     "iopub.execute_input": "2022-11-16T13:54:12.794441Z",
     "iopub.status.busy": "2022-11-16T13:54:12.793130Z",
     "iopub.status.idle": "2022-11-16T13:54:14.351178Z",
     "shell.execute_reply": "2022-11-16T13:54:14.349879Z"
    },
    "papermill": {
     "duration": 1.567565,
     "end_time": "2022-11-16T13:54:14.354527",
     "exception": false,
     "start_time": "2022-11-16T13:54:12.786962",
     "status": "completed"
    },
    "tags": []
   },
   "outputs": [
    {
     "name": "stdout",
     "output_type": "stream",
     "text": [
      "First in-sample predictions: [208500. 181500. 223500. 140000. 250000.]\n",
      "Actual target values for those homes: [208500, 181500, 223500, 140000, 250000]\n",
      "Setup Complete\n"
     ]
    }
   ],
   "source": [
    "# Code you have previously used to load data\n",
    "import pandas as pd\n",
    "from sklearn.tree import DecisionTreeRegressor\n",
    "\n",
    "# Path of the file to read\n",
    "iowa_file_path = '../input/home-data-for-ml-course/train.csv'\n",
    "\n",
    "home_data = pd.read_csv(iowa_file_path)\n",
    "y = home_data.SalePrice\n",
    "feature_columns = ['LotArea', 'YearBuilt', '1stFlrSF', '2ndFlrSF', 'FullBath', 'BedroomAbvGr', 'TotRmsAbvGrd']\n",
    "X = home_data[feature_columns]\n",
    "\n",
    "# Specify Model\n",
    "iowa_model = DecisionTreeRegressor()\n",
    "# Fit Model\n",
    "iowa_model.fit(X, y)\n",
    "\n",
    "print(\"First in-sample predictions:\", iowa_model.predict(X.head()))\n",
    "print(\"Actual target values for those homes:\", y.head().tolist())\n",
    "\n",
    "# Set up code checking\n",
    "from learntools.core import binder\n",
    "binder.bind(globals())\n",
    "from learntools.machine_learning.ex4 import *\n",
    "print(\"Setup Complete\")"
   ]
  },
  {
   "cell_type": "markdown",
   "id": "2d76f904",
   "metadata": {
    "papermill": {
     "duration": 0.004465,
     "end_time": "2022-11-16T13:54:14.363903",
     "exception": false,
     "start_time": "2022-11-16T13:54:14.359438",
     "status": "completed"
    },
    "tags": []
   },
   "source": [
    "# Exercises\n",
    "\n",
    "## Step 1: Split Your Data\n",
    "Use the `train_test_split` function to split up your data.\n",
    "\n",
    "Give it the argument `random_state=1` so the `check` functions know what to expect when verifying your code.\n",
    "\n",
    "Recall, your features are loaded in the DataFrame **X** and your target is loaded in **y**.\n"
   ]
  },
  {
   "cell_type": "code",
   "execution_count": 2,
   "id": "1d39d1cd",
   "metadata": {
    "execution": {
     "iopub.execute_input": "2022-11-16T13:54:14.377489Z",
     "iopub.status.busy": "2022-11-16T13:54:14.376145Z",
     "iopub.status.idle": "2022-11-16T13:54:14.394834Z",
     "shell.execute_reply": "2022-11-16T13:54:14.393642Z"
    },
    "papermill": {
     "duration": 0.03024,
     "end_time": "2022-11-16T13:54:14.399286",
     "exception": false,
     "start_time": "2022-11-16T13:54:14.369046",
     "status": "completed"
    },
    "tags": []
   },
   "outputs": [
    {
     "data": {
      "application/javascript": [
       "parent.postMessage({\"jupyterEvent\": \"custom.exercise_interaction\", \"data\": {\"outcomeType\": 1, \"valueTowardsCompletion\": 0.25, \"interactionType\": 1, \"questionType\": 2, \"questionId\": \"1_SplitData\", \"learnToolsVersion\": \"0.3.4\", \"failureMessage\": \"\", \"exceptionClass\": \"\", \"trace\": \"\"}}, \"*\")"
      ],
      "text/plain": [
       "<IPython.core.display.Javascript object>"
      ]
     },
     "metadata": {},
     "output_type": "display_data"
    },
    {
     "data": {
      "text/markdown": [
       "<span style=\"color:#33cc33\">Correct</span>"
      ],
      "text/plain": [
       "Correct"
      ]
     },
     "metadata": {},
     "output_type": "display_data"
    }
   ],
   "source": [
    "# Import the train_test_split function and uncomment\n",
    "from sklearn.model_selection import train_test_split\n",
    "\n",
    "# fill in and uncomment\n",
    "train_X, val_X, train_y, val_y = train_test_split(X, y, random_state=1)\n",
    "\n",
    "# Check your answer\n",
    "step_1.check()"
   ]
  },
  {
   "cell_type": "code",
   "execution_count": 3,
   "id": "864d3a2e",
   "metadata": {
    "execution": {
     "iopub.execute_input": "2022-11-16T13:54:14.417325Z",
     "iopub.status.busy": "2022-11-16T13:54:14.416598Z",
     "iopub.status.idle": "2022-11-16T13:54:14.420418Z",
     "shell.execute_reply": "2022-11-16T13:54:14.419623Z"
    },
    "papermill": {
     "duration": 0.015954,
     "end_time": "2022-11-16T13:54:14.423134",
     "exception": false,
     "start_time": "2022-11-16T13:54:14.407180",
     "status": "completed"
    },
    "tags": []
   },
   "outputs": [],
   "source": [
    "# The lines below will show you a hint or the solution.\n",
    "# step_1.hint() \n",
    "# step_1.solution()\n"
   ]
  },
  {
   "cell_type": "markdown",
   "id": "35a49498",
   "metadata": {
    "papermill": {
     "duration": 0.007146,
     "end_time": "2022-11-16T13:54:14.437947",
     "exception": false,
     "start_time": "2022-11-16T13:54:14.430801",
     "status": "completed"
    },
    "tags": []
   },
   "source": [
    "## Step 2: Specify and Fit the Model\n",
    "\n",
    "Create a `DecisionTreeRegressor` model and fit it to the relevant data.\n",
    "Set `random_state` to 1 again when creating the model."
   ]
  },
  {
   "cell_type": "code",
   "execution_count": 4,
   "id": "ed61de97",
   "metadata": {
    "execution": {
     "iopub.execute_input": "2022-11-16T13:54:14.451555Z",
     "iopub.status.busy": "2022-11-16T13:54:14.450598Z",
     "iopub.status.idle": "2022-11-16T13:54:14.486428Z",
     "shell.execute_reply": "2022-11-16T13:54:14.485010Z"
    },
    "papermill": {
     "duration": 0.046056,
     "end_time": "2022-11-16T13:54:14.489658",
     "exception": false,
     "start_time": "2022-11-16T13:54:14.443602",
     "status": "completed"
    },
    "tags": []
   },
   "outputs": [
    {
     "name": "stdout",
     "output_type": "stream",
     "text": [
      "[186500. 184000. 130000.  92000. 164500. 220000. 335000. 144152. 215000.\n",
      " 262000.]\n",
      "[186500. 184000. 130000.  92000. 164500. 220000. 335000. 144152. 215000.\n",
      " 262000.]\n"
     ]
    },
    {
     "data": {
      "application/javascript": [
       "parent.postMessage({\"jupyterEvent\": \"custom.exercise_interaction\", \"data\": {\"outcomeType\": 1, \"valueTowardsCompletion\": 0.25, \"interactionType\": 1, \"questionType\": 2, \"questionId\": \"2_FitModelWithTrain\", \"learnToolsVersion\": \"0.3.4\", \"failureMessage\": \"\", \"exceptionClass\": \"\", \"trace\": \"\"}}, \"*\")"
      ],
      "text/plain": [
       "<IPython.core.display.Javascript object>"
      ]
     },
     "metadata": {},
     "output_type": "display_data"
    },
    {
     "data": {
      "text/markdown": [
       "<span style=\"color:#33cc33\">Correct</span>"
      ],
      "text/plain": [
       "Correct"
      ]
     },
     "metadata": {},
     "output_type": "display_data"
    }
   ],
   "source": [
    "# You imported DecisionTreeRegressor in your last exercise\n",
    "# and that code has been copied to the setup code above. So, no need to\n",
    "# import it again\n",
    "from sklearn.tree import DecisionTreeRegressor\n",
    "# Specify the model\n",
    "iowa_model = DecisionTreeRegressor(random_state=1)\n",
    "\n",
    "# Fit iowa_model with the training data.\n",
    "iowa_model.fit(train_X, train_y)\n",
    "\n",
    "# Check your answer\n",
    "step_2.check()"
   ]
  },
  {
   "cell_type": "code",
   "execution_count": 5,
   "id": "65fb569a",
   "metadata": {
    "execution": {
     "iopub.execute_input": "2022-11-16T13:54:14.506288Z",
     "iopub.status.busy": "2022-11-16T13:54:14.505881Z",
     "iopub.status.idle": "2022-11-16T13:54:14.511031Z",
     "shell.execute_reply": "2022-11-16T13:54:14.509739Z"
    },
    "papermill": {
     "duration": 0.015831,
     "end_time": "2022-11-16T13:54:14.513373",
     "exception": false,
     "start_time": "2022-11-16T13:54:14.497542",
     "status": "completed"
    },
    "tags": []
   },
   "outputs": [],
   "source": [
    "# step_2.hint()\n",
    "# step_2.solution()"
   ]
  },
  {
   "cell_type": "markdown",
   "id": "1cb0a28c",
   "metadata": {
    "papermill": {
     "duration": 0.005673,
     "end_time": "2022-11-16T13:54:14.524820",
     "exception": false,
     "start_time": "2022-11-16T13:54:14.519147",
     "status": "completed"
    },
    "tags": []
   },
   "source": [
    "## Step 3: Make Predictions with Validation data\n"
   ]
  },
  {
   "cell_type": "code",
   "execution_count": 6,
   "id": "8fa0c01d",
   "metadata": {
    "execution": {
     "iopub.execute_input": "2022-11-16T13:54:14.539748Z",
     "iopub.status.busy": "2022-11-16T13:54:14.539315Z",
     "iopub.status.idle": "2022-11-16T13:54:14.553198Z",
     "shell.execute_reply": "2022-11-16T13:54:14.551917Z"
    },
    "papermill": {
     "duration": 0.024902,
     "end_time": "2022-11-16T13:54:14.555591",
     "exception": false,
     "start_time": "2022-11-16T13:54:14.530689",
     "status": "completed"
    },
    "tags": []
   },
   "outputs": [
    {
     "data": {
      "application/javascript": [
       "parent.postMessage({\"jupyterEvent\": \"custom.exercise_interaction\", \"data\": {\"outcomeType\": 1, \"valueTowardsCompletion\": 0.25, \"interactionType\": 1, \"questionType\": 2, \"questionId\": \"3_ValPreds\", \"learnToolsVersion\": \"0.3.4\", \"failureMessage\": \"\", \"exceptionClass\": \"\", \"trace\": \"\"}}, \"*\")"
      ],
      "text/plain": [
       "<IPython.core.display.Javascript object>"
      ]
     },
     "metadata": {},
     "output_type": "display_data"
    },
    {
     "data": {
      "text/markdown": [
       "<span style=\"color:#33cc33\">Correct</span>"
      ],
      "text/plain": [
       "Correct"
      ]
     },
     "metadata": {},
     "output_type": "display_data"
    }
   ],
   "source": [
    "# Predict with all validation observations\n",
    "val_predictions = iowa_model.predict(val_X)\n",
    "\n",
    "# Check your answer\n",
    "step_3.check()"
   ]
  },
  {
   "cell_type": "code",
   "execution_count": 7,
   "id": "0af7d15b",
   "metadata": {
    "execution": {
     "iopub.execute_input": "2022-11-16T13:54:14.568747Z",
     "iopub.status.busy": "2022-11-16T13:54:14.568322Z",
     "iopub.status.idle": "2022-11-16T13:54:14.573348Z",
     "shell.execute_reply": "2022-11-16T13:54:14.572137Z"
    },
    "papermill": {
     "duration": 0.014724,
     "end_time": "2022-11-16T13:54:14.575921",
     "exception": false,
     "start_time": "2022-11-16T13:54:14.561197",
     "status": "completed"
    },
    "tags": []
   },
   "outputs": [],
   "source": [
    "# step_3.hint()\n",
    "# step_3.solution()"
   ]
  },
  {
   "cell_type": "markdown",
   "id": "c197fe2f",
   "metadata": {
    "papermill": {
     "duration": 0.005735,
     "end_time": "2022-11-16T13:54:14.587521",
     "exception": false,
     "start_time": "2022-11-16T13:54:14.581786",
     "status": "completed"
    },
    "tags": []
   },
   "source": [
    "Inspect your predictions and actual values from validation data."
   ]
  },
  {
   "cell_type": "code",
   "execution_count": 8,
   "id": "6ce36e12",
   "metadata": {
    "execution": {
     "iopub.execute_input": "2022-11-16T13:54:14.600885Z",
     "iopub.status.busy": "2022-11-16T13:54:14.600387Z",
     "iopub.status.idle": "2022-11-16T13:54:14.606851Z",
     "shell.execute_reply": "2022-11-16T13:54:14.605867Z"
    },
    "papermill": {
     "duration": 0.01664,
     "end_time": "2022-11-16T13:54:14.609834",
     "exception": false,
     "start_time": "2022-11-16T13:54:14.593194",
     "status": "completed"
    },
    "tags": []
   },
   "outputs": [
    {
     "name": "stdout",
     "output_type": "stream",
     "text": [
      "Predicted values for validation dataset: \n",
      " [186500.0, 184000.0, 130000.0, 92000.0, 164500.0, 220000.0, 335000.0, 144152.0, 215000.0, 262000.0, 180000.0, 121000.0, 175900.0, 210000.0, 248900.0, 131000.0, 100000.0, 149350.0, 235000.0, 156000.0, 149900.0, 265979.0, 193500.0, 377500.0, 100000.0, 162900.0, 145000.0, 180000.0, 582933.0, 146000.0, 140000.0, 91500.0, 112500.0, 113000.0, 145000.0, 312500.0, 110000.0, 132000.0, 305000.0, 128000.0, 162900.0, 115000.0, 110000.0, 124000.0, 215200.0, 180000.0, 79000.0, 192000.0, 282922.0, 235000.0, 132000.0, 325000.0, 80000.0, 237000.0, 208300.0, 100000.0, 120500.0, 162000.0, 153000.0, 187000.0, 185750.0, 335000.0, 129000.0, 124900.0, 185750.0, 133700.0, 127000.0, 230000.0, 146800.0, 157900.0, 136000.0, 153575.0, 335000.0, 177500.0, 143000.0, 202500.0, 168500.0, 105000.0, 305900.0, 192000.0, 190000.0, 140200.0, 134900.0, 128950.0, 213000.0, 108959.0, 149500.0, 190000.0, 175900.0, 160000.0, 250580.0, 157000.0, 120500.0, 147500.0, 118000.0, 117000.0, 110000.0, 130000.0, 148500.0, 148000.0, 190000.0, 130500.0, 127000.0, 120500.0, 135000.0, 168000.0, 176432.0, 128000.0, 147000.0, 260000.0, 132000.0, 129500.0, 171000.0, 181134.0, 227875.0, 189000.0, 282922.0, 94750.0, 185000.0, 194000.0, 159000.0, 279500.0, 290000.0, 135000.0, 299800.0, 165000.0, 394432.0, 135750.0, 155000.0, 212000.0, 310000.0, 134800.0, 84000.0, 122900.0, 80000.0, 191000.0, 755000.0, 147000.0, 248000.0, 106500.0, 145000.0, 359100.0, 145000.0, 192500.0, 149000.0, 252000.0, 109000.0, 215000.0, 220000.0, 138500.0, 185000.0, 185000.0, 120500.0, 181000.0, 173000.0, 335000.0, 67000.0, 149350.0, 67000.0, 156000.0, 119000.0, 110500.0, 184000.0, 147000.0, 156000.0, 171000.0, 177000.0, 159000.0, 125000.0, 105000.0, 284000.0, 167500.0, 200000.0, 312500.0, 213000.0, 135960.0, 205000.0, 237000.0, 107000.0, 163000.0, 132500.0, 155835.0, 165500.0, 138500.0, 257000.0, 160000.0, 394617.0, 281213.0, 161000.0, 127500.0, 88000.0, 139000.0, 89500.0, 132500.0, 134800.0, 335000.0, 248900.0, 155000.0, 147000.0, 86000.0, 185000.0, 200000.0, 180500.0, 215200.0, 319900.0, 105000.0, 194000.0, 340000.0, 256000.0, 280000.0, 186500.0, 105500.0, 155000.0, 133500.0, 255500.0, 253000.0, 130000.0, 92900.0, 256000.0, 100000.0, 755000.0, 138500.0, 168500.0, 112000.0, 127000.0, 109008.0, 197000.0, 245500.0, 171900.0, 162000.0, 128000.0, 173000.0, 132000.0, 118000.0, 235128.0, 118964.0, 260000.0, 116000.0, 185000.0, 315750.0, 236500.0, 140000.0, 151500.0, 184000.0, 84000.0, 130000.0, 154000.0, 205000.0, 110000.0, 151500.0, 123000.0, 129500.0, 173900.0, 181500.0, 165500.0, 106500.0, 184900.0, 84500.0, 377500.0, 118500.0, 180000.0, 190000.0, 208500.0, 181000.0, 98000.0, 157000.0, 151500.0, 84000.0, 139000.0, 100000.0, 161750.0, 165600.0, 116000.0, 118500.0, 187000.0, 147000.0, 112000.0, 132000.0, 230000.0, 128000.0, 147000.0, 125000.0, 145000.0, 151000.0, 284000.0, 221000.0, 140200.0, 129000.0, 290000.0, 105000.0, 96500.0, 310000.0, 140000.0, 132000.0, 203000.0, 221000.0, 215200.0, 214000.0, 139000.0, 91500.0, 148000.0, 155000.0, 115000.0, 180000.0, 165500.0, 223000.0, 139000.0, 179900.0, 150000.0, 185000.0, 163000.0, 176000.0, 127000.0, 227000.0, 146000.0, 99900.0, 275000.0, 180500.0, 180000.0, 157000.0, 186500.0, 179900.0, 137500.0, 219500.0, 155000.0, 345000.0, 197000.0, 205000.0, 159000.0, 159434.0, 156000.0, 196000.0, 252678.0, 255500.0, 213000.0, 150900.0, 143750.0, 139000.0, 260000.0, 189000.0, 213250.0, 207500.0, 80000.0, 221000.0, 109500.0, 155000.0, 165000.0, 149350.0, 204900.0, 105900.0, 155000.0, 176000.0, 395000.0, 149700.0, 147000.0, 143900.0, 226700.0, 176000.0, 116000.0, 325300.0, 133750.0, 188500.0, 148500.0, 284000.0, 201800.0]\n",
      "----------------------------------------------------------------------------------------------------\n",
      "Actual values for validation dataset: \n",
      " [231500, 179500, 122000, 84500, 142000, 325624, 285000, 151000, 195000, 275000, 175000, 61000, 174000, 385000, 230000, 87000, 125000, 98600, 260000, 143000, 124000, 122500, 236500, 337500, 76000, 187000, 128000, 179000, 485000, 122500, 106000, 118000, 127000, 80000, 153000, 360000, 132000, 85500, 262280, 112000, 131000, 139000, 87000, 135000, 181000, 163500, 116900, 159895, 244600, 294000, 97000, 295000, 120500, 239500, 194000, 115000, 119500, 180000, 118000, 178000, 167000, 267000, 82000, 133900, 167000, 132500, 135000, 248000, 160000, 144500, 200500, 113000, 354000, 164000, 170000, 224000, 163900, 160000, 466500, 172500, 193500, 133000, 137000, 167500, 196500, 146000, 159500, 158000, 189000, 172500, 194201, 181000, 115000, 101800, 100000, 139000, 115000, 139000, 156000, 158000, 172000, 138000, 125500, 123000, 134500, 163000, 169990, 140000, 140000, 325000, 157500, 225000, 107000, 185500, 239900, 163990, 201000, 127000, 172500, 228000, 117000, 232600, 403000, 169500, 151400, 180000, 370878, 55993, 207500, 224500, 280000, 82000, 137000, 130500, 73000, 217000, 625000, 367294, 230000, 142000, 115000, 272000, 176500, 234000, 40000, 213500, 126000, 187100, 200000, 117500, 176000, 174000, 97000, 169000, 154000, 361919, 85000, 134000, 96500, 127000, 60000, 108480, 151000, 135000, 99500, 124000, 177500, 144000, 119000, 107500, 254900, 180500, 222000, 271000, 181000, 140000, 158000, 204750, 135000, 161500, 128500, 179540, 143000, 147000, 280000, 131500, 253293, 317000, 210000, 120000, 110000, 127000, 106000, 172500, 166000, 258000, 213000, 150000, 158500, 82500, 212000, 238000, 158000, 178000, 328900, 110000, 185000, 320000, 315000, 228950, 180000, 117000, 176000, 111250, 297000, 266000, 130000, 93500, 186700, 91000, 745000, 62383, 172500, 170000, 119000, 129900, 210000, 173000, 164500, 170000, 125500, 183000, 103000, 141500, 315500, 118858, 290000, 119000, 104900, 348000, 374000, 200100, 132250, 161500, 131500, 104000, 132500, 133000, 170000, 180000, 130000, 125000, 186500, 171500, 100000, 114500, 173000, 86000, 320000, 133000, 220000, 137900, 224900, 153500, 115000, 207500, 113000, 178400, 140000, 83000, 197000, 187500, 81000, 93500, 197500, 93000, 106000, 144000, 220000, 144900, 139000, 132000, 149000, 153500, 263435, 205000, 132500, 103200, 249700, 64500, 83000, 339750, 145900, 106250, 164990, 228500, 193000, 244000, 159950, 119000, 160000, 147000, 134450, 174000, 144000, 190000, 160000, 175000, 135000, 176000, 168500, 139000, 102776, 221500, 148500, 55000, 281000, 179900, 182900, 217500, 195000, 154000, 124900, 228000, 125000, 438780, 160200, 271000, 113000, 103600, 119500, 275000, 250000, 306000, 168000, 136905, 128000, 107000, 341000, 176000, 224900, 289000, 79900, 274000, 109900, 175000, 166000, 151000, 264132, 79500, 241000, 141000, 377426, 132000, 141000, 136500, 205950, 157000, 93000, 309000, 187500, 178000, 125000, 232000, 135000]\n"
     ]
    }
   ],
   "source": [
    "# print the top few validation predictions\n",
    "print(\"Predicted values for validation dataset: \\n\", val_predictions.tolist())\n",
    "\n",
    "print(\"-\" * 100)\n",
    "\n",
    "# print the top few actual prices from validation data\n",
    "print(\"Actual values for validation dataset: \\n\", val_y.tolist())"
   ]
  },
  {
   "cell_type": "markdown",
   "id": "219587f5",
   "metadata": {
    "papermill": {
     "duration": 0.005575,
     "end_time": "2022-11-16T13:54:14.622164",
     "exception": false,
     "start_time": "2022-11-16T13:54:14.616589",
     "status": "completed"
    },
    "tags": []
   },
   "source": [
    "What do you notice that is different from what you saw with in-sample predictions (which are printed after the top code cell in this page).\n",
    "\n",
    "Do you remember why validation predictions differ from in-sample (or training) predictions? This is an important idea from the last lesson.\n",
    "\n",
    "## Step 4: Calculate the Mean Absolute Error in Validation Data\n"
   ]
  },
  {
   "cell_type": "code",
   "execution_count": 9,
   "id": "96434876",
   "metadata": {
    "execution": {
     "iopub.execute_input": "2022-11-16T13:54:14.636378Z",
     "iopub.status.busy": "2022-11-16T13:54:14.635884Z",
     "iopub.status.idle": "2022-11-16T13:54:14.647707Z",
     "shell.execute_reply": "2022-11-16T13:54:14.646363Z"
    },
    "papermill": {
     "duration": 0.022124,
     "end_time": "2022-11-16T13:54:14.650402",
     "exception": false,
     "start_time": "2022-11-16T13:54:14.628278",
     "status": "completed"
    },
    "tags": []
   },
   "outputs": [
    {
     "data": {
      "application/javascript": [
       "parent.postMessage({\"jupyterEvent\": \"custom.exercise_interaction\", \"data\": {\"outcomeType\": 1, \"valueTowardsCompletion\": 0.25, \"interactionType\": 1, \"questionType\": 1, \"questionId\": \"4_MAE\", \"learnToolsVersion\": \"0.3.4\", \"failureMessage\": \"\", \"exceptionClass\": \"\", \"trace\": \"\"}}, \"*\")"
      ],
      "text/plain": [
       "<IPython.core.display.Javascript object>"
      ]
     },
     "metadata": {},
     "output_type": "display_data"
    },
    {
     "data": {
      "text/markdown": [
       "<span style=\"color:#33cc33\">Correct</span>"
      ],
      "text/plain": [
       "Correct"
      ]
     },
     "metadata": {},
     "output_type": "display_data"
    }
   ],
   "source": [
    "from sklearn.metrics import mean_absolute_error\n",
    "val_mae = mean_absolute_error(val_y, val_predictions)\n",
    "\n",
    "# uncomment following line to see the validation_mae\n",
    "#print(val_mae)\n",
    "\n",
    "# Check your answer\n",
    "step_4.check()"
   ]
  },
  {
   "cell_type": "code",
   "execution_count": 10,
   "id": "a9c61461",
   "metadata": {
    "execution": {
     "iopub.execute_input": "2022-11-16T13:54:14.664384Z",
     "iopub.status.busy": "2022-11-16T13:54:14.663995Z",
     "iopub.status.idle": "2022-11-16T13:54:14.669259Z",
     "shell.execute_reply": "2022-11-16T13:54:14.667839Z"
    },
    "papermill": {
     "duration": 0.015359,
     "end_time": "2022-11-16T13:54:14.671851",
     "exception": false,
     "start_time": "2022-11-16T13:54:14.656492",
     "status": "completed"
    },
    "tags": []
   },
   "outputs": [],
   "source": [
    "# step_4.hint()\n",
    "# step_4.solution()"
   ]
  },
  {
   "cell_type": "code",
   "execution_count": 11,
   "id": "28fff8ba",
   "metadata": {
    "execution": {
     "iopub.execute_input": "2022-11-16T13:54:14.687552Z",
     "iopub.status.busy": "2022-11-16T13:54:14.686696Z",
     "iopub.status.idle": "2022-11-16T13:54:14.695290Z",
     "shell.execute_reply": "2022-11-16T13:54:14.693930Z"
    },
    "papermill": {
     "duration": 0.019183,
     "end_time": "2022-11-16T13:54:14.697939",
     "exception": false,
     "start_time": "2022-11-16T13:54:14.678756",
     "status": "completed"
    },
    "tags": []
   },
   "outputs": [
    {
     "data": {
      "text/plain": [
       "29652.931506849316"
      ]
     },
     "execution_count": 11,
     "metadata": {},
     "output_type": "execute_result"
    }
   ],
   "source": [
    "val_mae"
   ]
  },
  {
   "cell_type": "markdown",
   "id": "b072eb30",
   "metadata": {
    "papermill": {
     "duration": 0.005823,
     "end_time": "2022-11-16T13:54:14.709985",
     "exception": false,
     "start_time": "2022-11-16T13:54:14.704162",
     "status": "completed"
    },
    "tags": []
   },
   "source": [
    "Is that MAE good?  There isn't a general rule for what values are good that applies across applications. But you'll see how to use (and improve) this number in the next step.\n",
    "\n",
    "# Keep Going\n",
    "\n",
    "You are ready for **[Underfitting and Overfitting](https://www.kaggle.com/dansbecker/underfitting-and-overfitting).**\n"
   ]
  },
  {
   "cell_type": "markdown",
   "id": "634ad489",
   "metadata": {
    "papermill": {
     "duration": 0.005852,
     "end_time": "2022-11-16T13:54:14.722771",
     "exception": false,
     "start_time": "2022-11-16T13:54:14.716919",
     "status": "completed"
    },
    "tags": []
   },
   "source": [
    "---\n",
    "\n",
    "\n",
    "\n",
    "\n",
    "*Have questions or comments? Visit the [course discussion forum](https://www.kaggle.com/learn/intro-to-machine-learning/discussion) to chat with other learners.*"
   ]
  }
 ],
 "metadata": {
  "kernelspec": {
   "display_name": "Python 3",
   "language": "python",
   "name": "python3"
  },
  "language_info": {
   "codemirror_mode": {
    "name": "ipython",
    "version": 3
   },
   "file_extension": ".py",
   "mimetype": "text/x-python",
   "name": "python",
   "nbconvert_exporter": "python",
   "pygments_lexer": "ipython3",
   "version": "3.7.12"
  },
  "papermill": {
   "default_parameters": {},
   "duration": 11.938473,
   "end_time": "2022-11-16T13:54:15.554587",
   "environment_variables": {},
   "exception": null,
   "input_path": "__notebook__.ipynb",
   "output_path": "__notebook__.ipynb",
   "parameters": {},
   "start_time": "2022-11-16T13:54:03.616114",
   "version": "2.3.4"
  }
 },
 "nbformat": 4,
 "nbformat_minor": 5
}
