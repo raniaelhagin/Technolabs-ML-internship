{
 "cells": [
  {
   "cell_type": "markdown",
   "id": "621707c9",
   "metadata": {
    "papermill": {
     "duration": 0.004789,
     "end_time": "2022-11-16T15:03:56.584373",
     "exception": false,
     "start_time": "2022-11-16T15:03:56.579584",
     "status": "completed"
    },
    "tags": []
   },
   "source": [
    "**This notebook is an exercise in the [Introduction to Machine Learning](https://www.kaggle.com/learn/intro-to-machine-learning) course.  You can reference the tutorial at [this link](https://www.kaggle.com/dansbecker/underfitting-and-overfitting).**\n",
    "\n",
    "---\n"
   ]
  },
  {
   "cell_type": "markdown",
   "id": "9101b354",
   "metadata": {
    "papermill": {
     "duration": 0.003425,
     "end_time": "2022-11-16T15:03:56.591491",
     "exception": false,
     "start_time": "2022-11-16T15:03:56.588066",
     "status": "completed"
    },
    "tags": []
   },
   "source": [
    "## Recap\n",
    "You've built your first model, and now it's time to optimize the size of the tree to make better predictions. Run this cell to set up your coding environment where the previous step left off."
   ]
  },
  {
   "cell_type": "code",
   "execution_count": 1,
   "id": "d0ad2bfb",
   "metadata": {
    "execution": {
     "iopub.execute_input": "2022-11-16T15:03:56.602892Z",
     "iopub.status.busy": "2022-11-16T15:03:56.602188Z",
     "iopub.status.idle": "2022-11-16T15:03:58.105096Z",
     "shell.execute_reply": "2022-11-16T15:03:58.103705Z"
    },
    "papermill": {
     "duration": 1.512852,
     "end_time": "2022-11-16T15:03:58.107872",
     "exception": false,
     "start_time": "2022-11-16T15:03:56.595020",
     "status": "completed"
    },
    "tags": []
   },
   "outputs": [
    {
     "name": "stdout",
     "output_type": "stream",
     "text": [
      "Validation MAE: 29,653\n",
      "\n",
      "Setup complete\n"
     ]
    }
   ],
   "source": [
    "# imorting modules \n",
    "import pandas as pd \n",
    "import numpy as np \n",
    "from sklearn.model_selection import train_test_split \n",
    "from sklearn.tree import DecisionTreeRegressor \n",
    "from sklearn.metrics import mean_absolute_error\n",
    "\n",
    "# path to the file to be read \n",
    "iowa_file_path = '../input/home-data-for-ml-course/train.csv'\n",
    "\n",
    "# read data \n",
    "home_data = pd.read_csv(iowa_file_path)\n",
    "\n",
    "# target object \n",
    "y = home_data.SalePrice \n",
    "\n",
    "# data \n",
    "features = ['LotArea', 'YearBuilt', '1stFlrSF', '2ndFlrSF', 'FullBath', 'BedroomAbvGr', 'TotRmsAbvGrd']\n",
    "X = home_data[features]\n",
    "\n",
    "# splitting data into training and validation datasets \n",
    "X_train, X_val, y_train, y_val = train_test_split(X, y, random_state=1)\n",
    "\n",
    "# specify model \n",
    "iowa_model = DecisionTreeRegressor(random_state=1)\n",
    "\n",
    "# fit model \n",
    "iowa_model.fit(X_train, y_train)\n",
    "\n",
    "# make validation predictions \n",
    "val_pred = iowa_model.predict(X_val)\n",
    "\n",
    "# Calculate MAE\n",
    "mae_val = mean_absolute_error(y_val, val_pred)\n",
    "print(\"Validation MAE: {:,.0f}\".format(mae_val))\n",
    "\n",
    "# Set up code checking\n",
    "from learntools.core import binder\n",
    "binder.bind(globals())\n",
    "from learntools.machine_learning.ex5 import *\n",
    "print(\"\\nSetup complete\")"
   ]
  },
  {
   "cell_type": "markdown",
   "id": "6718c643",
   "metadata": {
    "papermill": {
     "duration": 0.003391,
     "end_time": "2022-11-16T15:03:58.115158",
     "exception": false,
     "start_time": "2022-11-16T15:03:58.111767",
     "status": "completed"
    },
    "tags": []
   },
   "source": [
    "# Exercises\n",
    "You could write the function `get_mae` yourself. For now, we'll supply it. This is the same function you read about in the previous lesson. Just run the cell below."
   ]
  },
  {
   "cell_type": "code",
   "execution_count": 2,
   "id": "28cf570c",
   "metadata": {
    "execution": {
     "iopub.execute_input": "2022-11-16T15:03:58.125480Z",
     "iopub.status.busy": "2022-11-16T15:03:58.125035Z",
     "iopub.status.idle": "2022-11-16T15:03:58.132180Z",
     "shell.execute_reply": "2022-11-16T15:03:58.130637Z"
    },
    "papermill": {
     "duration": 0.015813,
     "end_time": "2022-11-16T15:03:58.134770",
     "exception": false,
     "start_time": "2022-11-16T15:03:58.118957",
     "status": "completed"
    },
    "tags": []
   },
   "outputs": [],
   "source": [
    "def get_mea(max_leaf_node, X_train, X_val, y_train, y_val):\n",
    "    model = DecisionTreeRegressor(random_state=0, max_leaf_nodes=max_leaf_node)\n",
    "    model.fit(X_train, y_train)\n",
    "    prediction_valid = model.predict(X_val)\n",
    "    mae = mean_absolute_error(y_val, prediction_valid)\n",
    "    return mae"
   ]
  },
  {
   "cell_type": "markdown",
   "id": "07f0af61",
   "metadata": {
    "papermill": {
     "duration": 0.003669,
     "end_time": "2022-11-16T15:03:58.142160",
     "exception": false,
     "start_time": "2022-11-16T15:03:58.138491",
     "status": "completed"
    },
    "tags": []
   },
   "source": [
    "## Step 1: Compare Different Tree Sizes\n",
    "Write a loop that tries the following values for *max_leaf_nodes* from a set of possible values.\n",
    "\n",
    "Call the *get_mae* function on each value of max_leaf_nodes. Store the output in some way that allows you to select the value of `max_leaf_nodes` that gives the most accurate model on your data."
   ]
  },
  {
   "cell_type": "code",
   "execution_count": 3,
   "id": "ab035efe",
   "metadata": {
    "execution": {
     "iopub.execute_input": "2022-11-16T15:03:58.151273Z",
     "iopub.status.busy": "2022-11-16T15:03:58.150794Z",
     "iopub.status.idle": "2022-11-16T15:03:58.205671Z",
     "shell.execute_reply": "2022-11-16T15:03:58.204491Z"
    },
    "papermill": {
     "duration": 0.062504,
     "end_time": "2022-11-16T15:03:58.208282",
     "exception": false,
     "start_time": "2022-11-16T15:03:58.145778",
     "status": "completed"
    },
    "tags": []
   },
   "outputs": [
    {
     "name": "stdout",
     "output_type": "stream",
     "text": [
      "Max leaf nodes: 5.000000  \t\t Mean Absolute Error:  35044.512997\n",
      "Max leaf nodes: 25.000000  \t\t Mean Absolute Error:  29016.413192\n",
      "Max leaf nodes: 50.000000  \t\t Mean Absolute Error:  27405.930473\n",
      "Max leaf nodes: 100.000000  \t\t Mean Absolute Error:  27282.508039\n",
      "Max leaf nodes: 250.000000  \t\t Mean Absolute Error:  27893.822226\n",
      "Max leaf nodes: 500.000000  \t\t Mean Absolute Error:  29454.185981\n",
      "best_tree_size =  100\n"
     ]
    },
    {
     "data": {
      "application/javascript": [
       "parent.postMessage({\"jupyterEvent\": \"custom.exercise_interaction\", \"data\": {\"outcomeType\": 1, \"valueTowardsCompletion\": 0.5, \"interactionType\": 1, \"questionType\": 1, \"questionId\": \"1_BestTreeSize\", \"learnToolsVersion\": \"0.3.4\", \"failureMessage\": \"\", \"exceptionClass\": \"\", \"trace\": \"\"}}, \"*\")"
      ],
      "text/plain": [
       "<IPython.core.display.Javascript object>"
      ]
     },
     "metadata": {},
     "output_type": "display_data"
    },
    {
     "data": {
      "text/markdown": [
       "<span style=\"color:#33cc33\">Correct</span>"
      ],
      "text/plain": [
       "Correct"
      ]
     },
     "metadata": {},
     "output_type": "display_data"
    }
   ],
   "source": [
    "candidate_max_leaf_nodes = [5, 25, 50, 100, 250, 500]\n",
    "maes_cal = []\n",
    "# Write loop to find the ideal tree size from candidate_max_leaf_nodes\n",
    "for max_leaf_node in candidate_max_leaf_nodes:\n",
    "    mae_cal = get_mea(max_leaf_node, X_train, X_val, y_train, y_val)\n",
    "    print(\"Max leaf nodes: %f  \\t\\t Mean Absolute Error:  %f\" %(max_leaf_node, mae_cal))\n",
    "    maes_cal.append(mae_cal)\n",
    "\n",
    "# Store the best value of max_leaf_nodes (it will be either 5, 25, 50, 100, 250 or 500)\n",
    "best_tree_size = candidate_max_leaf_nodes[np.argmin(maes_cal)]\n",
    "print(\"best_tree_size = \", best_tree_size)\n",
    "# Check your answer\n",
    "step_1.check()"
   ]
  },
  {
   "cell_type": "code",
   "execution_count": 4,
   "id": "efb858fd",
   "metadata": {
    "execution": {
     "iopub.execute_input": "2022-11-16T15:03:58.218417Z",
     "iopub.status.busy": "2022-11-16T15:03:58.218003Z",
     "iopub.status.idle": "2022-11-16T15:03:58.223193Z",
     "shell.execute_reply": "2022-11-16T15:03:58.222023Z"
    },
    "papermill": {
     "duration": 0.013284,
     "end_time": "2022-11-16T15:03:58.225880",
     "exception": false,
     "start_time": "2022-11-16T15:03:58.212596",
     "status": "completed"
    },
    "tags": []
   },
   "outputs": [],
   "source": [
    "# The lines below will show you a hint or the solution.\n",
    "# step_1.hint() \n",
    "# step_1.solution()add_newdoc"
   ]
  },
  {
   "cell_type": "markdown",
   "id": "e5d0c229",
   "metadata": {
    "papermill": {
     "duration": 0.003842,
     "end_time": "2022-11-16T15:03:58.234548",
     "exception": false,
     "start_time": "2022-11-16T15:03:58.230706",
     "status": "completed"
    },
    "tags": []
   },
   "source": [
    "## Step 2: Fit Model Using All Data\n",
    "You know the best tree size. If you were going to deploy this model in practice, you would make it even more accurate by using all of the data and keeping that tree size.  That is, you don't need to hold out the validation data now that you've made all your modeling decisions."
   ]
  },
  {
   "cell_type": "code",
   "execution_count": 5,
   "id": "7a055611",
   "metadata": {
    "execution": {
     "iopub.execute_input": "2022-11-16T15:03:58.245035Z",
     "iopub.status.busy": "2022-11-16T15:03:58.244609Z",
     "iopub.status.idle": "2022-11-16T15:03:58.261887Z",
     "shell.execute_reply": "2022-11-16T15:03:58.260607Z"
    },
    "papermill": {
     "duration": 0.025678,
     "end_time": "2022-11-16T15:03:58.264459",
     "exception": false,
     "start_time": "2022-11-16T15:03:58.238781",
     "status": "completed"
    },
    "tags": []
   },
   "outputs": [
    {
     "data": {
      "application/javascript": [
       "parent.postMessage({\"jupyterEvent\": \"custom.exercise_interaction\", \"data\": {\"outcomeType\": 1, \"valueTowardsCompletion\": 0.5, \"interactionType\": 1, \"questionType\": 2, \"questionId\": \"2_FitModelWithAllData\", \"learnToolsVersion\": \"0.3.4\", \"failureMessage\": \"\", \"exceptionClass\": \"\", \"trace\": \"\"}}, \"*\")"
      ],
      "text/plain": [
       "<IPython.core.display.Javascript object>"
      ]
     },
     "metadata": {},
     "output_type": "display_data"
    },
    {
     "data": {
      "text/markdown": [
       "<span style=\"color:#33cc33\">Correct</span>"
      ],
      "text/plain": [
       "Correct"
      ]
     },
     "metadata": {},
     "output_type": "display_data"
    }
   ],
   "source": [
    "# Fill in argument to make optimal size and uncomment\n",
    "final_model = DecisionTreeRegressor(random_state=0, max_leaf_nodes=100)\n",
    "\n",
    "# fit the final model and uncomment the next two lines\n",
    "final_model.fit(X, y)\n",
    "\n",
    "# Check your answer\n",
    "step_2.check()"
   ]
  },
  {
   "cell_type": "code",
   "execution_count": 6,
   "id": "2d401740",
   "metadata": {
    "execution": {
     "iopub.execute_input": "2022-11-16T15:03:58.275684Z",
     "iopub.status.busy": "2022-11-16T15:03:58.274776Z",
     "iopub.status.idle": "2022-11-16T15:03:58.279997Z",
     "shell.execute_reply": "2022-11-16T15:03:58.278684Z"
    },
    "papermill": {
     "duration": 0.013287,
     "end_time": "2022-11-16T15:03:58.282243",
     "exception": false,
     "start_time": "2022-11-16T15:03:58.268956",
     "status": "completed"
    },
    "tags": []
   },
   "outputs": [],
   "source": [
    "# step_2.hint()\n",
    "# step_2.solution()"
   ]
  },
  {
   "cell_type": "markdown",
   "id": "904ac0e6",
   "metadata": {
    "papermill": {
     "duration": 0.003901,
     "end_time": "2022-11-16T15:03:58.290368",
     "exception": false,
     "start_time": "2022-11-16T15:03:58.286467",
     "status": "completed"
    },
    "tags": []
   },
   "source": [
    "You've tuned this model and improved your results. But we are still using Decision Tree models, which are not very sophisticated by modern machine learning standards. In the next step you will learn to use Random Forests to improve your models even more.\n",
    "\n",
    "# Keep Going\n",
    "\n",
    "You are ready for **[Random Forests](https://www.kaggle.com/dansbecker/random-forests).**\n"
   ]
  },
  {
   "cell_type": "markdown",
   "id": "e10d2044",
   "metadata": {
    "papermill": {
     "duration": 0.003757,
     "end_time": "2022-11-16T15:03:58.298212",
     "exception": false,
     "start_time": "2022-11-16T15:03:58.294455",
     "status": "completed"
    },
    "tags": []
   },
   "source": [
    "---\n",
    "\n",
    "\n",
    "\n",
    "\n",
    "*Have questions or comments? Visit the [course discussion forum](https://www.kaggle.com/learn/intro-to-machine-learning/discussion) to chat with other learners.*"
   ]
  }
 ],
 "metadata": {
  "kernelspec": {
   "display_name": "Python 3",
   "language": "python",
   "name": "python3"
  },
  "language_info": {
   "codemirror_mode": {
    "name": "ipython",
    "version": 3
   },
   "file_extension": ".py",
   "mimetype": "text/x-python",
   "name": "python",
   "nbconvert_exporter": "python",
   "pygments_lexer": "ipython3",
   "version": "3.7.12"
  },
  "papermill": {
   "default_parameters": {},
   "duration": 11.641961,
   "end_time": "2022-11-16T15:03:59.125260",
   "environment_variables": {},
   "exception": null,
   "input_path": "__notebook__.ipynb",
   "output_path": "__notebook__.ipynb",
   "parameters": {},
   "start_time": "2022-11-16T15:03:47.483299",
   "version": "2.3.4"
  }
 },
 "nbformat": 4,
 "nbformat_minor": 5
}
