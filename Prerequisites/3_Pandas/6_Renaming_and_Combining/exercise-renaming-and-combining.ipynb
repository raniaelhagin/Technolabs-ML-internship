{
 "cells": [
  {
   "cell_type": "markdown",
   "id": "2a0014f1",
   "metadata": {
    "papermill": {
     "duration": 0.006819,
     "end_time": "2022-11-14T15:25:04.266447",
     "exception": false,
     "start_time": "2022-11-14T15:25:04.259628",
     "status": "completed"
    },
    "tags": []
   },
   "source": [
    "**This notebook is an exercise in the [Pandas](https://www.kaggle.com/learn/pandas) course.  You can reference the tutorial at [this link](https://www.kaggle.com/residentmario/renaming-and-combining).**\n",
    "\n",
    "---\n"
   ]
  },
  {
   "cell_type": "markdown",
   "id": "eac06bea",
   "metadata": {
    "papermill": {
     "duration": 0.005991,
     "end_time": "2022-11-14T15:25:04.278826",
     "exception": false,
     "start_time": "2022-11-14T15:25:04.272835",
     "status": "completed"
    },
    "tags": []
   },
   "source": [
    "# Introduction\n",
    "\n",
    "Run the following cell to load your data and some utility functions."
   ]
  },
  {
   "cell_type": "code",
   "execution_count": 1,
   "id": "5b6e25fb",
   "metadata": {
    "execution": {
     "iopub.execute_input": "2022-11-14T15:25:04.292731Z",
     "iopub.status.busy": "2022-11-14T15:25:04.292326Z",
     "iopub.status.idle": "2022-11-14T15:25:07.909001Z",
     "shell.execute_reply": "2022-11-14T15:25:07.907756Z"
    },
    "papermill": {
     "duration": 3.626749,
     "end_time": "2022-11-14T15:25:07.911664",
     "exception": false,
     "start_time": "2022-11-14T15:25:04.284915",
     "status": "completed"
    },
    "tags": []
   },
   "outputs": [
    {
     "name": "stdout",
     "output_type": "stream",
     "text": [
      "Setup complete.\n"
     ]
    }
   ],
   "source": [
    "import pandas as pd\n",
    "\n",
    "reviews = pd.read_csv(\"../input/wine-reviews/winemag-data-130k-v2.csv\", index_col=0)\n",
    "\n",
    "from learntools.core import binder; binder.bind(globals())\n",
    "from learntools.pandas.renaming_and_combining import *\n",
    "print(\"Setup complete.\")"
   ]
  },
  {
   "cell_type": "markdown",
   "id": "c696584d",
   "metadata": {
    "papermill": {
     "duration": 0.005668,
     "end_time": "2022-11-14T15:25:07.923853",
     "exception": false,
     "start_time": "2022-11-14T15:25:07.918185",
     "status": "completed"
    },
    "tags": []
   },
   "source": [
    "# Exercises\n",
    "\n",
    "View the first several lines of your data by running the cell below:"
   ]
  },
  {
   "cell_type": "code",
   "execution_count": 2,
   "id": "1b670a50",
   "metadata": {
    "execution": {
     "iopub.execute_input": "2022-11-14T15:25:07.938015Z",
     "iopub.status.busy": "2022-11-14T15:25:07.937587Z",
     "iopub.status.idle": "2022-11-14T15:25:07.965352Z",
     "shell.execute_reply": "2022-11-14T15:25:07.964217Z"
    },
    "papermill": {
     "duration": 0.036849,
     "end_time": "2022-11-14T15:25:07.967403",
     "exception": false,
     "start_time": "2022-11-14T15:25:07.930554",
     "status": "completed"
    },
    "tags": []
   },
   "outputs": [
    {
     "data": {
      "text/html": [
       "<div>\n",
       "<style scoped>\n",
       "    .dataframe tbody tr th:only-of-type {\n",
       "        vertical-align: middle;\n",
       "    }\n",
       "\n",
       "    .dataframe tbody tr th {\n",
       "        vertical-align: top;\n",
       "    }\n",
       "\n",
       "    .dataframe thead th {\n",
       "        text-align: right;\n",
       "    }\n",
       "</style>\n",
       "<table border=\"1\" class=\"dataframe\">\n",
       "  <thead>\n",
       "    <tr style=\"text-align: right;\">\n",
       "      <th></th>\n",
       "      <th>country</th>\n",
       "      <th>description</th>\n",
       "      <th>designation</th>\n",
       "      <th>points</th>\n",
       "      <th>price</th>\n",
       "      <th>province</th>\n",
       "      <th>region_1</th>\n",
       "      <th>region_2</th>\n",
       "      <th>taster_name</th>\n",
       "      <th>taster_twitter_handle</th>\n",
       "      <th>title</th>\n",
       "      <th>variety</th>\n",
       "      <th>winery</th>\n",
       "    </tr>\n",
       "  </thead>\n",
       "  <tbody>\n",
       "    <tr>\n",
       "      <th>0</th>\n",
       "      <td>Italy</td>\n",
       "      <td>Aromas include tropical fruit, broom, brimston...</td>\n",
       "      <td>Vulkà Bianco</td>\n",
       "      <td>87</td>\n",
       "      <td>NaN</td>\n",
       "      <td>Sicily &amp; Sardinia</td>\n",
       "      <td>Etna</td>\n",
       "      <td>NaN</td>\n",
       "      <td>Kerin O’Keefe</td>\n",
       "      <td>@kerinokeefe</td>\n",
       "      <td>Nicosia 2013 Vulkà Bianco  (Etna)</td>\n",
       "      <td>White Blend</td>\n",
       "      <td>Nicosia</td>\n",
       "    </tr>\n",
       "    <tr>\n",
       "      <th>1</th>\n",
       "      <td>Portugal</td>\n",
       "      <td>This is ripe and fruity, a wine that is smooth...</td>\n",
       "      <td>Avidagos</td>\n",
       "      <td>87</td>\n",
       "      <td>15.0</td>\n",
       "      <td>Douro</td>\n",
       "      <td>NaN</td>\n",
       "      <td>NaN</td>\n",
       "      <td>Roger Voss</td>\n",
       "      <td>@vossroger</td>\n",
       "      <td>Quinta dos Avidagos 2011 Avidagos Red (Douro)</td>\n",
       "      <td>Portuguese Red</td>\n",
       "      <td>Quinta dos Avidagos</td>\n",
       "    </tr>\n",
       "    <tr>\n",
       "      <th>2</th>\n",
       "      <td>US</td>\n",
       "      <td>Tart and snappy, the flavors of lime flesh and...</td>\n",
       "      <td>NaN</td>\n",
       "      <td>87</td>\n",
       "      <td>14.0</td>\n",
       "      <td>Oregon</td>\n",
       "      <td>Willamette Valley</td>\n",
       "      <td>Willamette Valley</td>\n",
       "      <td>Paul Gregutt</td>\n",
       "      <td>@paulgwine</td>\n",
       "      <td>Rainstorm 2013 Pinot Gris (Willamette Valley)</td>\n",
       "      <td>Pinot Gris</td>\n",
       "      <td>Rainstorm</td>\n",
       "    </tr>\n",
       "    <tr>\n",
       "      <th>3</th>\n",
       "      <td>US</td>\n",
       "      <td>Pineapple rind, lemon pith and orange blossom ...</td>\n",
       "      <td>Reserve Late Harvest</td>\n",
       "      <td>87</td>\n",
       "      <td>13.0</td>\n",
       "      <td>Michigan</td>\n",
       "      <td>Lake Michigan Shore</td>\n",
       "      <td>NaN</td>\n",
       "      <td>Alexander Peartree</td>\n",
       "      <td>NaN</td>\n",
       "      <td>St. Julian 2013 Reserve Late Harvest Riesling ...</td>\n",
       "      <td>Riesling</td>\n",
       "      <td>St. Julian</td>\n",
       "    </tr>\n",
       "    <tr>\n",
       "      <th>4</th>\n",
       "      <td>US</td>\n",
       "      <td>Much like the regular bottling from 2012, this...</td>\n",
       "      <td>Vintner's Reserve Wild Child Block</td>\n",
       "      <td>87</td>\n",
       "      <td>65.0</td>\n",
       "      <td>Oregon</td>\n",
       "      <td>Willamette Valley</td>\n",
       "      <td>Willamette Valley</td>\n",
       "      <td>Paul Gregutt</td>\n",
       "      <td>@paulgwine</td>\n",
       "      <td>Sweet Cheeks 2012 Vintner's Reserve Wild Child...</td>\n",
       "      <td>Pinot Noir</td>\n",
       "      <td>Sweet Cheeks</td>\n",
       "    </tr>\n",
       "  </tbody>\n",
       "</table>\n",
       "</div>"
      ],
      "text/plain": [
       "    country                                        description  \\\n",
       "0     Italy  Aromas include tropical fruit, broom, brimston...   \n",
       "1  Portugal  This is ripe and fruity, a wine that is smooth...   \n",
       "2        US  Tart and snappy, the flavors of lime flesh and...   \n",
       "3        US  Pineapple rind, lemon pith and orange blossom ...   \n",
       "4        US  Much like the regular bottling from 2012, this...   \n",
       "\n",
       "                          designation  points  price           province  \\\n",
       "0                        Vulkà Bianco      87    NaN  Sicily & Sardinia   \n",
       "1                            Avidagos      87   15.0              Douro   \n",
       "2                                 NaN      87   14.0             Oregon   \n",
       "3                Reserve Late Harvest      87   13.0           Michigan   \n",
       "4  Vintner's Reserve Wild Child Block      87   65.0             Oregon   \n",
       "\n",
       "              region_1           region_2         taster_name  \\\n",
       "0                 Etna                NaN       Kerin O’Keefe   \n",
       "1                  NaN                NaN          Roger Voss   \n",
       "2    Willamette Valley  Willamette Valley        Paul Gregutt   \n",
       "3  Lake Michigan Shore                NaN  Alexander Peartree   \n",
       "4    Willamette Valley  Willamette Valley        Paul Gregutt   \n",
       "\n",
       "  taster_twitter_handle                                              title  \\\n",
       "0          @kerinokeefe                  Nicosia 2013 Vulkà Bianco  (Etna)   \n",
       "1            @vossroger      Quinta dos Avidagos 2011 Avidagos Red (Douro)   \n",
       "2           @paulgwine       Rainstorm 2013 Pinot Gris (Willamette Valley)   \n",
       "3                   NaN  St. Julian 2013 Reserve Late Harvest Riesling ...   \n",
       "4           @paulgwine   Sweet Cheeks 2012 Vintner's Reserve Wild Child...   \n",
       "\n",
       "          variety               winery  \n",
       "0     White Blend              Nicosia  \n",
       "1  Portuguese Red  Quinta dos Avidagos  \n",
       "2      Pinot Gris            Rainstorm  \n",
       "3        Riesling           St. Julian  \n",
       "4      Pinot Noir         Sweet Cheeks  "
      ]
     },
     "execution_count": 2,
     "metadata": {},
     "output_type": "execute_result"
    }
   ],
   "source": [
    "reviews.head()"
   ]
  },
  {
   "cell_type": "markdown",
   "id": "73a57776",
   "metadata": {
    "papermill": {
     "duration": 0.006346,
     "end_time": "2022-11-14T15:25:07.979793",
     "exception": false,
     "start_time": "2022-11-14T15:25:07.973447",
     "status": "completed"
    },
    "tags": []
   },
   "source": [
    "## 1.\n",
    "`region_1` and `region_2` are pretty uninformative names for locale columns in the dataset. Create a copy of `reviews` with these columns renamed to `region` and `locale`, respectively."
   ]
  },
  {
   "cell_type": "code",
   "execution_count": 3,
   "id": "499073e8",
   "metadata": {
    "execution": {
     "iopub.execute_input": "2022-11-14T15:25:07.992773Z",
     "iopub.status.busy": "2022-11-14T15:25:07.992444Z",
     "iopub.status.idle": "2022-11-14T15:25:08.016353Z",
     "shell.execute_reply": "2022-11-14T15:25:08.015266Z"
    },
    "papermill": {
     "duration": 0.03313,
     "end_time": "2022-11-14T15:25:08.018590",
     "exception": false,
     "start_time": "2022-11-14T15:25:07.985460",
     "status": "completed"
    },
    "tags": []
   },
   "outputs": [
    {
     "data": {
      "application/javascript": [
       "parent.postMessage({\"jupyterEvent\": \"custom.exercise_interaction\", \"data\": {\"outcomeType\": 1, \"valueTowardsCompletion\": 0.25, \"interactionType\": 1, \"questionType\": 1, \"questionId\": \"1_RenameCols\", \"learnToolsVersion\": \"0.3.4\", \"failureMessage\": \"\", \"exceptionClass\": \"\", \"trace\": \"\"}}, \"*\")"
      ],
      "text/plain": [
       "<IPython.core.display.Javascript object>"
      ]
     },
     "metadata": {},
     "output_type": "display_data"
    },
    {
     "data": {
      "text/markdown": [
       "<span style=\"color:#33cc33\">Correct</span>"
      ],
      "text/plain": [
       "Correct"
      ]
     },
     "metadata": {},
     "output_type": "display_data"
    }
   ],
   "source": [
    "# Your code here\n",
    "renamed = reviews.rename(columns={'region_1': 'region', 'region_2': 'locale'})\n",
    "\n",
    "# Check your answer\n",
    "q1.check()"
   ]
  },
  {
   "cell_type": "code",
   "execution_count": 4,
   "id": "9e5a438a",
   "metadata": {
    "execution": {
     "iopub.execute_input": "2022-11-14T15:25:08.034337Z",
     "iopub.status.busy": "2022-11-14T15:25:08.033983Z",
     "iopub.status.idle": "2022-11-14T15:25:08.051456Z",
     "shell.execute_reply": "2022-11-14T15:25:08.050121Z"
    },
    "papermill": {
     "duration": 0.028385,
     "end_time": "2022-11-14T15:25:08.054046",
     "exception": false,
     "start_time": "2022-11-14T15:25:08.025661",
     "status": "completed"
    },
    "tags": []
   },
   "outputs": [
    {
     "data": {
      "text/html": [
       "<div>\n",
       "<style scoped>\n",
       "    .dataframe tbody tr th:only-of-type {\n",
       "        vertical-align: middle;\n",
       "    }\n",
       "\n",
       "    .dataframe tbody tr th {\n",
       "        vertical-align: top;\n",
       "    }\n",
       "\n",
       "    .dataframe thead th {\n",
       "        text-align: right;\n",
       "    }\n",
       "</style>\n",
       "<table border=\"1\" class=\"dataframe\">\n",
       "  <thead>\n",
       "    <tr style=\"text-align: right;\">\n",
       "      <th></th>\n",
       "      <th>country</th>\n",
       "      <th>description</th>\n",
       "      <th>designation</th>\n",
       "      <th>points</th>\n",
       "      <th>price</th>\n",
       "      <th>province</th>\n",
       "      <th>region</th>\n",
       "      <th>locale</th>\n",
       "      <th>taster_name</th>\n",
       "      <th>taster_twitter_handle</th>\n",
       "      <th>title</th>\n",
       "      <th>variety</th>\n",
       "      <th>winery</th>\n",
       "    </tr>\n",
       "  </thead>\n",
       "  <tbody>\n",
       "    <tr>\n",
       "      <th>0</th>\n",
       "      <td>Italy</td>\n",
       "      <td>Aromas include tropical fruit, broom, brimston...</td>\n",
       "      <td>Vulkà Bianco</td>\n",
       "      <td>87</td>\n",
       "      <td>NaN</td>\n",
       "      <td>Sicily &amp; Sardinia</td>\n",
       "      <td>Etna</td>\n",
       "      <td>NaN</td>\n",
       "      <td>Kerin O’Keefe</td>\n",
       "      <td>@kerinokeefe</td>\n",
       "      <td>Nicosia 2013 Vulkà Bianco  (Etna)</td>\n",
       "      <td>White Blend</td>\n",
       "      <td>Nicosia</td>\n",
       "    </tr>\n",
       "    <tr>\n",
       "      <th>1</th>\n",
       "      <td>Portugal</td>\n",
       "      <td>This is ripe and fruity, a wine that is smooth...</td>\n",
       "      <td>Avidagos</td>\n",
       "      <td>87</td>\n",
       "      <td>15.0</td>\n",
       "      <td>Douro</td>\n",
       "      <td>NaN</td>\n",
       "      <td>NaN</td>\n",
       "      <td>Roger Voss</td>\n",
       "      <td>@vossroger</td>\n",
       "      <td>Quinta dos Avidagos 2011 Avidagos Red (Douro)</td>\n",
       "      <td>Portuguese Red</td>\n",
       "      <td>Quinta dos Avidagos</td>\n",
       "    </tr>\n",
       "    <tr>\n",
       "      <th>2</th>\n",
       "      <td>US</td>\n",
       "      <td>Tart and snappy, the flavors of lime flesh and...</td>\n",
       "      <td>NaN</td>\n",
       "      <td>87</td>\n",
       "      <td>14.0</td>\n",
       "      <td>Oregon</td>\n",
       "      <td>Willamette Valley</td>\n",
       "      <td>Willamette Valley</td>\n",
       "      <td>Paul Gregutt</td>\n",
       "      <td>@paulgwine</td>\n",
       "      <td>Rainstorm 2013 Pinot Gris (Willamette Valley)</td>\n",
       "      <td>Pinot Gris</td>\n",
       "      <td>Rainstorm</td>\n",
       "    </tr>\n",
       "    <tr>\n",
       "      <th>3</th>\n",
       "      <td>US</td>\n",
       "      <td>Pineapple rind, lemon pith and orange blossom ...</td>\n",
       "      <td>Reserve Late Harvest</td>\n",
       "      <td>87</td>\n",
       "      <td>13.0</td>\n",
       "      <td>Michigan</td>\n",
       "      <td>Lake Michigan Shore</td>\n",
       "      <td>NaN</td>\n",
       "      <td>Alexander Peartree</td>\n",
       "      <td>NaN</td>\n",
       "      <td>St. Julian 2013 Reserve Late Harvest Riesling ...</td>\n",
       "      <td>Riesling</td>\n",
       "      <td>St. Julian</td>\n",
       "    </tr>\n",
       "    <tr>\n",
       "      <th>4</th>\n",
       "      <td>US</td>\n",
       "      <td>Much like the regular bottling from 2012, this...</td>\n",
       "      <td>Vintner's Reserve Wild Child Block</td>\n",
       "      <td>87</td>\n",
       "      <td>65.0</td>\n",
       "      <td>Oregon</td>\n",
       "      <td>Willamette Valley</td>\n",
       "      <td>Willamette Valley</td>\n",
       "      <td>Paul Gregutt</td>\n",
       "      <td>@paulgwine</td>\n",
       "      <td>Sweet Cheeks 2012 Vintner's Reserve Wild Child...</td>\n",
       "      <td>Pinot Noir</td>\n",
       "      <td>Sweet Cheeks</td>\n",
       "    </tr>\n",
       "  </tbody>\n",
       "</table>\n",
       "</div>"
      ],
      "text/plain": [
       "    country                                        description  \\\n",
       "0     Italy  Aromas include tropical fruit, broom, brimston...   \n",
       "1  Portugal  This is ripe and fruity, a wine that is smooth...   \n",
       "2        US  Tart and snappy, the flavors of lime flesh and...   \n",
       "3        US  Pineapple rind, lemon pith and orange blossom ...   \n",
       "4        US  Much like the regular bottling from 2012, this...   \n",
       "\n",
       "                          designation  points  price           province  \\\n",
       "0                        Vulkà Bianco      87    NaN  Sicily & Sardinia   \n",
       "1                            Avidagos      87   15.0              Douro   \n",
       "2                                 NaN      87   14.0             Oregon   \n",
       "3                Reserve Late Harvest      87   13.0           Michigan   \n",
       "4  Vintner's Reserve Wild Child Block      87   65.0             Oregon   \n",
       "\n",
       "                region             locale         taster_name  \\\n",
       "0                 Etna                NaN       Kerin O’Keefe   \n",
       "1                  NaN                NaN          Roger Voss   \n",
       "2    Willamette Valley  Willamette Valley        Paul Gregutt   \n",
       "3  Lake Michigan Shore                NaN  Alexander Peartree   \n",
       "4    Willamette Valley  Willamette Valley        Paul Gregutt   \n",
       "\n",
       "  taster_twitter_handle                                              title  \\\n",
       "0          @kerinokeefe                  Nicosia 2013 Vulkà Bianco  (Etna)   \n",
       "1            @vossroger      Quinta dos Avidagos 2011 Avidagos Red (Douro)   \n",
       "2           @paulgwine       Rainstorm 2013 Pinot Gris (Willamette Valley)   \n",
       "3                   NaN  St. Julian 2013 Reserve Late Harvest Riesling ...   \n",
       "4           @paulgwine   Sweet Cheeks 2012 Vintner's Reserve Wild Child...   \n",
       "\n",
       "          variety               winery  \n",
       "0     White Blend              Nicosia  \n",
       "1  Portuguese Red  Quinta dos Avidagos  \n",
       "2      Pinot Gris            Rainstorm  \n",
       "3        Riesling           St. Julian  \n",
       "4      Pinot Noir         Sweet Cheeks  "
      ]
     },
     "execution_count": 4,
     "metadata": {},
     "output_type": "execute_result"
    }
   ],
   "source": [
    "renamed.head()"
   ]
  },
  {
   "cell_type": "code",
   "execution_count": 5,
   "id": "428ebe32",
   "metadata": {
    "execution": {
     "iopub.execute_input": "2022-11-14T15:25:08.071541Z",
     "iopub.status.busy": "2022-11-14T15:25:08.070355Z",
     "iopub.status.idle": "2022-11-14T15:25:08.075961Z",
     "shell.execute_reply": "2022-11-14T15:25:08.074517Z"
    },
    "papermill": {
     "duration": 0.01614,
     "end_time": "2022-11-14T15:25:08.078234",
     "exception": false,
     "start_time": "2022-11-14T15:25:08.062094",
     "status": "completed"
    },
    "tags": []
   },
   "outputs": [],
   "source": [
    "#q1.hint()\n",
    "#q1.solution()"
   ]
  },
  {
   "cell_type": "markdown",
   "id": "7c77b039",
   "metadata": {
    "papermill": {
     "duration": 0.006716,
     "end_time": "2022-11-14T15:25:08.092441",
     "exception": false,
     "start_time": "2022-11-14T15:25:08.085725",
     "status": "completed"
    },
    "tags": []
   },
   "source": [
    "## 2.\n",
    "Set the index name in the dataset to `wines`."
   ]
  },
  {
   "cell_type": "code",
   "execution_count": 6,
   "id": "4c01e9c6",
   "metadata": {
    "execution": {
     "iopub.execute_input": "2022-11-14T15:25:08.107910Z",
     "iopub.status.busy": "2022-11-14T15:25:08.107544Z",
     "iopub.status.idle": "2022-11-14T15:25:08.131655Z",
     "shell.execute_reply": "2022-11-14T15:25:08.130671Z"
    },
    "papermill": {
     "duration": 0.034233,
     "end_time": "2022-11-14T15:25:08.133474",
     "exception": false,
     "start_time": "2022-11-14T15:25:08.099241",
     "status": "completed"
    },
    "tags": []
   },
   "outputs": [
    {
     "data": {
      "application/javascript": [
       "parent.postMessage({\"jupyterEvent\": \"custom.exercise_interaction\", \"data\": {\"outcomeType\": 1, \"valueTowardsCompletion\": 0.25, \"interactionType\": 1, \"questionType\": 1, \"questionId\": \"2_RenameIndex\", \"learnToolsVersion\": \"0.3.4\", \"failureMessage\": \"\", \"exceptionClass\": \"\", \"trace\": \"\"}}, \"*\")"
      ],
      "text/plain": [
       "<IPython.core.display.Javascript object>"
      ]
     },
     "metadata": {},
     "output_type": "display_data"
    },
    {
     "data": {
      "text/markdown": [
       "<span style=\"color:#33cc33\">Correct</span>"
      ],
      "text/plain": [
       "Correct"
      ]
     },
     "metadata": {},
     "output_type": "display_data"
    }
   ],
   "source": [
    "reindexed = reviews.rename_axis('wines', axis='columns')\n",
    "\n",
    "# Check your answer\n",
    "q2.check()"
   ]
  },
  {
   "cell_type": "code",
   "execution_count": 7,
   "id": "247f441d",
   "metadata": {
    "execution": {
     "iopub.execute_input": "2022-11-14T15:25:08.149869Z",
     "iopub.status.busy": "2022-11-14T15:25:08.149523Z",
     "iopub.status.idle": "2022-11-14T15:25:08.167543Z",
     "shell.execute_reply": "2022-11-14T15:25:08.165703Z"
    },
    "papermill": {
     "duration": 0.028739,
     "end_time": "2022-11-14T15:25:08.169673",
     "exception": false,
     "start_time": "2022-11-14T15:25:08.140934",
     "status": "completed"
    },
    "tags": []
   },
   "outputs": [
    {
     "data": {
      "text/html": [
       "<div>\n",
       "<style scoped>\n",
       "    .dataframe tbody tr th:only-of-type {\n",
       "        vertical-align: middle;\n",
       "    }\n",
       "\n",
       "    .dataframe tbody tr th {\n",
       "        vertical-align: top;\n",
       "    }\n",
       "\n",
       "    .dataframe thead th {\n",
       "        text-align: right;\n",
       "    }\n",
       "</style>\n",
       "<table border=\"1\" class=\"dataframe\">\n",
       "  <thead>\n",
       "    <tr style=\"text-align: right;\">\n",
       "      <th>wines</th>\n",
       "      <th>country</th>\n",
       "      <th>description</th>\n",
       "      <th>designation</th>\n",
       "      <th>points</th>\n",
       "      <th>price</th>\n",
       "      <th>province</th>\n",
       "      <th>region_1</th>\n",
       "      <th>region_2</th>\n",
       "      <th>taster_name</th>\n",
       "      <th>taster_twitter_handle</th>\n",
       "      <th>title</th>\n",
       "      <th>variety</th>\n",
       "      <th>winery</th>\n",
       "    </tr>\n",
       "  </thead>\n",
       "  <tbody>\n",
       "    <tr>\n",
       "      <th>0</th>\n",
       "      <td>Italy</td>\n",
       "      <td>Aromas include tropical fruit, broom, brimston...</td>\n",
       "      <td>Vulkà Bianco</td>\n",
       "      <td>87</td>\n",
       "      <td>NaN</td>\n",
       "      <td>Sicily &amp; Sardinia</td>\n",
       "      <td>Etna</td>\n",
       "      <td>NaN</td>\n",
       "      <td>Kerin O’Keefe</td>\n",
       "      <td>@kerinokeefe</td>\n",
       "      <td>Nicosia 2013 Vulkà Bianco  (Etna)</td>\n",
       "      <td>White Blend</td>\n",
       "      <td>Nicosia</td>\n",
       "    </tr>\n",
       "    <tr>\n",
       "      <th>1</th>\n",
       "      <td>Portugal</td>\n",
       "      <td>This is ripe and fruity, a wine that is smooth...</td>\n",
       "      <td>Avidagos</td>\n",
       "      <td>87</td>\n",
       "      <td>15.0</td>\n",
       "      <td>Douro</td>\n",
       "      <td>NaN</td>\n",
       "      <td>NaN</td>\n",
       "      <td>Roger Voss</td>\n",
       "      <td>@vossroger</td>\n",
       "      <td>Quinta dos Avidagos 2011 Avidagos Red (Douro)</td>\n",
       "      <td>Portuguese Red</td>\n",
       "      <td>Quinta dos Avidagos</td>\n",
       "    </tr>\n",
       "    <tr>\n",
       "      <th>2</th>\n",
       "      <td>US</td>\n",
       "      <td>Tart and snappy, the flavors of lime flesh and...</td>\n",
       "      <td>NaN</td>\n",
       "      <td>87</td>\n",
       "      <td>14.0</td>\n",
       "      <td>Oregon</td>\n",
       "      <td>Willamette Valley</td>\n",
       "      <td>Willamette Valley</td>\n",
       "      <td>Paul Gregutt</td>\n",
       "      <td>@paulgwine</td>\n",
       "      <td>Rainstorm 2013 Pinot Gris (Willamette Valley)</td>\n",
       "      <td>Pinot Gris</td>\n",
       "      <td>Rainstorm</td>\n",
       "    </tr>\n",
       "    <tr>\n",
       "      <th>3</th>\n",
       "      <td>US</td>\n",
       "      <td>Pineapple rind, lemon pith and orange blossom ...</td>\n",
       "      <td>Reserve Late Harvest</td>\n",
       "      <td>87</td>\n",
       "      <td>13.0</td>\n",
       "      <td>Michigan</td>\n",
       "      <td>Lake Michigan Shore</td>\n",
       "      <td>NaN</td>\n",
       "      <td>Alexander Peartree</td>\n",
       "      <td>NaN</td>\n",
       "      <td>St. Julian 2013 Reserve Late Harvest Riesling ...</td>\n",
       "      <td>Riesling</td>\n",
       "      <td>St. Julian</td>\n",
       "    </tr>\n",
       "    <tr>\n",
       "      <th>4</th>\n",
       "      <td>US</td>\n",
       "      <td>Much like the regular bottling from 2012, this...</td>\n",
       "      <td>Vintner's Reserve Wild Child Block</td>\n",
       "      <td>87</td>\n",
       "      <td>65.0</td>\n",
       "      <td>Oregon</td>\n",
       "      <td>Willamette Valley</td>\n",
       "      <td>Willamette Valley</td>\n",
       "      <td>Paul Gregutt</td>\n",
       "      <td>@paulgwine</td>\n",
       "      <td>Sweet Cheeks 2012 Vintner's Reserve Wild Child...</td>\n",
       "      <td>Pinot Noir</td>\n",
       "      <td>Sweet Cheeks</td>\n",
       "    </tr>\n",
       "  </tbody>\n",
       "</table>\n",
       "</div>"
      ],
      "text/plain": [
       "wines   country                                        description  \\\n",
       "0         Italy  Aromas include tropical fruit, broom, brimston...   \n",
       "1      Portugal  This is ripe and fruity, a wine that is smooth...   \n",
       "2            US  Tart and snappy, the flavors of lime flesh and...   \n",
       "3            US  Pineapple rind, lemon pith and orange blossom ...   \n",
       "4            US  Much like the regular bottling from 2012, this...   \n",
       "\n",
       "wines                         designation  points  price           province  \\\n",
       "0                            Vulkà Bianco      87    NaN  Sicily & Sardinia   \n",
       "1                                Avidagos      87   15.0              Douro   \n",
       "2                                     NaN      87   14.0             Oregon   \n",
       "3                    Reserve Late Harvest      87   13.0           Michigan   \n",
       "4      Vintner's Reserve Wild Child Block      87   65.0             Oregon   \n",
       "\n",
       "wines             region_1           region_2         taster_name  \\\n",
       "0                     Etna                NaN       Kerin O’Keefe   \n",
       "1                      NaN                NaN          Roger Voss   \n",
       "2        Willamette Valley  Willamette Valley        Paul Gregutt   \n",
       "3      Lake Michigan Shore                NaN  Alexander Peartree   \n",
       "4        Willamette Valley  Willamette Valley        Paul Gregutt   \n",
       "\n",
       "wines taster_twitter_handle  \\\n",
       "0              @kerinokeefe   \n",
       "1                @vossroger   \n",
       "2               @paulgwine    \n",
       "3                       NaN   \n",
       "4               @paulgwine    \n",
       "\n",
       "wines                                              title         variety  \\\n",
       "0                      Nicosia 2013 Vulkà Bianco  (Etna)     White Blend   \n",
       "1          Quinta dos Avidagos 2011 Avidagos Red (Douro)  Portuguese Red   \n",
       "2          Rainstorm 2013 Pinot Gris (Willamette Valley)      Pinot Gris   \n",
       "3      St. Julian 2013 Reserve Late Harvest Riesling ...        Riesling   \n",
       "4      Sweet Cheeks 2012 Vintner's Reserve Wild Child...      Pinot Noir   \n",
       "\n",
       "wines               winery  \n",
       "0                  Nicosia  \n",
       "1      Quinta dos Avidagos  \n",
       "2                Rainstorm  \n",
       "3               St. Julian  \n",
       "4             Sweet Cheeks  "
      ]
     },
     "execution_count": 7,
     "metadata": {},
     "output_type": "execute_result"
    }
   ],
   "source": [
    "reindexed.head()"
   ]
  },
  {
   "cell_type": "code",
   "execution_count": 8,
   "id": "6dce9e15",
   "metadata": {
    "execution": {
     "iopub.execute_input": "2022-11-14T15:25:08.186812Z",
     "iopub.status.busy": "2022-11-14T15:25:08.185760Z",
     "iopub.status.idle": "2022-11-14T15:25:08.191314Z",
     "shell.execute_reply": "2022-11-14T15:25:08.189418Z"
    },
    "papermill": {
     "duration": 0.016744,
     "end_time": "2022-11-14T15:25:08.194083",
     "exception": false,
     "start_time": "2022-11-14T15:25:08.177339",
     "status": "completed"
    },
    "tags": []
   },
   "outputs": [],
   "source": [
    "#q2.hint()\n",
    "#q2.solution()"
   ]
  },
  {
   "cell_type": "markdown",
   "id": "0a471c2f",
   "metadata": {
    "papermill": {
     "duration": 0.007388,
     "end_time": "2022-11-14T15:25:08.209227",
     "exception": false,
     "start_time": "2022-11-14T15:25:08.201839",
     "status": "completed"
    },
    "tags": []
   },
   "source": [
    "## 3.\n",
    "The [Things on Reddit](https://www.kaggle.com/residentmario/things-on-reddit/data) dataset includes product links from a selection of top-ranked forums (\"subreddits\") on reddit.com. Run the cell below to load a dataframe of products mentioned on the */r/gaming* subreddit and another dataframe for products mentioned on the *r//movies* subreddit."
   ]
  },
  {
   "cell_type": "code",
   "execution_count": 9,
   "id": "370feece",
   "metadata": {
    "execution": {
     "iopub.execute_input": "2022-11-14T15:25:08.226069Z",
     "iopub.status.busy": "2022-11-14T15:25:08.225661Z",
     "iopub.status.idle": "2022-11-14T15:25:08.238936Z",
     "shell.execute_reply": "2022-11-14T15:25:08.237627Z"
    },
    "papermill": {
     "duration": 0.024554,
     "end_time": "2022-11-14T15:25:08.241278",
     "exception": false,
     "start_time": "2022-11-14T15:25:08.216724",
     "status": "completed"
    },
    "tags": []
   },
   "outputs": [],
   "source": [
    "gaming_products = pd.read_csv(\"../input/things-on-reddit/top-things/top-things/reddits/g/gaming.csv\")\n",
    "gaming_products['subreddit'] = \"r/gaming\"\n",
    "movie_products = pd.read_csv(\"../input/things-on-reddit/top-things/top-things/reddits/m/movies.csv\")\n",
    "movie_products['subreddit'] = \"r/movies\""
   ]
  },
  {
   "cell_type": "code",
   "execution_count": 10,
   "id": "d1a5e74a",
   "metadata": {
    "execution": {
     "iopub.execute_input": "2022-11-14T15:25:08.258868Z",
     "iopub.status.busy": "2022-11-14T15:25:08.258481Z",
     "iopub.status.idle": "2022-11-14T15:25:08.269206Z",
     "shell.execute_reply": "2022-11-14T15:25:08.268542Z"
    },
    "papermill": {
     "duration": 0.022012,
     "end_time": "2022-11-14T15:25:08.271050",
     "exception": false,
     "start_time": "2022-11-14T15:25:08.249038",
     "status": "completed"
    },
    "tags": []
   },
   "outputs": [
    {
     "data": {
      "text/html": [
       "<div>\n",
       "<style scoped>\n",
       "    .dataframe tbody tr th:only-of-type {\n",
       "        vertical-align: middle;\n",
       "    }\n",
       "\n",
       "    .dataframe tbody tr th {\n",
       "        vertical-align: top;\n",
       "    }\n",
       "\n",
       "    .dataframe thead th {\n",
       "        text-align: right;\n",
       "    }\n",
       "</style>\n",
       "<table border=\"1\" class=\"dataframe\">\n",
       "  <thead>\n",
       "    <tr style=\"text-align: right;\">\n",
       "      <th></th>\n",
       "      <th>name</th>\n",
       "      <th>category</th>\n",
       "      <th>amazon_link</th>\n",
       "      <th>total_mentions</th>\n",
       "      <th>subreddit_mentions</th>\n",
       "      <th>subreddit</th>\n",
       "    </tr>\n",
       "  </thead>\n",
       "  <tbody>\n",
       "    <tr>\n",
       "      <th>0</th>\n",
       "      <td>BOOMco Halo Covenant Needler Blaster</td>\n",
       "      <td>Toys &amp; Games</td>\n",
       "      <td>https://www.amazon.com/BOOMco-Halo-Covenant-Ne...</td>\n",
       "      <td>4.0</td>\n",
       "      <td>4</td>\n",
       "      <td>r/gaming</td>\n",
       "    </tr>\n",
       "    <tr>\n",
       "      <th>1</th>\n",
       "      <td>Raspberry PI 3 Model B 1.2GHz 64-bit quad-core...</td>\n",
       "      <td>Electronics</td>\n",
       "      <td>https://www.amazon.com/Raspberry-Model-A1-2GHz...</td>\n",
       "      <td>19.0</td>\n",
       "      <td>3</td>\n",
       "      <td>r/gaming</td>\n",
       "    </tr>\n",
       "    <tr>\n",
       "      <th>2</th>\n",
       "      <td>CanaKit 5V 2.5A Raspberry Pi 3 Power Supply / ...</td>\n",
       "      <td>Electronics</td>\n",
       "      <td>https://www.amazon.com/CanaKit-Raspberry-Suppl...</td>\n",
       "      <td>7.0</td>\n",
       "      <td>3</td>\n",
       "      <td>r/gaming</td>\n",
       "    </tr>\n",
       "    <tr>\n",
       "      <th>3</th>\n",
       "      <td>Panasonic K-KJ17MCA4BA Advanced Individual Cel...</td>\n",
       "      <td>Electronics</td>\n",
       "      <td>https://www.amazon.com/Panasonic-Advanced-Indi...</td>\n",
       "      <td>29.0</td>\n",
       "      <td>2</td>\n",
       "      <td>r/gaming</td>\n",
       "    </tr>\n",
       "    <tr>\n",
       "      <th>4</th>\n",
       "      <td>Mayflash GameCube Controller Adapter for Wii U...</td>\n",
       "      <td>Electronics</td>\n",
       "      <td>https://www.amazon.com/GameCube-Controller-Ada...</td>\n",
       "      <td>24.0</td>\n",
       "      <td>2</td>\n",
       "      <td>r/gaming</td>\n",
       "    </tr>\n",
       "  </tbody>\n",
       "</table>\n",
       "</div>"
      ],
      "text/plain": [
       "                                                name      category  \\\n",
       "0               BOOMco Halo Covenant Needler Blaster  Toys & Games   \n",
       "1  Raspberry PI 3 Model B 1.2GHz 64-bit quad-core...   Electronics   \n",
       "2  CanaKit 5V 2.5A Raspberry Pi 3 Power Supply / ...   Electronics   \n",
       "3  Panasonic K-KJ17MCA4BA Advanced Individual Cel...   Electronics   \n",
       "4  Mayflash GameCube Controller Adapter for Wii U...   Electronics   \n",
       "\n",
       "                                         amazon_link  total_mentions  \\\n",
       "0  https://www.amazon.com/BOOMco-Halo-Covenant-Ne...             4.0   \n",
       "1  https://www.amazon.com/Raspberry-Model-A1-2GHz...            19.0   \n",
       "2  https://www.amazon.com/CanaKit-Raspberry-Suppl...             7.0   \n",
       "3  https://www.amazon.com/Panasonic-Advanced-Indi...            29.0   \n",
       "4  https://www.amazon.com/GameCube-Controller-Ada...            24.0   \n",
       "\n",
       "   subreddit_mentions subreddit  \n",
       "0                   4  r/gaming  \n",
       "1                   3  r/gaming  \n",
       "2                   3  r/gaming  \n",
       "3                   2  r/gaming  \n",
       "4                   2  r/gaming  "
      ]
     },
     "execution_count": 10,
     "metadata": {},
     "output_type": "execute_result"
    }
   ],
   "source": [
    "gaming_products.head()"
   ]
  },
  {
   "cell_type": "code",
   "execution_count": 11,
   "id": "d6495a93",
   "metadata": {
    "execution": {
     "iopub.execute_input": "2022-11-14T15:25:08.287337Z",
     "iopub.status.busy": "2022-11-14T15:25:08.287056Z",
     "iopub.status.idle": "2022-11-14T15:25:08.292955Z",
     "shell.execute_reply": "2022-11-14T15:25:08.291841Z"
    },
    "papermill": {
     "duration": 0.016111,
     "end_time": "2022-11-14T15:25:08.294910",
     "exception": false,
     "start_time": "2022-11-14T15:25:08.278799",
     "status": "completed"
    },
    "tags": []
   },
   "outputs": [
    {
     "data": {
      "text/plain": [
       "(493, 6)"
      ]
     },
     "execution_count": 11,
     "metadata": {},
     "output_type": "execute_result"
    }
   ],
   "source": [
    "gaming_products.shape"
   ]
  },
  {
   "cell_type": "code",
   "execution_count": 12,
   "id": "891761ad",
   "metadata": {
    "execution": {
     "iopub.execute_input": "2022-11-14T15:25:08.312055Z",
     "iopub.status.busy": "2022-11-14T15:25:08.311675Z",
     "iopub.status.idle": "2022-11-14T15:25:08.324313Z",
     "shell.execute_reply": "2022-11-14T15:25:08.323250Z"
    },
    "papermill": {
     "duration": 0.023557,
     "end_time": "2022-11-14T15:25:08.326318",
     "exception": false,
     "start_time": "2022-11-14T15:25:08.302761",
     "status": "completed"
    },
    "tags": []
   },
   "outputs": [
    {
     "data": {
      "text/html": [
       "<div>\n",
       "<style scoped>\n",
       "    .dataframe tbody tr th:only-of-type {\n",
       "        vertical-align: middle;\n",
       "    }\n",
       "\n",
       "    .dataframe tbody tr th {\n",
       "        vertical-align: top;\n",
       "    }\n",
       "\n",
       "    .dataframe thead th {\n",
       "        text-align: right;\n",
       "    }\n",
       "</style>\n",
       "<table border=\"1\" class=\"dataframe\">\n",
       "  <thead>\n",
       "    <tr style=\"text-align: right;\">\n",
       "      <th></th>\n",
       "      <th>name</th>\n",
       "      <th>category</th>\n",
       "      <th>amazon_link</th>\n",
       "      <th>total_mentions</th>\n",
       "      <th>subreddit_mentions</th>\n",
       "      <th>subreddit</th>\n",
       "    </tr>\n",
       "  </thead>\n",
       "  <tbody>\n",
       "    <tr>\n",
       "      <th>0</th>\n",
       "      <td>Marvel Cinematic Universe: Phase One - Avenger...</td>\n",
       "      <td>Movies &amp; TV</td>\n",
       "      <td>https://www.amazon.com/Marvel-Cinematic-Univer...</td>\n",
       "      <td>4.0</td>\n",
       "      <td>3</td>\n",
       "      <td>r/movies</td>\n",
       "    </tr>\n",
       "    <tr>\n",
       "      <th>1</th>\n",
       "      <td>On Stranger Tides</td>\n",
       "      <td>Books</td>\n",
       "      <td>https://www.amazon.com/Stranger-Tides-Tim-Powe...</td>\n",
       "      <td>3.0</td>\n",
       "      <td>3</td>\n",
       "      <td>r/movies</td>\n",
       "    </tr>\n",
       "    <tr>\n",
       "      <th>2</th>\n",
       "      <td>Superintelligence: Paths, Dangers, Strategies</td>\n",
       "      <td>Books</td>\n",
       "      <td>https://www.amazon.com/Superintelligence-Dange...</td>\n",
       "      <td>7.0</td>\n",
       "      <td>2</td>\n",
       "      <td>r/movies</td>\n",
       "    </tr>\n",
       "    <tr>\n",
       "      <th>3</th>\n",
       "      <td>The Secret History of Star Wars</td>\n",
       "      <td>Books</td>\n",
       "      <td>https://www.amazon.com/Secret-History-Star-War...</td>\n",
       "      <td>4.0</td>\n",
       "      <td>2</td>\n",
       "      <td>r/movies</td>\n",
       "    </tr>\n",
       "    <tr>\n",
       "      <th>4</th>\n",
       "      <td>2D Glasses 4 Pack - Turns 3D movies back into ...</td>\n",
       "      <td>Electronics</td>\n",
       "      <td>https://www.amazon.com/gp/product/B00K9E7GCC</td>\n",
       "      <td>3.0</td>\n",
       "      <td>2</td>\n",
       "      <td>r/movies</td>\n",
       "    </tr>\n",
       "  </tbody>\n",
       "</table>\n",
       "</div>"
      ],
      "text/plain": [
       "                                                name     category  \\\n",
       "0  Marvel Cinematic Universe: Phase One - Avenger...  Movies & TV   \n",
       "1                                  On Stranger Tides        Books   \n",
       "2      Superintelligence: Paths, Dangers, Strategies        Books   \n",
       "3                    The Secret History of Star Wars        Books   \n",
       "4  2D Glasses 4 Pack - Turns 3D movies back into ...  Electronics   \n",
       "\n",
       "                                         amazon_link  total_mentions  \\\n",
       "0  https://www.amazon.com/Marvel-Cinematic-Univer...             4.0   \n",
       "1  https://www.amazon.com/Stranger-Tides-Tim-Powe...             3.0   \n",
       "2  https://www.amazon.com/Superintelligence-Dange...             7.0   \n",
       "3  https://www.amazon.com/Secret-History-Star-War...             4.0   \n",
       "4       https://www.amazon.com/gp/product/B00K9E7GCC             3.0   \n",
       "\n",
       "   subreddit_mentions subreddit  \n",
       "0                   3  r/movies  \n",
       "1                   3  r/movies  \n",
       "2                   2  r/movies  \n",
       "3                   2  r/movies  \n",
       "4                   2  r/movies  "
      ]
     },
     "execution_count": 12,
     "metadata": {},
     "output_type": "execute_result"
    }
   ],
   "source": [
    "movie_products.head()"
   ]
  },
  {
   "cell_type": "code",
   "execution_count": 13,
   "id": "bc5394c7",
   "metadata": {
    "execution": {
     "iopub.execute_input": "2022-11-14T15:25:08.345233Z",
     "iopub.status.busy": "2022-11-14T15:25:08.344879Z",
     "iopub.status.idle": "2022-11-14T15:25:08.351074Z",
     "shell.execute_reply": "2022-11-14T15:25:08.349953Z"
    },
    "papermill": {
     "duration": 0.018158,
     "end_time": "2022-11-14T15:25:08.352987",
     "exception": false,
     "start_time": "2022-11-14T15:25:08.334829",
     "status": "completed"
    },
    "tags": []
   },
   "outputs": [
    {
     "data": {
      "text/plain": [
       "(303, 6)"
      ]
     },
     "execution_count": 13,
     "metadata": {},
     "output_type": "execute_result"
    }
   ],
   "source": [
    "movie_products.shape"
   ]
  },
  {
   "cell_type": "markdown",
   "id": "8938c7f4",
   "metadata": {
    "papermill": {
     "duration": 0.008157,
     "end_time": "2022-11-14T15:25:08.369601",
     "exception": false,
     "start_time": "2022-11-14T15:25:08.361444",
     "status": "completed"
    },
    "tags": []
   },
   "source": [
    "Create a `DataFrame` of products mentioned on *either* subreddit."
   ]
  },
  {
   "cell_type": "code",
   "execution_count": 14,
   "id": "e7cfb985",
   "metadata": {
    "execution": {
     "iopub.execute_input": "2022-11-14T15:25:08.387968Z",
     "iopub.status.busy": "2022-11-14T15:25:08.387615Z",
     "iopub.status.idle": "2022-11-14T15:25:08.401615Z",
     "shell.execute_reply": "2022-11-14T15:25:08.400718Z"
    },
    "papermill": {
     "duration": 0.026051,
     "end_time": "2022-11-14T15:25:08.403987",
     "exception": false,
     "start_time": "2022-11-14T15:25:08.377936",
     "status": "completed"
    },
    "tags": []
   },
   "outputs": [
    {
     "data": {
      "application/javascript": [
       "parent.postMessage({\"jupyterEvent\": \"custom.exercise_interaction\", \"data\": {\"outcomeType\": 1, \"valueTowardsCompletion\": 0.25, \"interactionType\": 1, \"questionType\": 2, \"questionId\": \"3_ConcatReddit\", \"learnToolsVersion\": \"0.3.4\", \"failureMessage\": \"\", \"exceptionClass\": \"\", \"trace\": \"\"}}, \"*\")"
      ],
      "text/plain": [
       "<IPython.core.display.Javascript object>"
      ]
     },
     "metadata": {},
     "output_type": "display_data"
    },
    {
     "data": {
      "text/markdown": [
       "<span style=\"color:#33cc33\">Correct</span>"
      ],
      "text/plain": [
       "Correct"
      ]
     },
     "metadata": {},
     "output_type": "display_data"
    }
   ],
   "source": [
    "combined_products = pd.concat([gaming_products, movie_products])\n",
    "\n",
    "# Check your answer\n",
    "q3.check()"
   ]
  },
  {
   "cell_type": "code",
   "execution_count": 15,
   "id": "f2be28b3",
   "metadata": {
    "execution": {
     "iopub.execute_input": "2022-11-14T15:25:08.423981Z",
     "iopub.status.busy": "2022-11-14T15:25:08.423643Z",
     "iopub.status.idle": "2022-11-14T15:25:08.440187Z",
     "shell.execute_reply": "2022-11-14T15:25:08.439162Z"
    },
    "papermill": {
     "duration": 0.029341,
     "end_time": "2022-11-14T15:25:08.442151",
     "exception": false,
     "start_time": "2022-11-14T15:25:08.412810",
     "status": "completed"
    },
    "tags": []
   },
   "outputs": [
    {
     "data": {
      "text/html": [
       "<div>\n",
       "<style scoped>\n",
       "    .dataframe tbody tr th:only-of-type {\n",
       "        vertical-align: middle;\n",
       "    }\n",
       "\n",
       "    .dataframe tbody tr th {\n",
       "        vertical-align: top;\n",
       "    }\n",
       "\n",
       "    .dataframe thead th {\n",
       "        text-align: right;\n",
       "    }\n",
       "</style>\n",
       "<table border=\"1\" class=\"dataframe\">\n",
       "  <thead>\n",
       "    <tr style=\"text-align: right;\">\n",
       "      <th></th>\n",
       "      <th>name</th>\n",
       "      <th>category</th>\n",
       "      <th>amazon_link</th>\n",
       "      <th>total_mentions</th>\n",
       "      <th>subreddit_mentions</th>\n",
       "      <th>subreddit</th>\n",
       "    </tr>\n",
       "  </thead>\n",
       "  <tbody>\n",
       "    <tr>\n",
       "      <th>0</th>\n",
       "      <td>BOOMco Halo Covenant Needler Blaster</td>\n",
       "      <td>Toys &amp; Games</td>\n",
       "      <td>https://www.amazon.com/BOOMco-Halo-Covenant-Ne...</td>\n",
       "      <td>4.0</td>\n",
       "      <td>4</td>\n",
       "      <td>r/gaming</td>\n",
       "    </tr>\n",
       "    <tr>\n",
       "      <th>1</th>\n",
       "      <td>Raspberry PI 3 Model B 1.2GHz 64-bit quad-core...</td>\n",
       "      <td>Electronics</td>\n",
       "      <td>https://www.amazon.com/Raspberry-Model-A1-2GHz...</td>\n",
       "      <td>19.0</td>\n",
       "      <td>3</td>\n",
       "      <td>r/gaming</td>\n",
       "    </tr>\n",
       "    <tr>\n",
       "      <th>2</th>\n",
       "      <td>CanaKit 5V 2.5A Raspberry Pi 3 Power Supply / ...</td>\n",
       "      <td>Electronics</td>\n",
       "      <td>https://www.amazon.com/CanaKit-Raspberry-Suppl...</td>\n",
       "      <td>7.0</td>\n",
       "      <td>3</td>\n",
       "      <td>r/gaming</td>\n",
       "    </tr>\n",
       "    <tr>\n",
       "      <th>3</th>\n",
       "      <td>Panasonic K-KJ17MCA4BA Advanced Individual Cel...</td>\n",
       "      <td>Electronics</td>\n",
       "      <td>https://www.amazon.com/Panasonic-Advanced-Indi...</td>\n",
       "      <td>29.0</td>\n",
       "      <td>2</td>\n",
       "      <td>r/gaming</td>\n",
       "    </tr>\n",
       "    <tr>\n",
       "      <th>4</th>\n",
       "      <td>Mayflash GameCube Controller Adapter for Wii U...</td>\n",
       "      <td>Electronics</td>\n",
       "      <td>https://www.amazon.com/GameCube-Controller-Ada...</td>\n",
       "      <td>24.0</td>\n",
       "      <td>2</td>\n",
       "      <td>r/gaming</td>\n",
       "    </tr>\n",
       "    <tr>\n",
       "      <th>...</th>\n",
       "      <td>...</td>\n",
       "      <td>...</td>\n",
       "      <td>...</td>\n",
       "      <td>...</td>\n",
       "      <td>...</td>\n",
       "      <td>...</td>\n",
       "    </tr>\n",
       "    <tr>\n",
       "      <th>298</th>\n",
       "      <td>Welcome to Night Vale CD: A Novel</td>\n",
       "      <td>Books</td>\n",
       "      <td>https://www.amazon.com/Welcome-Night-Vale-CD-N...</td>\n",
       "      <td>1.0</td>\n",
       "      <td>1</td>\n",
       "      <td>r/movies</td>\n",
       "    </tr>\n",
       "    <tr>\n",
       "      <th>299</th>\n",
       "      <td>Ran (StudioCanal Collection) [Blu-ray]</td>\n",
       "      <td>Movies &amp; TV</td>\n",
       "      <td>https://www.amazon.com/StudioCanal-Collection-...</td>\n",
       "      <td>1.0</td>\n",
       "      <td>1</td>\n",
       "      <td>r/movies</td>\n",
       "    </tr>\n",
       "    <tr>\n",
       "      <th>300</th>\n",
       "      <td>The Art of John Alvin</td>\n",
       "      <td>Books</td>\n",
       "      <td>https://www.amazon.com/Art-John-Alvin-Andrea/d...</td>\n",
       "      <td>1.0</td>\n",
       "      <td>1</td>\n",
       "      <td>r/movies</td>\n",
       "    </tr>\n",
       "    <tr>\n",
       "      <th>301</th>\n",
       "      <td>Apocalypto [Blu-ray]</td>\n",
       "      <td>Movies &amp; TV</td>\n",
       "      <td>https://www.amazon.com/Apocalypto-Blu-ray-Rudy...</td>\n",
       "      <td>1.0</td>\n",
       "      <td>1</td>\n",
       "      <td>r/movies</td>\n",
       "    </tr>\n",
       "    <tr>\n",
       "      <th>302</th>\n",
       "      <td>Cinelinx: A Card Game for People Who Love Movi...</td>\n",
       "      <td>Toys &amp; Games</td>\n",
       "      <td>https://www.amazon.com/Cinelinx-Card-Game-Peop...</td>\n",
       "      <td>1.0</td>\n",
       "      <td>1</td>\n",
       "      <td>r/movies</td>\n",
       "    </tr>\n",
       "  </tbody>\n",
       "</table>\n",
       "<p>796 rows × 6 columns</p>\n",
       "</div>"
      ],
      "text/plain": [
       "                                                  name      category  \\\n",
       "0                 BOOMco Halo Covenant Needler Blaster  Toys & Games   \n",
       "1    Raspberry PI 3 Model B 1.2GHz 64-bit quad-core...   Electronics   \n",
       "2    CanaKit 5V 2.5A Raspberry Pi 3 Power Supply / ...   Electronics   \n",
       "3    Panasonic K-KJ17MCA4BA Advanced Individual Cel...   Electronics   \n",
       "4    Mayflash GameCube Controller Adapter for Wii U...   Electronics   \n",
       "..                                                 ...           ...   \n",
       "298                  Welcome to Night Vale CD: A Novel         Books   \n",
       "299             Ran (StudioCanal Collection) [Blu-ray]   Movies & TV   \n",
       "300                              The Art of John Alvin         Books   \n",
       "301                               Apocalypto [Blu-ray]   Movies & TV   \n",
       "302  Cinelinx: A Card Game for People Who Love Movi...  Toys & Games   \n",
       "\n",
       "                                           amazon_link  total_mentions  \\\n",
       "0    https://www.amazon.com/BOOMco-Halo-Covenant-Ne...             4.0   \n",
       "1    https://www.amazon.com/Raspberry-Model-A1-2GHz...            19.0   \n",
       "2    https://www.amazon.com/CanaKit-Raspberry-Suppl...             7.0   \n",
       "3    https://www.amazon.com/Panasonic-Advanced-Indi...            29.0   \n",
       "4    https://www.amazon.com/GameCube-Controller-Ada...            24.0   \n",
       "..                                                 ...             ...   \n",
       "298  https://www.amazon.com/Welcome-Night-Vale-CD-N...             1.0   \n",
       "299  https://www.amazon.com/StudioCanal-Collection-...             1.0   \n",
       "300  https://www.amazon.com/Art-John-Alvin-Andrea/d...             1.0   \n",
       "301  https://www.amazon.com/Apocalypto-Blu-ray-Rudy...             1.0   \n",
       "302  https://www.amazon.com/Cinelinx-Card-Game-Peop...             1.0   \n",
       "\n",
       "     subreddit_mentions subreddit  \n",
       "0                     4  r/gaming  \n",
       "1                     3  r/gaming  \n",
       "2                     3  r/gaming  \n",
       "3                     2  r/gaming  \n",
       "4                     2  r/gaming  \n",
       "..                  ...       ...  \n",
       "298                   1  r/movies  \n",
       "299                   1  r/movies  \n",
       "300                   1  r/movies  \n",
       "301                   1  r/movies  \n",
       "302                   1  r/movies  \n",
       "\n",
       "[796 rows x 6 columns]"
      ]
     },
     "execution_count": 15,
     "metadata": {},
     "output_type": "execute_result"
    }
   ],
   "source": [
    "combined_products"
   ]
  },
  {
   "cell_type": "code",
   "execution_count": 16,
   "id": "7069fbce",
   "metadata": {
    "execution": {
     "iopub.execute_input": "2022-11-14T15:25:08.462279Z",
     "iopub.status.busy": "2022-11-14T15:25:08.461937Z",
     "iopub.status.idle": "2022-11-14T15:25:08.467526Z",
     "shell.execute_reply": "2022-11-14T15:25:08.465912Z"
    },
    "papermill": {
     "duration": 0.018637,
     "end_time": "2022-11-14T15:25:08.470020",
     "exception": false,
     "start_time": "2022-11-14T15:25:08.451383",
     "status": "completed"
    },
    "tags": []
   },
   "outputs": [],
   "source": [
    "#q3.hint()\n",
    "#q3.solution()"
   ]
  },
  {
   "cell_type": "markdown",
   "id": "7b1f0460",
   "metadata": {
    "papermill": {
     "duration": 0.008375,
     "end_time": "2022-11-14T15:25:08.487474",
     "exception": false,
     "start_time": "2022-11-14T15:25:08.479099",
     "status": "completed"
    },
    "tags": []
   },
   "source": [
    "## 4.\n",
    "The [Powerlifting Database](https://www.kaggle.com/open-powerlifting/powerlifting-database) dataset on Kaggle includes one CSV table for powerlifting meets and a separate one for powerlifting competitors. Run the cell below to load these datasets into dataframes:"
   ]
  },
  {
   "cell_type": "code",
   "execution_count": 17,
   "id": "5e7a6794",
   "metadata": {
    "execution": {
     "iopub.execute_input": "2022-11-14T15:25:08.506840Z",
     "iopub.status.busy": "2022-11-14T15:25:08.506460Z",
     "iopub.status.idle": "2022-11-14T15:25:09.059384Z",
     "shell.execute_reply": "2022-11-14T15:25:09.058219Z"
    },
    "papermill": {
     "duration": 0.565246,
     "end_time": "2022-11-14T15:25:09.061598",
     "exception": false,
     "start_time": "2022-11-14T15:25:08.496352",
     "status": "completed"
    },
    "tags": []
   },
   "outputs": [],
   "source": [
    "powerlifting_meets = pd.read_csv(\"../input/powerlifting-database/meets.csv\")\n",
    "powerlifting_competitors = pd.read_csv(\"../input/powerlifting-database/openpowerlifting.csv\")"
   ]
  },
  {
   "cell_type": "code",
   "execution_count": 18,
   "id": "fe07fe38",
   "metadata": {
    "execution": {
     "iopub.execute_input": "2022-11-14T15:25:09.080478Z",
     "iopub.status.busy": "2022-11-14T15:25:09.080135Z",
     "iopub.status.idle": "2022-11-14T15:25:09.092669Z",
     "shell.execute_reply": "2022-11-14T15:25:09.091761Z"
    },
    "papermill": {
     "duration": 0.024424,
     "end_time": "2022-11-14T15:25:09.094813",
     "exception": false,
     "start_time": "2022-11-14T15:25:09.070389",
     "status": "completed"
    },
    "tags": []
   },
   "outputs": [
    {
     "data": {
      "text/html": [
       "<div>\n",
       "<style scoped>\n",
       "    .dataframe tbody tr th:only-of-type {\n",
       "        vertical-align: middle;\n",
       "    }\n",
       "\n",
       "    .dataframe tbody tr th {\n",
       "        vertical-align: top;\n",
       "    }\n",
       "\n",
       "    .dataframe thead th {\n",
       "        text-align: right;\n",
       "    }\n",
       "</style>\n",
       "<table border=\"1\" class=\"dataframe\">\n",
       "  <thead>\n",
       "    <tr style=\"text-align: right;\">\n",
       "      <th></th>\n",
       "      <th>MeetID</th>\n",
       "      <th>MeetPath</th>\n",
       "      <th>Federation</th>\n",
       "      <th>Date</th>\n",
       "      <th>MeetCountry</th>\n",
       "      <th>MeetState</th>\n",
       "      <th>MeetTown</th>\n",
       "      <th>MeetName</th>\n",
       "    </tr>\n",
       "  </thead>\n",
       "  <tbody>\n",
       "    <tr>\n",
       "      <th>0</th>\n",
       "      <td>0</td>\n",
       "      <td>365strong/1601</td>\n",
       "      <td>365Strong</td>\n",
       "      <td>2016-10-29</td>\n",
       "      <td>USA</td>\n",
       "      <td>NC</td>\n",
       "      <td>Charlotte</td>\n",
       "      <td>2016 Junior &amp; Senior National Powerlifting Cha...</td>\n",
       "    </tr>\n",
       "    <tr>\n",
       "      <th>1</th>\n",
       "      <td>1</td>\n",
       "      <td>365strong/1602</td>\n",
       "      <td>365Strong</td>\n",
       "      <td>2016-11-19</td>\n",
       "      <td>USA</td>\n",
       "      <td>MO</td>\n",
       "      <td>Ozark</td>\n",
       "      <td>Thanksgiving Powerlifting Classic</td>\n",
       "    </tr>\n",
       "    <tr>\n",
       "      <th>2</th>\n",
       "      <td>2</td>\n",
       "      <td>365strong/1603</td>\n",
       "      <td>365Strong</td>\n",
       "      <td>2016-07-09</td>\n",
       "      <td>USA</td>\n",
       "      <td>NC</td>\n",
       "      <td>Charlotte</td>\n",
       "      <td>Charlotte Europa Games</td>\n",
       "    </tr>\n",
       "    <tr>\n",
       "      <th>3</th>\n",
       "      <td>3</td>\n",
       "      <td>365strong/1604</td>\n",
       "      <td>365Strong</td>\n",
       "      <td>2016-06-11</td>\n",
       "      <td>USA</td>\n",
       "      <td>SC</td>\n",
       "      <td>Rock Hill</td>\n",
       "      <td>Carolina Cup Push Pull Challenge</td>\n",
       "    </tr>\n",
       "    <tr>\n",
       "      <th>4</th>\n",
       "      <td>4</td>\n",
       "      <td>365strong/1605</td>\n",
       "      <td>365Strong</td>\n",
       "      <td>2016-04-10</td>\n",
       "      <td>USA</td>\n",
       "      <td>SC</td>\n",
       "      <td>Rock Hill</td>\n",
       "      <td>Eastern USA Challenge</td>\n",
       "    </tr>\n",
       "  </tbody>\n",
       "</table>\n",
       "</div>"
      ],
      "text/plain": [
       "   MeetID        MeetPath Federation        Date MeetCountry MeetState  \\\n",
       "0       0  365strong/1601  365Strong  2016-10-29         USA        NC   \n",
       "1       1  365strong/1602  365Strong  2016-11-19         USA        MO   \n",
       "2       2  365strong/1603  365Strong  2016-07-09         USA        NC   \n",
       "3       3  365strong/1604  365Strong  2016-06-11         USA        SC   \n",
       "4       4  365strong/1605  365Strong  2016-04-10         USA        SC   \n",
       "\n",
       "    MeetTown                                           MeetName  \n",
       "0  Charlotte  2016 Junior & Senior National Powerlifting Cha...  \n",
       "1      Ozark                  Thanksgiving Powerlifting Classic  \n",
       "2  Charlotte                             Charlotte Europa Games  \n",
       "3  Rock Hill                   Carolina Cup Push Pull Challenge  \n",
       "4  Rock Hill                              Eastern USA Challenge  "
      ]
     },
     "execution_count": 18,
     "metadata": {},
     "output_type": "execute_result"
    }
   ],
   "source": [
    "powerlifting_meets.head()"
   ]
  },
  {
   "cell_type": "code",
   "execution_count": 19,
   "id": "52b6d3a0",
   "metadata": {
    "execution": {
     "iopub.execute_input": "2022-11-14T15:25:09.113055Z",
     "iopub.status.busy": "2022-11-14T15:25:09.112746Z",
     "iopub.status.idle": "2022-11-14T15:25:09.130774Z",
     "shell.execute_reply": "2022-11-14T15:25:09.129786Z"
    },
    "papermill": {
     "duration": 0.029355,
     "end_time": "2022-11-14T15:25:09.132659",
     "exception": false,
     "start_time": "2022-11-14T15:25:09.103304",
     "status": "completed"
    },
    "tags": []
   },
   "outputs": [
    {
     "data": {
      "text/html": [
       "<div>\n",
       "<style scoped>\n",
       "    .dataframe tbody tr th:only-of-type {\n",
       "        vertical-align: middle;\n",
       "    }\n",
       "\n",
       "    .dataframe tbody tr th {\n",
       "        vertical-align: top;\n",
       "    }\n",
       "\n",
       "    .dataframe thead th {\n",
       "        text-align: right;\n",
       "    }\n",
       "</style>\n",
       "<table border=\"1\" class=\"dataframe\">\n",
       "  <thead>\n",
       "    <tr style=\"text-align: right;\">\n",
       "      <th></th>\n",
       "      <th>MeetID</th>\n",
       "      <th>Name</th>\n",
       "      <th>Sex</th>\n",
       "      <th>Equipment</th>\n",
       "      <th>Age</th>\n",
       "      <th>Division</th>\n",
       "      <th>BodyweightKg</th>\n",
       "      <th>WeightClassKg</th>\n",
       "      <th>Squat4Kg</th>\n",
       "      <th>BestSquatKg</th>\n",
       "      <th>Bench4Kg</th>\n",
       "      <th>BestBenchKg</th>\n",
       "      <th>Deadlift4Kg</th>\n",
       "      <th>BestDeadliftKg</th>\n",
       "      <th>TotalKg</th>\n",
       "      <th>Place</th>\n",
       "      <th>Wilks</th>\n",
       "    </tr>\n",
       "  </thead>\n",
       "  <tbody>\n",
       "    <tr>\n",
       "      <th>0</th>\n",
       "      <td>0</td>\n",
       "      <td>Angie Belk Terry</td>\n",
       "      <td>F</td>\n",
       "      <td>Wraps</td>\n",
       "      <td>47.0</td>\n",
       "      <td>Mst 45-49</td>\n",
       "      <td>59.60</td>\n",
       "      <td>60</td>\n",
       "      <td>NaN</td>\n",
       "      <td>47.63</td>\n",
       "      <td>NaN</td>\n",
       "      <td>20.41</td>\n",
       "      <td>NaN</td>\n",
       "      <td>70.31</td>\n",
       "      <td>138.35</td>\n",
       "      <td>1</td>\n",
       "      <td>155.05</td>\n",
       "    </tr>\n",
       "    <tr>\n",
       "      <th>1</th>\n",
       "      <td>0</td>\n",
       "      <td>Dawn Bogart</td>\n",
       "      <td>F</td>\n",
       "      <td>Single-ply</td>\n",
       "      <td>42.0</td>\n",
       "      <td>Mst 40-44</td>\n",
       "      <td>58.51</td>\n",
       "      <td>60</td>\n",
       "      <td>NaN</td>\n",
       "      <td>142.88</td>\n",
       "      <td>NaN</td>\n",
       "      <td>95.25</td>\n",
       "      <td>NaN</td>\n",
       "      <td>163.29</td>\n",
       "      <td>401.42</td>\n",
       "      <td>1</td>\n",
       "      <td>456.38</td>\n",
       "    </tr>\n",
       "    <tr>\n",
       "      <th>2</th>\n",
       "      <td>0</td>\n",
       "      <td>Dawn Bogart</td>\n",
       "      <td>F</td>\n",
       "      <td>Single-ply</td>\n",
       "      <td>42.0</td>\n",
       "      <td>Open Senior</td>\n",
       "      <td>58.51</td>\n",
       "      <td>60</td>\n",
       "      <td>NaN</td>\n",
       "      <td>142.88</td>\n",
       "      <td>NaN</td>\n",
       "      <td>95.25</td>\n",
       "      <td>NaN</td>\n",
       "      <td>163.29</td>\n",
       "      <td>401.42</td>\n",
       "      <td>1</td>\n",
       "      <td>456.38</td>\n",
       "    </tr>\n",
       "    <tr>\n",
       "      <th>3</th>\n",
       "      <td>0</td>\n",
       "      <td>Dawn Bogart</td>\n",
       "      <td>F</td>\n",
       "      <td>Raw</td>\n",
       "      <td>42.0</td>\n",
       "      <td>Open Senior</td>\n",
       "      <td>58.51</td>\n",
       "      <td>60</td>\n",
       "      <td>NaN</td>\n",
       "      <td>NaN</td>\n",
       "      <td>NaN</td>\n",
       "      <td>95.25</td>\n",
       "      <td>NaN</td>\n",
       "      <td>NaN</td>\n",
       "      <td>95.25</td>\n",
       "      <td>1</td>\n",
       "      <td>108.29</td>\n",
       "    </tr>\n",
       "    <tr>\n",
       "      <th>4</th>\n",
       "      <td>0</td>\n",
       "      <td>Destiny Dula</td>\n",
       "      <td>F</td>\n",
       "      <td>Raw</td>\n",
       "      <td>18.0</td>\n",
       "      <td>Teen 18-19</td>\n",
       "      <td>63.68</td>\n",
       "      <td>67.5</td>\n",
       "      <td>NaN</td>\n",
       "      <td>NaN</td>\n",
       "      <td>NaN</td>\n",
       "      <td>31.75</td>\n",
       "      <td>NaN</td>\n",
       "      <td>90.72</td>\n",
       "      <td>122.47</td>\n",
       "      <td>1</td>\n",
       "      <td>130.47</td>\n",
       "    </tr>\n",
       "  </tbody>\n",
       "</table>\n",
       "</div>"
      ],
      "text/plain": [
       "   MeetID              Name Sex   Equipment   Age     Division  BodyweightKg  \\\n",
       "0       0  Angie Belk Terry   F       Wraps  47.0    Mst 45-49         59.60   \n",
       "1       0       Dawn Bogart   F  Single-ply  42.0    Mst 40-44         58.51   \n",
       "2       0       Dawn Bogart   F  Single-ply  42.0  Open Senior         58.51   \n",
       "3       0       Dawn Bogart   F         Raw  42.0  Open Senior         58.51   \n",
       "4       0      Destiny Dula   F         Raw  18.0   Teen 18-19         63.68   \n",
       "\n",
       "  WeightClassKg  Squat4Kg  BestSquatKg  Bench4Kg  BestBenchKg  Deadlift4Kg  \\\n",
       "0            60       NaN        47.63       NaN        20.41          NaN   \n",
       "1            60       NaN       142.88       NaN        95.25          NaN   \n",
       "2            60       NaN       142.88       NaN        95.25          NaN   \n",
       "3            60       NaN          NaN       NaN        95.25          NaN   \n",
       "4          67.5       NaN          NaN       NaN        31.75          NaN   \n",
       "\n",
       "   BestDeadliftKg  TotalKg Place   Wilks  \n",
       "0           70.31   138.35     1  155.05  \n",
       "1          163.29   401.42     1  456.38  \n",
       "2          163.29   401.42     1  456.38  \n",
       "3             NaN    95.25     1  108.29  \n",
       "4           90.72   122.47     1  130.47  "
      ]
     },
     "execution_count": 19,
     "metadata": {},
     "output_type": "execute_result"
    }
   ],
   "source": [
    "powerlifting_competitors.head()"
   ]
  },
  {
   "cell_type": "markdown",
   "id": "88796b8f",
   "metadata": {
    "papermill": {
     "duration": 0.009046,
     "end_time": "2022-11-14T15:25:09.150919",
     "exception": false,
     "start_time": "2022-11-14T15:25:09.141873",
     "status": "completed"
    },
    "tags": []
   },
   "source": [
    "Both tables include references to a `MeetID`, a unique key for each meet (competition) included in the database. Using this, generate a dataset combining the two tables into one."
   ]
  },
  {
   "cell_type": "code",
   "execution_count": 20,
   "id": "3ebf92eb",
   "metadata": {
    "execution": {
     "iopub.execute_input": "2022-11-14T15:25:09.170980Z",
     "iopub.status.busy": "2022-11-14T15:25:09.170639Z",
     "iopub.status.idle": "2022-11-14T15:25:09.920494Z",
     "shell.execute_reply": "2022-11-14T15:25:09.919846Z"
    },
    "papermill": {
     "duration": 0.761947,
     "end_time": "2022-11-14T15:25:09.922040",
     "exception": false,
     "start_time": "2022-11-14T15:25:09.160093",
     "status": "completed"
    },
    "tags": []
   },
   "outputs": [
    {
     "data": {
      "application/javascript": [
       "parent.postMessage({\"jupyterEvent\": \"custom.exercise_interaction\", \"data\": {\"outcomeType\": 1, \"valueTowardsCompletion\": 0.25, \"interactionType\": 1, \"questionType\": 2, \"questionId\": \"4_JoinLifting\", \"learnToolsVersion\": \"0.3.4\", \"failureMessage\": \"\", \"exceptionClass\": \"\", \"trace\": \"\"}}, \"*\")"
      ],
      "text/plain": [
       "<IPython.core.display.Javascript object>"
      ]
     },
     "metadata": {},
     "output_type": "display_data"
    },
    {
     "data": {
      "text/markdown": [
       "<span style=\"color:#33cc33\">Correct</span>"
      ],
      "text/plain": [
       "Correct"
      ]
     },
     "metadata": {},
     "output_type": "display_data"
    }
   ],
   "source": [
    "powerlifting_combined = powerlifting_meets.set_index('MeetID').join(powerlifting_competitors.set_index('MeetID'))\n",
    "\n",
    "# Check your answer\n",
    "q4.check()"
   ]
  },
  {
   "cell_type": "code",
   "execution_count": 21,
   "id": "3bc6d87c",
   "metadata": {
    "execution": {
     "iopub.execute_input": "2022-11-14T15:25:09.944602Z",
     "iopub.status.busy": "2022-11-14T15:25:09.944234Z",
     "iopub.status.idle": "2022-11-14T15:25:09.972385Z",
     "shell.execute_reply": "2022-11-14T15:25:09.970849Z"
    },
    "papermill": {
     "duration": 0.042377,
     "end_time": "2022-11-14T15:25:09.974785",
     "exception": false,
     "start_time": "2022-11-14T15:25:09.932408",
     "status": "completed"
    },
    "tags": []
   },
   "outputs": [
    {
     "data": {
      "text/html": [
       "<div>\n",
       "<style scoped>\n",
       "    .dataframe tbody tr th:only-of-type {\n",
       "        vertical-align: middle;\n",
       "    }\n",
       "\n",
       "    .dataframe tbody tr th {\n",
       "        vertical-align: top;\n",
       "    }\n",
       "\n",
       "    .dataframe thead th {\n",
       "        text-align: right;\n",
       "    }\n",
       "</style>\n",
       "<table border=\"1\" class=\"dataframe\">\n",
       "  <thead>\n",
       "    <tr style=\"text-align: right;\">\n",
       "      <th></th>\n",
       "      <th>MeetPath</th>\n",
       "      <th>Federation</th>\n",
       "      <th>Date</th>\n",
       "      <th>MeetCountry</th>\n",
       "      <th>MeetState</th>\n",
       "      <th>MeetTown</th>\n",
       "      <th>MeetName</th>\n",
       "      <th>Name</th>\n",
       "      <th>Sex</th>\n",
       "      <th>Equipment</th>\n",
       "      <th>...</th>\n",
       "      <th>WeightClassKg</th>\n",
       "      <th>Squat4Kg</th>\n",
       "      <th>BestSquatKg</th>\n",
       "      <th>Bench4Kg</th>\n",
       "      <th>BestBenchKg</th>\n",
       "      <th>Deadlift4Kg</th>\n",
       "      <th>BestDeadliftKg</th>\n",
       "      <th>TotalKg</th>\n",
       "      <th>Place</th>\n",
       "      <th>Wilks</th>\n",
       "    </tr>\n",
       "    <tr>\n",
       "      <th>MeetID</th>\n",
       "      <th></th>\n",
       "      <th></th>\n",
       "      <th></th>\n",
       "      <th></th>\n",
       "      <th></th>\n",
       "      <th></th>\n",
       "      <th></th>\n",
       "      <th></th>\n",
       "      <th></th>\n",
       "      <th></th>\n",
       "      <th></th>\n",
       "      <th></th>\n",
       "      <th></th>\n",
       "      <th></th>\n",
       "      <th></th>\n",
       "      <th></th>\n",
       "      <th></th>\n",
       "      <th></th>\n",
       "      <th></th>\n",
       "      <th></th>\n",
       "      <th></th>\n",
       "    </tr>\n",
       "  </thead>\n",
       "  <tbody>\n",
       "    <tr>\n",
       "      <th>0</th>\n",
       "      <td>365strong/1601</td>\n",
       "      <td>365Strong</td>\n",
       "      <td>2016-10-29</td>\n",
       "      <td>USA</td>\n",
       "      <td>NC</td>\n",
       "      <td>Charlotte</td>\n",
       "      <td>2016 Junior &amp; Senior National Powerlifting Cha...</td>\n",
       "      <td>Angie Belk Terry</td>\n",
       "      <td>F</td>\n",
       "      <td>Wraps</td>\n",
       "      <td>...</td>\n",
       "      <td>60</td>\n",
       "      <td>NaN</td>\n",
       "      <td>47.63</td>\n",
       "      <td>NaN</td>\n",
       "      <td>20.41</td>\n",
       "      <td>NaN</td>\n",
       "      <td>70.31</td>\n",
       "      <td>138.35</td>\n",
       "      <td>1</td>\n",
       "      <td>155.05</td>\n",
       "    </tr>\n",
       "    <tr>\n",
       "      <th>0</th>\n",
       "      <td>365strong/1601</td>\n",
       "      <td>365Strong</td>\n",
       "      <td>2016-10-29</td>\n",
       "      <td>USA</td>\n",
       "      <td>NC</td>\n",
       "      <td>Charlotte</td>\n",
       "      <td>2016 Junior &amp; Senior National Powerlifting Cha...</td>\n",
       "      <td>Dawn Bogart</td>\n",
       "      <td>F</td>\n",
       "      <td>Single-ply</td>\n",
       "      <td>...</td>\n",
       "      <td>60</td>\n",
       "      <td>NaN</td>\n",
       "      <td>142.88</td>\n",
       "      <td>NaN</td>\n",
       "      <td>95.25</td>\n",
       "      <td>NaN</td>\n",
       "      <td>163.29</td>\n",
       "      <td>401.42</td>\n",
       "      <td>1</td>\n",
       "      <td>456.38</td>\n",
       "    </tr>\n",
       "    <tr>\n",
       "      <th>0</th>\n",
       "      <td>365strong/1601</td>\n",
       "      <td>365Strong</td>\n",
       "      <td>2016-10-29</td>\n",
       "      <td>USA</td>\n",
       "      <td>NC</td>\n",
       "      <td>Charlotte</td>\n",
       "      <td>2016 Junior &amp; Senior National Powerlifting Cha...</td>\n",
       "      <td>Dawn Bogart</td>\n",
       "      <td>F</td>\n",
       "      <td>Single-ply</td>\n",
       "      <td>...</td>\n",
       "      <td>60</td>\n",
       "      <td>NaN</td>\n",
       "      <td>142.88</td>\n",
       "      <td>NaN</td>\n",
       "      <td>95.25</td>\n",
       "      <td>NaN</td>\n",
       "      <td>163.29</td>\n",
       "      <td>401.42</td>\n",
       "      <td>1</td>\n",
       "      <td>456.38</td>\n",
       "    </tr>\n",
       "    <tr>\n",
       "      <th>0</th>\n",
       "      <td>365strong/1601</td>\n",
       "      <td>365Strong</td>\n",
       "      <td>2016-10-29</td>\n",
       "      <td>USA</td>\n",
       "      <td>NC</td>\n",
       "      <td>Charlotte</td>\n",
       "      <td>2016 Junior &amp; Senior National Powerlifting Cha...</td>\n",
       "      <td>Dawn Bogart</td>\n",
       "      <td>F</td>\n",
       "      <td>Raw</td>\n",
       "      <td>...</td>\n",
       "      <td>60</td>\n",
       "      <td>NaN</td>\n",
       "      <td>NaN</td>\n",
       "      <td>NaN</td>\n",
       "      <td>95.25</td>\n",
       "      <td>NaN</td>\n",
       "      <td>NaN</td>\n",
       "      <td>95.25</td>\n",
       "      <td>1</td>\n",
       "      <td>108.29</td>\n",
       "    </tr>\n",
       "    <tr>\n",
       "      <th>0</th>\n",
       "      <td>365strong/1601</td>\n",
       "      <td>365Strong</td>\n",
       "      <td>2016-10-29</td>\n",
       "      <td>USA</td>\n",
       "      <td>NC</td>\n",
       "      <td>Charlotte</td>\n",
       "      <td>2016 Junior &amp; Senior National Powerlifting Cha...</td>\n",
       "      <td>Destiny Dula</td>\n",
       "      <td>F</td>\n",
       "      <td>Raw</td>\n",
       "      <td>...</td>\n",
       "      <td>67.5</td>\n",
       "      <td>NaN</td>\n",
       "      <td>NaN</td>\n",
       "      <td>NaN</td>\n",
       "      <td>31.75</td>\n",
       "      <td>NaN</td>\n",
       "      <td>90.72</td>\n",
       "      <td>122.47</td>\n",
       "      <td>1</td>\n",
       "      <td>130.47</td>\n",
       "    </tr>\n",
       "  </tbody>\n",
       "</table>\n",
       "<p>5 rows × 23 columns</p>\n",
       "</div>"
      ],
      "text/plain": [
       "              MeetPath Federation        Date MeetCountry MeetState  \\\n",
       "MeetID                                                                \n",
       "0       365strong/1601  365Strong  2016-10-29         USA        NC   \n",
       "0       365strong/1601  365Strong  2016-10-29         USA        NC   \n",
       "0       365strong/1601  365Strong  2016-10-29         USA        NC   \n",
       "0       365strong/1601  365Strong  2016-10-29         USA        NC   \n",
       "0       365strong/1601  365Strong  2016-10-29         USA        NC   \n",
       "\n",
       "         MeetTown                                           MeetName  \\\n",
       "MeetID                                                                 \n",
       "0       Charlotte  2016 Junior & Senior National Powerlifting Cha...   \n",
       "0       Charlotte  2016 Junior & Senior National Powerlifting Cha...   \n",
       "0       Charlotte  2016 Junior & Senior National Powerlifting Cha...   \n",
       "0       Charlotte  2016 Junior & Senior National Powerlifting Cha...   \n",
       "0       Charlotte  2016 Junior & Senior National Powerlifting Cha...   \n",
       "\n",
       "                    Name Sex   Equipment  ...  WeightClassKg Squat4Kg  \\\n",
       "MeetID                                    ...                           \n",
       "0       Angie Belk Terry   F       Wraps  ...             60      NaN   \n",
       "0            Dawn Bogart   F  Single-ply  ...             60      NaN   \n",
       "0            Dawn Bogart   F  Single-ply  ...             60      NaN   \n",
       "0            Dawn Bogart   F         Raw  ...             60      NaN   \n",
       "0           Destiny Dula   F         Raw  ...           67.5      NaN   \n",
       "\n",
       "        BestSquatKg Bench4Kg  BestBenchKg  Deadlift4Kg  BestDeadliftKg  \\\n",
       "MeetID                                                                   \n",
       "0             47.63      NaN        20.41          NaN           70.31   \n",
       "0            142.88      NaN        95.25          NaN          163.29   \n",
       "0            142.88      NaN        95.25          NaN          163.29   \n",
       "0               NaN      NaN        95.25          NaN             NaN   \n",
       "0               NaN      NaN        31.75          NaN           90.72   \n",
       "\n",
       "        TotalKg  Place   Wilks  \n",
       "MeetID                          \n",
       "0        138.35      1  155.05  \n",
       "0        401.42      1  456.38  \n",
       "0        401.42      1  456.38  \n",
       "0         95.25      1  108.29  \n",
       "0        122.47      1  130.47  \n",
       "\n",
       "[5 rows x 23 columns]"
      ]
     },
     "execution_count": 21,
     "metadata": {},
     "output_type": "execute_result"
    }
   ],
   "source": [
    "powerlifting_combined.head()"
   ]
  },
  {
   "cell_type": "code",
   "execution_count": 22,
   "id": "0a8af801",
   "metadata": {
    "execution": {
     "iopub.execute_input": "2022-11-14T15:25:09.995612Z",
     "iopub.status.busy": "2022-11-14T15:25:09.995172Z",
     "iopub.status.idle": "2022-11-14T15:25:09.999833Z",
     "shell.execute_reply": "2022-11-14T15:25:09.998802Z"
    },
    "papermill": {
     "duration": 0.017641,
     "end_time": "2022-11-14T15:25:10.002104",
     "exception": false,
     "start_time": "2022-11-14T15:25:09.984463",
     "status": "completed"
    },
    "tags": []
   },
   "outputs": [],
   "source": [
    "#q4.hint()\n",
    "#q4.solution()"
   ]
  },
  {
   "cell_type": "markdown",
   "id": "4e519d27",
   "metadata": {
    "papermill": {
     "duration": 0.01,
     "end_time": "2022-11-14T15:25:10.022602",
     "exception": false,
     "start_time": "2022-11-14T15:25:10.012602",
     "status": "completed"
    },
    "tags": []
   },
   "source": [
    "# Congratulations!\n",
    "\n",
    "You've finished the Pandas micro-course.  Many data scientists feel efficiency with Pandas is the most useful and practical skill they have, because it allows you to progress quickly in any project you have.\n",
    "\n",
    "If you'd like to apply your new skills to examining geospatial data, you're encouraged to check out our **[Geospatial Analysis](https://www.kaggle.com/learn/geospatial-analysis)** micro-course.\n",
    "\n",
    "You can also take advantage of your Pandas skills by entering a **[Kaggle Competition](https://www.kaggle.com/competitions)** or by answering a question you find interesting using **[Kaggle Datasets](https://www.kaggle.com/datasets)**."
   ]
  },
  {
   "cell_type": "markdown",
   "id": "1d13c04a",
   "metadata": {
    "papermill": {
     "duration": 0.009604,
     "end_time": "2022-11-14T15:25:10.042255",
     "exception": false,
     "start_time": "2022-11-14T15:25:10.032651",
     "status": "completed"
    },
    "tags": []
   },
   "source": [
    "---\n",
    "\n",
    "\n",
    "\n",
    "\n",
    "*Have questions or comments? Visit the [course discussion forum](https://www.kaggle.com/learn/pandas/discussion) to chat with other learners.*"
   ]
  }
 ],
 "metadata": {
  "kernelspec": {
   "display_name": "Python 3",
   "language": "python",
   "name": "python3"
  },
  "language_info": {
   "codemirror_mode": {
    "name": "ipython",
    "version": 3
   },
   "file_extension": ".py",
   "mimetype": "text/x-python",
   "name": "python",
   "nbconvert_exporter": "python",
   "pygments_lexer": "ipython3",
   "version": "3.7.12"
  },
  "papermill": {
   "default_parameters": {},
   "duration": 14.199185,
   "end_time": "2022-11-14T15:25:10.774715",
   "environment_variables": {},
   "exception": null,
   "input_path": "__notebook__.ipynb",
   "output_path": "__notebook__.ipynb",
   "parameters": {},
   "start_time": "2022-11-14T15:24:56.575530",
   "version": "2.3.4"
  }
 },
 "nbformat": 4,
 "nbformat_minor": 5
}
