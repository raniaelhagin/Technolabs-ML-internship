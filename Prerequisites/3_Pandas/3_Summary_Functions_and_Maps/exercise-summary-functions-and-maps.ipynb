{
 "cells": [
  {
   "cell_type": "markdown",
   "id": "fc72d750",
   "metadata": {
    "papermill": {
     "duration": 0.010369,
     "end_time": "2022-11-14T11:30:44.402743",
     "exception": false,
     "start_time": "2022-11-14T11:30:44.392374",
     "status": "completed"
    },
    "tags": []
   },
   "source": [
    "**This notebook is an exercise in the [Pandas](https://www.kaggle.com/learn/pandas) course.  You can reference the tutorial at [this link](https://www.kaggle.com/residentmario/summary-functions-and-maps).**\n",
    "\n",
    "---\n"
   ]
  },
  {
   "cell_type": "markdown",
   "id": "066de107",
   "metadata": {
    "papermill": {
     "duration": 0.008739,
     "end_time": "2022-11-14T11:30:44.420564",
     "exception": false,
     "start_time": "2022-11-14T11:30:44.411825",
     "status": "completed"
    },
    "tags": []
   },
   "source": [
    "# Introduction\n",
    "\n",
    "Now you are ready to get a deeper understanding of your data.\n",
    "\n",
    "Run the following cell to load your data and some utility functions (including code to check your answers)."
   ]
  },
  {
   "cell_type": "code",
   "execution_count": 1,
   "id": "0aa94593",
   "metadata": {
    "execution": {
     "iopub.execute_input": "2022-11-14T11:30:44.441355Z",
     "iopub.status.busy": "2022-11-14T11:30:44.440556Z",
     "iopub.status.idle": "2022-11-14T11:30:50.907717Z",
     "shell.execute_reply": "2022-11-14T11:30:50.906643Z"
    },
    "papermill": {
     "duration": 6.482273,
     "end_time": "2022-11-14T11:30:50.911942",
     "exception": false,
     "start_time": "2022-11-14T11:30:44.429669",
     "status": "completed"
    },
    "tags": []
   },
   "outputs": [
    {
     "name": "stdout",
     "output_type": "stream",
     "text": [
      "Setup complete.\n"
     ]
    },
    {
     "data": {
      "text/html": [
       "<div>\n",
       "<style scoped>\n",
       "    .dataframe tbody tr th:only-of-type {\n",
       "        vertical-align: middle;\n",
       "    }\n",
       "\n",
       "    .dataframe tbody tr th {\n",
       "        vertical-align: top;\n",
       "    }\n",
       "\n",
       "    .dataframe thead th {\n",
       "        text-align: right;\n",
       "    }\n",
       "</style>\n",
       "<table border=\"1\" class=\"dataframe\">\n",
       "  <thead>\n",
       "    <tr style=\"text-align: right;\">\n",
       "      <th></th>\n",
       "      <th>country</th>\n",
       "      <th>description</th>\n",
       "      <th>designation</th>\n",
       "      <th>points</th>\n",
       "      <th>price</th>\n",
       "      <th>province</th>\n",
       "      <th>region_1</th>\n",
       "      <th>region_2</th>\n",
       "      <th>taster_name</th>\n",
       "      <th>taster_twitter_handle</th>\n",
       "      <th>title</th>\n",
       "      <th>variety</th>\n",
       "      <th>winery</th>\n",
       "    </tr>\n",
       "  </thead>\n",
       "  <tbody>\n",
       "    <tr>\n",
       "      <th>0</th>\n",
       "      <td>Italy</td>\n",
       "      <td>Aromas include tropical fruit, broom, brimston...</td>\n",
       "      <td>Vulkà Bianco</td>\n",
       "      <td>87</td>\n",
       "      <td>NaN</td>\n",
       "      <td>Sicily &amp; Sardinia</td>\n",
       "      <td>Etna</td>\n",
       "      <td>NaN</td>\n",
       "      <td>Kerin O’Keefe</td>\n",
       "      <td>@kerinokeefe</td>\n",
       "      <td>Nicosia 2013 Vulkà Bianco  (Etna)</td>\n",
       "      <td>White Blend</td>\n",
       "      <td>Nicosia</td>\n",
       "    </tr>\n",
       "    <tr>\n",
       "      <th>1</th>\n",
       "      <td>Portugal</td>\n",
       "      <td>This is ripe and fruity, a wine that is smooth...</td>\n",
       "      <td>Avidagos</td>\n",
       "      <td>87</td>\n",
       "      <td>15.0</td>\n",
       "      <td>Douro</td>\n",
       "      <td>NaN</td>\n",
       "      <td>NaN</td>\n",
       "      <td>Roger Voss</td>\n",
       "      <td>@vossroger</td>\n",
       "      <td>Quinta dos Avidagos 2011 Avidagos Red (Douro)</td>\n",
       "      <td>Portuguese Red</td>\n",
       "      <td>Quinta dos Avidagos</td>\n",
       "    </tr>\n",
       "    <tr>\n",
       "      <th>2</th>\n",
       "      <td>US</td>\n",
       "      <td>Tart and snappy, the flavors of lime flesh and...</td>\n",
       "      <td>NaN</td>\n",
       "      <td>87</td>\n",
       "      <td>14.0</td>\n",
       "      <td>Oregon</td>\n",
       "      <td>Willamette Valley</td>\n",
       "      <td>Willamette Valley</td>\n",
       "      <td>Paul Gregutt</td>\n",
       "      <td>@paulgwine</td>\n",
       "      <td>Rainstorm 2013 Pinot Gris (Willamette Valley)</td>\n",
       "      <td>Pinot Gris</td>\n",
       "      <td>Rainstorm</td>\n",
       "    </tr>\n",
       "    <tr>\n",
       "      <th>3</th>\n",
       "      <td>US</td>\n",
       "      <td>Pineapple rind, lemon pith and orange blossom ...</td>\n",
       "      <td>Reserve Late Harvest</td>\n",
       "      <td>87</td>\n",
       "      <td>13.0</td>\n",
       "      <td>Michigan</td>\n",
       "      <td>Lake Michigan Shore</td>\n",
       "      <td>NaN</td>\n",
       "      <td>Alexander Peartree</td>\n",
       "      <td>NaN</td>\n",
       "      <td>St. Julian 2013 Reserve Late Harvest Riesling ...</td>\n",
       "      <td>Riesling</td>\n",
       "      <td>St. Julian</td>\n",
       "    </tr>\n",
       "    <tr>\n",
       "      <th>4</th>\n",
       "      <td>US</td>\n",
       "      <td>Much like the regular bottling from 2012, this...</td>\n",
       "      <td>Vintner's Reserve Wild Child Block</td>\n",
       "      <td>87</td>\n",
       "      <td>65.0</td>\n",
       "      <td>Oregon</td>\n",
       "      <td>Willamette Valley</td>\n",
       "      <td>Willamette Valley</td>\n",
       "      <td>Paul Gregutt</td>\n",
       "      <td>@paulgwine</td>\n",
       "      <td>Sweet Cheeks 2012 Vintner's Reserve Wild Child...</td>\n",
       "      <td>Pinot Noir</td>\n",
       "      <td>Sweet Cheeks</td>\n",
       "    </tr>\n",
       "  </tbody>\n",
       "</table>\n",
       "</div>"
      ],
      "text/plain": [
       "    country                                        description  \\\n",
       "0     Italy  Aromas include tropical fruit, broom, brimston...   \n",
       "1  Portugal  This is ripe and fruity, a wine that is smooth...   \n",
       "2        US  Tart and snappy, the flavors of lime flesh and...   \n",
       "3        US  Pineapple rind, lemon pith and orange blossom ...   \n",
       "4        US  Much like the regular bottling from 2012, this...   \n",
       "\n",
       "                          designation  points  price           province  \\\n",
       "0                        Vulkà Bianco      87    NaN  Sicily & Sardinia   \n",
       "1                            Avidagos      87   15.0              Douro   \n",
       "2                                 NaN      87   14.0             Oregon   \n",
       "3                Reserve Late Harvest      87   13.0           Michigan   \n",
       "4  Vintner's Reserve Wild Child Block      87   65.0             Oregon   \n",
       "\n",
       "              region_1           region_2         taster_name  \\\n",
       "0                 Etna                NaN       Kerin O’Keefe   \n",
       "1                  NaN                NaN          Roger Voss   \n",
       "2    Willamette Valley  Willamette Valley        Paul Gregutt   \n",
       "3  Lake Michigan Shore                NaN  Alexander Peartree   \n",
       "4    Willamette Valley  Willamette Valley        Paul Gregutt   \n",
       "\n",
       "  taster_twitter_handle                                              title  \\\n",
       "0          @kerinokeefe                  Nicosia 2013 Vulkà Bianco  (Etna)   \n",
       "1            @vossroger      Quinta dos Avidagos 2011 Avidagos Red (Douro)   \n",
       "2           @paulgwine       Rainstorm 2013 Pinot Gris (Willamette Valley)   \n",
       "3                   NaN  St. Julian 2013 Reserve Late Harvest Riesling ...   \n",
       "4           @paulgwine   Sweet Cheeks 2012 Vintner's Reserve Wild Child...   \n",
       "\n",
       "          variety               winery  \n",
       "0     White Blend              Nicosia  \n",
       "1  Portuguese Red  Quinta dos Avidagos  \n",
       "2      Pinot Gris            Rainstorm  \n",
       "3        Riesling           St. Julian  \n",
       "4      Pinot Noir         Sweet Cheeks  "
      ]
     },
     "execution_count": 1,
     "metadata": {},
     "output_type": "execute_result"
    }
   ],
   "source": [
    "import pandas as pd\n",
    "pd.set_option(\"display.max_rows\", 5)\n",
    "reviews = pd.read_csv(\"../input/wine-reviews/winemag-data-130k-v2.csv\", index_col=0)\n",
    "\n",
    "from learntools.core import binder; binder.bind(globals())\n",
    "from learntools.pandas.summary_functions_and_maps import *\n",
    "print(\"Setup complete.\")\n",
    "\n",
    "reviews.head()"
   ]
  },
  {
   "cell_type": "markdown",
   "id": "35c76ebb",
   "metadata": {
    "papermill": {
     "duration": 0.008653,
     "end_time": "2022-11-14T11:30:50.929819",
     "exception": false,
     "start_time": "2022-11-14T11:30:50.921166",
     "status": "completed"
    },
    "tags": []
   },
   "source": [
    "# Exercises"
   ]
  },
  {
   "cell_type": "markdown",
   "id": "7e750355",
   "metadata": {
    "papermill": {
     "duration": 0.008635,
     "end_time": "2022-11-14T11:30:50.947535",
     "exception": false,
     "start_time": "2022-11-14T11:30:50.938900",
     "status": "completed"
    },
    "tags": []
   },
   "source": [
    "## 1.\n",
    "\n",
    "What is the median of the `points` column in the `reviews` DataFrame?"
   ]
  },
  {
   "cell_type": "code",
   "execution_count": 2,
   "id": "9be8db7c",
   "metadata": {
    "execution": {
     "iopub.execute_input": "2022-11-14T11:30:50.969953Z",
     "iopub.status.busy": "2022-11-14T11:30:50.969425Z",
     "iopub.status.idle": "2022-11-14T11:30:50.984573Z",
     "shell.execute_reply": "2022-11-14T11:30:50.983091Z"
    },
    "papermill": {
     "duration": 0.028707,
     "end_time": "2022-11-14T11:30:50.987326",
     "exception": false,
     "start_time": "2022-11-14T11:30:50.958619",
     "status": "completed"
    },
    "tags": []
   },
   "outputs": [
    {
     "data": {
      "application/javascript": [
       "parent.postMessage({\"jupyterEvent\": \"custom.exercise_interaction\", \"data\": {\"outcomeType\": 1, \"valueTowardsCompletion\": 0.14285714285714285, \"interactionType\": 1, \"questionType\": 1, \"questionId\": \"1_MedianPoints\", \"learnToolsVersion\": \"0.3.4\", \"failureMessage\": \"\", \"exceptionClass\": \"\", \"trace\": \"\"}}, \"*\")"
      ],
      "text/plain": [
       "<IPython.core.display.Javascript object>"
      ]
     },
     "metadata": {},
     "output_type": "display_data"
    },
    {
     "data": {
      "text/markdown": [
       "<span style=\"color:#33cc33\">Correct</span>"
      ],
      "text/plain": [
       "Correct"
      ]
     },
     "metadata": {},
     "output_type": "display_data"
    }
   ],
   "source": [
    "median_points = reviews.points.median()\n",
    "\n",
    "# Check your answer\n",
    "q1.check()"
   ]
  },
  {
   "cell_type": "code",
   "execution_count": 3,
   "id": "a64ab8a7",
   "metadata": {
    "execution": {
     "iopub.execute_input": "2022-11-14T11:30:51.010217Z",
     "iopub.status.busy": "2022-11-14T11:30:51.009814Z",
     "iopub.status.idle": "2022-11-14T11:30:51.018355Z",
     "shell.execute_reply": "2022-11-14T11:30:51.017001Z"
    },
    "papermill": {
     "duration": 0.024067,
     "end_time": "2022-11-14T11:30:51.021251",
     "exception": false,
     "start_time": "2022-11-14T11:30:50.997184",
     "status": "completed"
    },
    "tags": []
   },
   "outputs": [
    {
     "data": {
      "text/plain": [
       "88.0"
      ]
     },
     "execution_count": 3,
     "metadata": {},
     "output_type": "execute_result"
    }
   ],
   "source": [
    "median_points"
   ]
  },
  {
   "cell_type": "code",
   "execution_count": 4,
   "id": "a25e8184",
   "metadata": {
    "execution": {
     "iopub.execute_input": "2022-11-14T11:30:51.043173Z",
     "iopub.status.busy": "2022-11-14T11:30:51.042770Z",
     "iopub.status.idle": "2022-11-14T11:30:51.048059Z",
     "shell.execute_reply": "2022-11-14T11:30:51.046662Z"
    },
    "papermill": {
     "duration": 0.019521,
     "end_time": "2022-11-14T11:30:51.050710",
     "exception": false,
     "start_time": "2022-11-14T11:30:51.031189",
     "status": "completed"
    },
    "tags": []
   },
   "outputs": [],
   "source": [
    "#q1.hint()\n",
    "#q1.solution()"
   ]
  },
  {
   "cell_type": "markdown",
   "id": "0cf1475d",
   "metadata": {
    "papermill": {
     "duration": 0.00937,
     "end_time": "2022-11-14T11:30:51.070193",
     "exception": false,
     "start_time": "2022-11-14T11:30:51.060823",
     "status": "completed"
    },
    "tags": []
   },
   "source": [
    "## 2. \n",
    "What countries are represented in the dataset? (Your answer should not include any duplicates.)"
   ]
  },
  {
   "cell_type": "code",
   "execution_count": 5,
   "id": "26ee5b74",
   "metadata": {
    "execution": {
     "iopub.execute_input": "2022-11-14T11:30:51.092133Z",
     "iopub.status.busy": "2022-11-14T11:30:51.091743Z",
     "iopub.status.idle": "2022-11-14T11:30:51.109285Z",
     "shell.execute_reply": "2022-11-14T11:30:51.108050Z"
    },
    "papermill": {
     "duration": 0.031992,
     "end_time": "2022-11-14T11:30:51.112103",
     "exception": false,
     "start_time": "2022-11-14T11:30:51.080111",
     "status": "completed"
    },
    "tags": []
   },
   "outputs": [
    {
     "data": {
      "application/javascript": [
       "parent.postMessage({\"jupyterEvent\": \"custom.exercise_interaction\", \"data\": {\"outcomeType\": 1, \"valueTowardsCompletion\": 0.14285714285714285, \"interactionType\": 1, \"questionType\": 2, \"questionId\": \"2_UniqueCountries\", \"learnToolsVersion\": \"0.3.4\", \"failureMessage\": \"\", \"exceptionClass\": \"\", \"trace\": \"\"}}, \"*\")"
      ],
      "text/plain": [
       "<IPython.core.display.Javascript object>"
      ]
     },
     "metadata": {},
     "output_type": "display_data"
    },
    {
     "data": {
      "text/markdown": [
       "<span style=\"color:#33cc33\">Correct</span>"
      ],
      "text/plain": [
       "Correct"
      ]
     },
     "metadata": {},
     "output_type": "display_data"
    }
   ],
   "source": [
    "countries = reviews.country.unique()\n",
    "\n",
    "# Check your answer\n",
    "q2.check()"
   ]
  },
  {
   "cell_type": "code",
   "execution_count": 6,
   "id": "0c77a397",
   "metadata": {
    "execution": {
     "iopub.execute_input": "2022-11-14T11:30:51.134623Z",
     "iopub.status.busy": "2022-11-14T11:30:51.134226Z",
     "iopub.status.idle": "2022-11-14T11:30:51.140627Z",
     "shell.execute_reply": "2022-11-14T11:30:51.139115Z"
    },
    "papermill": {
     "duration": 0.021378,
     "end_time": "2022-11-14T11:30:51.143766",
     "exception": false,
     "start_time": "2022-11-14T11:30:51.122388",
     "status": "completed"
    },
    "tags": []
   },
   "outputs": [
    {
     "name": "stdout",
     "output_type": "stream",
     "text": [
      "['Italy' 'Portugal' 'US' 'Spain' 'France' 'Germany' 'Argentina' 'Chile'\n",
      " 'Australia' 'Austria' 'South Africa' 'New Zealand' 'Israel' 'Hungary'\n",
      " 'Greece' 'Romania' 'Mexico' 'Canada' nan 'Turkey' 'Czech Republic'\n",
      " 'Slovenia' 'Luxembourg' 'Croatia' 'Georgia' 'Uruguay' 'England' 'Lebanon'\n",
      " 'Serbia' 'Brazil' 'Moldova' 'Morocco' 'Peru' 'India' 'Bulgaria' 'Cyprus'\n",
      " 'Armenia' 'Switzerland' 'Bosnia and Herzegovina' 'Ukraine' 'Slovakia'\n",
      " 'Macedonia' 'China' 'Egypt']\n",
      "number of unique countries =  44\n"
     ]
    }
   ],
   "source": [
    "print(countries)\n",
    "print('number of unique countries = ', countries.shape[0])"
   ]
  },
  {
   "cell_type": "code",
   "execution_count": 7,
   "id": "1ffcd9c8",
   "metadata": {
    "execution": {
     "iopub.execute_input": "2022-11-14T11:30:51.166793Z",
     "iopub.status.busy": "2022-11-14T11:30:51.165515Z",
     "iopub.status.idle": "2022-11-14T11:30:51.171600Z",
     "shell.execute_reply": "2022-11-14T11:30:51.170234Z"
    },
    "papermill": {
     "duration": 0.020355,
     "end_time": "2022-11-14T11:30:51.174423",
     "exception": false,
     "start_time": "2022-11-14T11:30:51.154068",
     "status": "completed"
    },
    "tags": []
   },
   "outputs": [],
   "source": [
    "#q2.hint()\n",
    "#q2.solution()"
   ]
  },
  {
   "cell_type": "markdown",
   "id": "0f2a1759",
   "metadata": {
    "papermill": {
     "duration": 0.009766,
     "end_time": "2022-11-14T11:30:51.194568",
     "exception": false,
     "start_time": "2022-11-14T11:30:51.184802",
     "status": "completed"
    },
    "tags": []
   },
   "source": [
    "## 3.\n",
    "How often does each country appear in the dataset? Create a Series `reviews_per_country` mapping countries to the count of reviews of wines from that country."
   ]
  },
  {
   "cell_type": "code",
   "execution_count": 8,
   "id": "d6d9118e",
   "metadata": {
    "execution": {
     "iopub.execute_input": "2022-11-14T11:30:51.216430Z",
     "iopub.status.busy": "2022-11-14T11:30:51.216009Z",
     "iopub.status.idle": "2022-11-14T11:30:51.234654Z",
     "shell.execute_reply": "2022-11-14T11:30:51.233488Z"
    },
    "papermill": {
     "duration": 0.032297,
     "end_time": "2022-11-14T11:30:51.236992",
     "exception": false,
     "start_time": "2022-11-14T11:30:51.204695",
     "status": "completed"
    },
    "tags": []
   },
   "outputs": [
    {
     "data": {
      "application/javascript": [
       "parent.postMessage({\"jupyterEvent\": \"custom.exercise_interaction\", \"data\": {\"outcomeType\": 1, \"valueTowardsCompletion\": 0.14285714285714285, \"interactionType\": 1, \"questionType\": 1, \"questionId\": \"3_ReviewsPerCountry\", \"learnToolsVersion\": \"0.3.4\", \"failureMessage\": \"\", \"exceptionClass\": \"\", \"trace\": \"\"}}, \"*\")"
      ],
      "text/plain": [
       "<IPython.core.display.Javascript object>"
      ]
     },
     "metadata": {},
     "output_type": "display_data"
    },
    {
     "data": {
      "text/markdown": [
       "<span style=\"color:#33cc33\">Correct</span>"
      ],
      "text/plain": [
       "Correct"
      ]
     },
     "metadata": {},
     "output_type": "display_data"
    }
   ],
   "source": [
    "reviews_per_country = reviews.country.value_counts()\n",
    "\n",
    "# Check your answer\n",
    "q3.check()"
   ]
  },
  {
   "cell_type": "code",
   "execution_count": 9,
   "id": "48f08cc7",
   "metadata": {
    "execution": {
     "iopub.execute_input": "2022-11-14T11:30:51.261456Z",
     "iopub.status.busy": "2022-11-14T11:30:51.261053Z",
     "iopub.status.idle": "2022-11-14T11:30:51.271090Z",
     "shell.execute_reply": "2022-11-14T11:30:51.269904Z"
    },
    "papermill": {
     "duration": 0.024178,
     "end_time": "2022-11-14T11:30:51.273356",
     "exception": false,
     "start_time": "2022-11-14T11:30:51.249178",
     "status": "completed"
    },
    "tags": []
   },
   "outputs": [
    {
     "data": {
      "text/plain": [
       "US        54504\n",
       "France    22093\n",
       "          ...  \n",
       "China         1\n",
       "Egypt         1\n",
       "Name: country, Length: 43, dtype: int64"
      ]
     },
     "execution_count": 9,
     "metadata": {},
     "output_type": "execute_result"
    }
   ],
   "source": [
    "reviews_per_country"
   ]
  },
  {
   "cell_type": "code",
   "execution_count": 10,
   "id": "e2b9d594",
   "metadata": {
    "execution": {
     "iopub.execute_input": "2022-11-14T11:30:51.296715Z",
     "iopub.status.busy": "2022-11-14T11:30:51.296234Z",
     "iopub.status.idle": "2022-11-14T11:30:51.301311Z",
     "shell.execute_reply": "2022-11-14T11:30:51.299853Z"
    },
    "papermill": {
     "duration": 0.019968,
     "end_time": "2022-11-14T11:30:51.303934",
     "exception": false,
     "start_time": "2022-11-14T11:30:51.283966",
     "status": "completed"
    },
    "tags": []
   },
   "outputs": [],
   "source": [
    "#q3.hint()\n",
    "#q3.solution()"
   ]
  },
  {
   "cell_type": "markdown",
   "id": "930d9e50",
   "metadata": {
    "papermill": {
     "duration": 0.010307,
     "end_time": "2022-11-14T11:30:51.325256",
     "exception": false,
     "start_time": "2022-11-14T11:30:51.314949",
     "status": "completed"
    },
    "tags": []
   },
   "source": [
    "## 4.\n",
    "Create variable `centered_price` containing a version of the `price` column with the mean price subtracted.\n",
    "\n",
    "(Note: this 'centering' transformation is a common preprocessing step before applying various machine learning algorithms.) "
   ]
  },
  {
   "cell_type": "code",
   "execution_count": 11,
   "id": "e847c3b9",
   "metadata": {
    "execution": {
     "iopub.execute_input": "2022-11-14T11:30:51.348749Z",
     "iopub.status.busy": "2022-11-14T11:30:51.348195Z",
     "iopub.status.idle": "2022-11-14T11:30:51.361160Z",
     "shell.execute_reply": "2022-11-14T11:30:51.360286Z"
    },
    "papermill": {
     "duration": 0.027493,
     "end_time": "2022-11-14T11:30:51.363595",
     "exception": false,
     "start_time": "2022-11-14T11:30:51.336102",
     "status": "completed"
    },
    "tags": []
   },
   "outputs": [
    {
     "data": {
      "application/javascript": [
       "parent.postMessage({\"jupyterEvent\": \"custom.exercise_interaction\", \"data\": {\"outcomeType\": 1, \"valueTowardsCompletion\": 0.14285714285714285, \"interactionType\": 1, \"questionType\": 1, \"questionId\": \"4_CenteredPrice\", \"learnToolsVersion\": \"0.3.4\", \"failureMessage\": \"\", \"exceptionClass\": \"\", \"trace\": \"\"}}, \"*\")"
      ],
      "text/plain": [
       "<IPython.core.display.Javascript object>"
      ]
     },
     "metadata": {},
     "output_type": "display_data"
    },
    {
     "data": {
      "text/markdown": [
       "<span style=\"color:#33cc33\">Correct</span>"
      ],
      "text/plain": [
       "Correct"
      ]
     },
     "metadata": {},
     "output_type": "display_data"
    }
   ],
   "source": [
    "centered_price = reviews.price - reviews.price.mean()\n",
    "\n",
    "# Check your answer\n",
    "q4.check()"
   ]
  },
  {
   "cell_type": "code",
   "execution_count": 12,
   "id": "3a6bfa6c",
   "metadata": {
    "execution": {
     "iopub.execute_input": "2022-11-14T11:30:51.388005Z",
     "iopub.status.busy": "2022-11-14T11:30:51.387607Z",
     "iopub.status.idle": "2022-11-14T11:30:51.397747Z",
     "shell.execute_reply": "2022-11-14T11:30:51.396658Z"
    },
    "papermill": {
     "duration": 0.025865,
     "end_time": "2022-11-14T11:30:51.400796",
     "exception": false,
     "start_time": "2022-11-14T11:30:51.374931",
     "status": "completed"
    },
    "tags": []
   },
   "outputs": [
    {
     "name": "stdout",
     "output_type": "stream",
     "text": [
      "actual price: \n",
      "0          NaN\n",
      "1         15.0\n",
      "          ... \n",
      "129969    32.0\n",
      "129970    21.0\n",
      "Name: price, Length: 129971, dtype: float64\n",
      "**************************************************\n",
      "Mean price =  35.363389129985535\n",
      "**************************************************\n",
      "Centered Price (price after substracting mean price): \n",
      "0               NaN\n",
      "1        -20.363389\n",
      "            ...    \n",
      "129969    -3.363389\n",
      "129970   -14.363389\n",
      "Name: price, Length: 129971, dtype: float64\n"
     ]
    }
   ],
   "source": [
    "print('actual price: \\n{}'.format(reviews.price))\n",
    "print('*' * 50)\n",
    "print('Mean price = ', reviews.price.mean())\n",
    "print('*' * 50)\n",
    "print('Centered Price (price after substracting mean price): \\n{}'.format(centered_price))"
   ]
  },
  {
   "cell_type": "code",
   "execution_count": 13,
   "id": "ad54584a",
   "metadata": {
    "execution": {
     "iopub.execute_input": "2022-11-14T11:30:51.423621Z",
     "iopub.status.busy": "2022-11-14T11:30:51.423125Z",
     "iopub.status.idle": "2022-11-14T11:30:51.428144Z",
     "shell.execute_reply": "2022-11-14T11:30:51.427051Z"
    },
    "papermill": {
     "duration": 0.019571,
     "end_time": "2022-11-14T11:30:51.430722",
     "exception": false,
     "start_time": "2022-11-14T11:30:51.411151",
     "status": "completed"
    },
    "tags": []
   },
   "outputs": [],
   "source": [
    "#q4.hint()\n",
    "#q4.solution()"
   ]
  },
  {
   "cell_type": "markdown",
   "id": "f4dc17b1",
   "metadata": {
    "papermill": {
     "duration": 0.00983,
     "end_time": "2022-11-14T11:30:51.450835",
     "exception": false,
     "start_time": "2022-11-14T11:30:51.441005",
     "status": "completed"
    },
    "tags": []
   },
   "source": [
    "## 5.\n",
    "I'm an economical wine buyer. Which wine is the \"best bargain\"? Create a variable `bargain_wine` with the title of the wine with the highest points-to-price ratio in the dataset."
   ]
  },
  {
   "cell_type": "code",
   "execution_count": 14,
   "id": "6456dc4e",
   "metadata": {
    "execution": {
     "iopub.execute_input": "2022-11-14T11:30:51.473657Z",
     "iopub.status.busy": "2022-11-14T11:30:51.473142Z",
     "iopub.status.idle": "2022-11-14T11:30:51.496738Z",
     "shell.execute_reply": "2022-11-14T11:30:51.495167Z"
    },
    "papermill": {
     "duration": 0.038219,
     "end_time": "2022-11-14T11:30:51.499303",
     "exception": false,
     "start_time": "2022-11-14T11:30:51.461084",
     "status": "completed"
    },
    "tags": []
   },
   "outputs": [
    {
     "data": {
      "text/html": [
       "<div>\n",
       "<style scoped>\n",
       "    .dataframe tbody tr th:only-of-type {\n",
       "        vertical-align: middle;\n",
       "    }\n",
       "\n",
       "    .dataframe tbody tr th {\n",
       "        vertical-align: top;\n",
       "    }\n",
       "\n",
       "    .dataframe thead th {\n",
       "        text-align: right;\n",
       "    }\n",
       "</style>\n",
       "<table border=\"1\" class=\"dataframe\">\n",
       "  <thead>\n",
       "    <tr style=\"text-align: right;\">\n",
       "      <th></th>\n",
       "      <th>country</th>\n",
       "      <th>description</th>\n",
       "      <th>designation</th>\n",
       "      <th>points</th>\n",
       "      <th>price</th>\n",
       "      <th>province</th>\n",
       "      <th>region_1</th>\n",
       "      <th>region_2</th>\n",
       "      <th>taster_name</th>\n",
       "      <th>taster_twitter_handle</th>\n",
       "      <th>title</th>\n",
       "      <th>variety</th>\n",
       "      <th>winery</th>\n",
       "      <th>points_to_price_ratio</th>\n",
       "    </tr>\n",
       "  </thead>\n",
       "  <tbody>\n",
       "    <tr>\n",
       "      <th>0</th>\n",
       "      <td>Italy</td>\n",
       "      <td>Aromas include tropical fruit, broom, brimston...</td>\n",
       "      <td>Vulkà Bianco</td>\n",
       "      <td>87</td>\n",
       "      <td>NaN</td>\n",
       "      <td>Sicily &amp; Sardinia</td>\n",
       "      <td>Etna</td>\n",
       "      <td>NaN</td>\n",
       "      <td>Kerin O’Keefe</td>\n",
       "      <td>@kerinokeefe</td>\n",
       "      <td>Nicosia 2013 Vulkà Bianco  (Etna)</td>\n",
       "      <td>White Blend</td>\n",
       "      <td>Nicosia</td>\n",
       "      <td>NaN</td>\n",
       "    </tr>\n",
       "    <tr>\n",
       "      <th>1</th>\n",
       "      <td>Portugal</td>\n",
       "      <td>This is ripe and fruity, a wine that is smooth...</td>\n",
       "      <td>Avidagos</td>\n",
       "      <td>87</td>\n",
       "      <td>15.0</td>\n",
       "      <td>Douro</td>\n",
       "      <td>NaN</td>\n",
       "      <td>NaN</td>\n",
       "      <td>Roger Voss</td>\n",
       "      <td>@vossroger</td>\n",
       "      <td>Quinta dos Avidagos 2011 Avidagos Red (Douro)</td>\n",
       "      <td>Portuguese Red</td>\n",
       "      <td>Quinta dos Avidagos</td>\n",
       "      <td>5.800000</td>\n",
       "    </tr>\n",
       "    <tr>\n",
       "      <th>2</th>\n",
       "      <td>US</td>\n",
       "      <td>Tart and snappy, the flavors of lime flesh and...</td>\n",
       "      <td>NaN</td>\n",
       "      <td>87</td>\n",
       "      <td>14.0</td>\n",
       "      <td>Oregon</td>\n",
       "      <td>Willamette Valley</td>\n",
       "      <td>Willamette Valley</td>\n",
       "      <td>Paul Gregutt</td>\n",
       "      <td>@paulgwine</td>\n",
       "      <td>Rainstorm 2013 Pinot Gris (Willamette Valley)</td>\n",
       "      <td>Pinot Gris</td>\n",
       "      <td>Rainstorm</td>\n",
       "      <td>6.214286</td>\n",
       "    </tr>\n",
       "    <tr>\n",
       "      <th>3</th>\n",
       "      <td>US</td>\n",
       "      <td>Pineapple rind, lemon pith and orange blossom ...</td>\n",
       "      <td>Reserve Late Harvest</td>\n",
       "      <td>87</td>\n",
       "      <td>13.0</td>\n",
       "      <td>Michigan</td>\n",
       "      <td>Lake Michigan Shore</td>\n",
       "      <td>NaN</td>\n",
       "      <td>Alexander Peartree</td>\n",
       "      <td>NaN</td>\n",
       "      <td>St. Julian 2013 Reserve Late Harvest Riesling ...</td>\n",
       "      <td>Riesling</td>\n",
       "      <td>St. Julian</td>\n",
       "      <td>6.692308</td>\n",
       "    </tr>\n",
       "    <tr>\n",
       "      <th>4</th>\n",
       "      <td>US</td>\n",
       "      <td>Much like the regular bottling from 2012, this...</td>\n",
       "      <td>Vintner's Reserve Wild Child Block</td>\n",
       "      <td>87</td>\n",
       "      <td>65.0</td>\n",
       "      <td>Oregon</td>\n",
       "      <td>Willamette Valley</td>\n",
       "      <td>Willamette Valley</td>\n",
       "      <td>Paul Gregutt</td>\n",
       "      <td>@paulgwine</td>\n",
       "      <td>Sweet Cheeks 2012 Vintner's Reserve Wild Child...</td>\n",
       "      <td>Pinot Noir</td>\n",
       "      <td>Sweet Cheeks</td>\n",
       "      <td>1.338462</td>\n",
       "    </tr>\n",
       "  </tbody>\n",
       "</table>\n",
       "</div>"
      ],
      "text/plain": [
       "    country                                        description  \\\n",
       "0     Italy  Aromas include tropical fruit, broom, brimston...   \n",
       "1  Portugal  This is ripe and fruity, a wine that is smooth...   \n",
       "2        US  Tart and snappy, the flavors of lime flesh and...   \n",
       "3        US  Pineapple rind, lemon pith and orange blossom ...   \n",
       "4        US  Much like the regular bottling from 2012, this...   \n",
       "\n",
       "                          designation  points  price           province  \\\n",
       "0                        Vulkà Bianco      87    NaN  Sicily & Sardinia   \n",
       "1                            Avidagos      87   15.0              Douro   \n",
       "2                                 NaN      87   14.0             Oregon   \n",
       "3                Reserve Late Harvest      87   13.0           Michigan   \n",
       "4  Vintner's Reserve Wild Child Block      87   65.0             Oregon   \n",
       "\n",
       "              region_1           region_2         taster_name  \\\n",
       "0                 Etna                NaN       Kerin O’Keefe   \n",
       "1                  NaN                NaN          Roger Voss   \n",
       "2    Willamette Valley  Willamette Valley        Paul Gregutt   \n",
       "3  Lake Michigan Shore                NaN  Alexander Peartree   \n",
       "4    Willamette Valley  Willamette Valley        Paul Gregutt   \n",
       "\n",
       "  taster_twitter_handle                                              title  \\\n",
       "0          @kerinokeefe                  Nicosia 2013 Vulkà Bianco  (Etna)   \n",
       "1            @vossroger      Quinta dos Avidagos 2011 Avidagos Red (Douro)   \n",
       "2           @paulgwine       Rainstorm 2013 Pinot Gris (Willamette Valley)   \n",
       "3                   NaN  St. Julian 2013 Reserve Late Harvest Riesling ...   \n",
       "4           @paulgwine   Sweet Cheeks 2012 Vintner's Reserve Wild Child...   \n",
       "\n",
       "          variety               winery  points_to_price_ratio  \n",
       "0     White Blend              Nicosia                    NaN  \n",
       "1  Portuguese Red  Quinta dos Avidagos               5.800000  \n",
       "2      Pinot Gris            Rainstorm               6.214286  \n",
       "3        Riesling           St. Julian               6.692308  \n",
       "4      Pinot Noir         Sweet Cheeks               1.338462  "
      ]
     },
     "execution_count": 14,
     "metadata": {},
     "output_type": "execute_result"
    }
   ],
   "source": [
    "points_to_price_ratio = reviews.points / reviews.price\n",
    "reviews['points_to_price_ratio'] = reviews.points / reviews.price\n",
    "reviews.head()"
   ]
  },
  {
   "cell_type": "code",
   "execution_count": 15,
   "id": "1d0bcf8e",
   "metadata": {
    "execution": {
     "iopub.execute_input": "2022-11-14T11:30:51.523126Z",
     "iopub.status.busy": "2022-11-14T11:30:51.522675Z",
     "iopub.status.idle": "2022-11-14T11:30:51.532616Z",
     "shell.execute_reply": "2022-11-14T11:30:51.531223Z"
    },
    "papermill": {
     "duration": 0.024928,
     "end_time": "2022-11-14T11:30:51.535022",
     "exception": false,
     "start_time": "2022-11-14T11:30:51.510094",
     "status": "completed"
    },
    "tags": []
   },
   "outputs": [
    {
     "data": {
      "text/plain": [
       "64590"
      ]
     },
     "execution_count": 15,
     "metadata": {},
     "output_type": "execute_result"
    }
   ],
   "source": [
    "ind = reviews.points_to_price_ratio.idxmax()\n",
    "titles = reviews.title\n",
    "ind"
   ]
  },
  {
   "cell_type": "code",
   "execution_count": 16,
   "id": "fd02673c",
   "metadata": {
    "execution": {
     "iopub.execute_input": "2022-11-14T11:30:51.559602Z",
     "iopub.status.busy": "2022-11-14T11:30:51.559102Z",
     "iopub.status.idle": "2022-11-14T11:30:51.575125Z",
     "shell.execute_reply": "2022-11-14T11:30:51.573644Z"
    },
    "papermill": {
     "duration": 0.031996,
     "end_time": "2022-11-14T11:30:51.578023",
     "exception": false,
     "start_time": "2022-11-14T11:30:51.546027",
     "status": "completed"
    },
    "tags": []
   },
   "outputs": [
    {
     "data": {
      "application/javascript": [
       "parent.postMessage({\"jupyterEvent\": \"custom.exercise_interaction\", \"data\": {\"outcomeType\": 1, \"valueTowardsCompletion\": 0.14285714285714285, \"interactionType\": 1, \"questionType\": 2, \"questionId\": \"5_BargainWine\", \"learnToolsVersion\": \"0.3.4\", \"failureMessage\": \"\", \"exceptionClass\": \"\", \"trace\": \"\"}}, \"*\")"
      ],
      "text/plain": [
       "<IPython.core.display.Javascript object>"
      ]
     },
     "metadata": {},
     "output_type": "display_data"
    },
    {
     "data": {
      "text/markdown": [
       "<span style=\"color:#33cc33\">Correct</span>"
      ],
      "text/plain": [
       "Correct"
      ]
     },
     "metadata": {},
     "output_type": "display_data"
    }
   ],
   "source": [
    "bargain_wine = titles.loc[reviews.points_to_price_ratio.idxmax()]\n",
    "\n",
    "# Check your answer\n",
    "q5.check()"
   ]
  },
  {
   "cell_type": "code",
   "execution_count": 17,
   "id": "5c5b37e3",
   "metadata": {
    "execution": {
     "iopub.execute_input": "2022-11-14T11:30:51.603916Z",
     "iopub.status.busy": "2022-11-14T11:30:51.603273Z",
     "iopub.status.idle": "2022-11-14T11:30:51.608470Z",
     "shell.execute_reply": "2022-11-14T11:30:51.607351Z"
    },
    "papermill": {
     "duration": 0.021058,
     "end_time": "2022-11-14T11:30:51.610881",
     "exception": false,
     "start_time": "2022-11-14T11:30:51.589823",
     "status": "completed"
    },
    "tags": []
   },
   "outputs": [],
   "source": [
    "#q5.hint()\n",
    "# q5.solution()"
   ]
  },
  {
   "cell_type": "markdown",
   "id": "9aef0084",
   "metadata": {
    "papermill": {
     "duration": 0.010998,
     "end_time": "2022-11-14T11:30:51.633556",
     "exception": false,
     "start_time": "2022-11-14T11:30:51.622558",
     "status": "completed"
    },
    "tags": []
   },
   "source": [
    "## 6.\n",
    "There are only so many words you can use when describing a bottle of wine. Is a wine more likely to be \"tropical\" or \"fruity\"? Create a Series `descriptor_counts` counting how many times each of these two words appears in the `description` column in the dataset. (For simplicity, let's ignore the capitalized versions of these words.)"
   ]
  },
  {
   "cell_type": "code",
   "execution_count": 18,
   "id": "907d53b2",
   "metadata": {
    "execution": {
     "iopub.execute_input": "2022-11-14T11:30:51.658806Z",
     "iopub.status.busy": "2022-11-14T11:30:51.658414Z",
     "iopub.status.idle": "2022-11-14T11:30:51.798338Z",
     "shell.execute_reply": "2022-11-14T11:30:51.797017Z"
    },
    "papermill": {
     "duration": 0.156326,
     "end_time": "2022-11-14T11:30:51.801454",
     "exception": false,
     "start_time": "2022-11-14T11:30:51.645128",
     "status": "completed"
    },
    "tags": []
   },
   "outputs": [],
   "source": [
    "tropical_count = reviews.description.map(lambda desc: 'tropical' in desc).sum()\n",
    "fruity_count = reviews.description.map(lambda desc: 'fruity' in desc).sum()"
   ]
  },
  {
   "cell_type": "code",
   "execution_count": 19,
   "id": "e2ad1403",
   "metadata": {
    "execution": {
     "iopub.execute_input": "2022-11-14T11:30:51.827275Z",
     "iopub.status.busy": "2022-11-14T11:30:51.826855Z",
     "iopub.status.idle": "2022-11-14T11:30:51.837240Z",
     "shell.execute_reply": "2022-11-14T11:30:51.835876Z"
    },
    "papermill": {
     "duration": 0.026212,
     "end_time": "2022-11-14T11:30:51.839656",
     "exception": false,
     "start_time": "2022-11-14T11:30:51.813444",
     "status": "completed"
    },
    "tags": []
   },
   "outputs": [
    {
     "data": {
      "application/javascript": [
       "parent.postMessage({\"jupyterEvent\": \"custom.exercise_interaction\", \"data\": {\"outcomeType\": 1, \"valueTowardsCompletion\": 0.14285714285714285, \"interactionType\": 1, \"questionType\": 1, \"questionId\": \"6_DescriptorCounts\", \"learnToolsVersion\": \"0.3.4\", \"failureMessage\": \"\", \"exceptionClass\": \"\", \"trace\": \"\"}}, \"*\")"
      ],
      "text/plain": [
       "<IPython.core.display.Javascript object>"
      ]
     },
     "metadata": {},
     "output_type": "display_data"
    },
    {
     "data": {
      "text/markdown": [
       "<span style=\"color:#33cc33\">Correct</span>"
      ],
      "text/plain": [
       "Correct"
      ]
     },
     "metadata": {},
     "output_type": "display_data"
    }
   ],
   "source": [
    "descriptor_counts = pd.Series([tropical_count, fruity_count], index=['tropical', 'fruity'])\n",
    "# Check your answer\n",
    "q6.check()"
   ]
  },
  {
   "cell_type": "code",
   "execution_count": 20,
   "id": "bfe707cf",
   "metadata": {
    "execution": {
     "iopub.execute_input": "2022-11-14T11:30:51.864285Z",
     "iopub.status.busy": "2022-11-14T11:30:51.863843Z",
     "iopub.status.idle": "2022-11-14T11:30:51.871327Z",
     "shell.execute_reply": "2022-11-14T11:30:51.870535Z"
    },
    "papermill": {
     "duration": 0.022691,
     "end_time": "2022-11-14T11:30:51.873712",
     "exception": false,
     "start_time": "2022-11-14T11:30:51.851021",
     "status": "completed"
    },
    "tags": []
   },
   "outputs": [
    {
     "data": {
      "text/plain": [
       "tropical    3607\n",
       "fruity      9090\n",
       "dtype: int64"
      ]
     },
     "execution_count": 20,
     "metadata": {},
     "output_type": "execute_result"
    }
   ],
   "source": [
    "descriptor_counts"
   ]
  },
  {
   "cell_type": "code",
   "execution_count": 21,
   "id": "79a6dd2a",
   "metadata": {
    "execution": {
     "iopub.execute_input": "2022-11-14T11:30:51.898686Z",
     "iopub.status.busy": "2022-11-14T11:30:51.898174Z",
     "iopub.status.idle": "2022-11-14T11:30:51.903786Z",
     "shell.execute_reply": "2022-11-14T11:30:51.902304Z"
    },
    "papermill": {
     "duration": 0.020937,
     "end_time": "2022-11-14T11:30:51.906216",
     "exception": false,
     "start_time": "2022-11-14T11:30:51.885279",
     "status": "completed"
    },
    "tags": []
   },
   "outputs": [],
   "source": [
    "#q6.hint()\n",
    "#q6.solution()"
   ]
  },
  {
   "cell_type": "markdown",
   "id": "05a4326a",
   "metadata": {
    "papermill": {
     "duration": 0.010937,
     "end_time": "2022-11-14T11:30:51.929336",
     "exception": false,
     "start_time": "2022-11-14T11:30:51.918399",
     "status": "completed"
    },
    "tags": []
   },
   "source": [
    "## 7.\n",
    "We'd like to host these wine reviews on our website, but a rating system ranging from 80 to 100 points is too hard to understand - we'd like to translate them into simple star ratings. A score of 95 or higher counts as 3 stars, a score of at least 85 but less than 95 is 2 stars. Any other score is 1 star.\n",
    "\n",
    "Also, the Canadian Vintners Association bought a lot of ads on the site, so any wines from Canada should automatically get 3 stars, regardless of points.\n",
    "\n",
    "Create a series `star_ratings` with the number of stars corresponding to each review in the dataset."
   ]
  },
  {
   "cell_type": "code",
   "execution_count": 22,
   "id": "ecc69835",
   "metadata": {
    "execution": {
     "iopub.execute_input": "2022-11-14T11:30:51.953704Z",
     "iopub.status.busy": "2022-11-14T11:30:51.953264Z",
     "iopub.status.idle": "2022-11-14T11:30:51.959876Z",
     "shell.execute_reply": "2022-11-14T11:30:51.958594Z"
    },
    "papermill": {
     "duration": 0.021885,
     "end_time": "2022-11-14T11:30:51.962462",
     "exception": false,
     "start_time": "2022-11-14T11:30:51.940577",
     "status": "completed"
    },
    "tags": []
   },
   "outputs": [],
   "source": [
    "def stars(row):\n",
    "    if ((row.country == 'Canada') | (row.points >= 95)):\n",
    "        return 3 \n",
    "    elif (row.points >= 85):\n",
    "        return 2 \n",
    "    else: \n",
    "        return 1 "
   ]
  },
  {
   "cell_type": "code",
   "execution_count": 23,
   "id": "2a8ead08",
   "metadata": {
    "execution": {
     "iopub.execute_input": "2022-11-14T11:30:51.987402Z",
     "iopub.status.busy": "2022-11-14T11:30:51.986924Z",
     "iopub.status.idle": "2022-11-14T11:30:55.998510Z",
     "shell.execute_reply": "2022-11-14T11:30:55.996991Z"
    },
    "papermill": {
     "duration": 4.027578,
     "end_time": "2022-11-14T11:30:56.001510",
     "exception": false,
     "start_time": "2022-11-14T11:30:51.973932",
     "status": "completed"
    },
    "tags": []
   },
   "outputs": [
    {
     "data": {
      "application/javascript": [
       "parent.postMessage({\"jupyterEvent\": \"custom.exercise_interaction\", \"data\": {\"outcomeType\": 1, \"valueTowardsCompletion\": 0.14285714285714285, \"interactionType\": 1, \"questionType\": 1, \"questionId\": \"7_StarRatings\", \"learnToolsVersion\": \"0.3.4\", \"failureMessage\": \"\", \"exceptionClass\": \"\", \"trace\": \"\"}}, \"*\")"
      ],
      "text/plain": [
       "<IPython.core.display.Javascript object>"
      ]
     },
     "metadata": {},
     "output_type": "display_data"
    },
    {
     "data": {
      "text/markdown": [
       "<span style=\"color:#33cc33\">Correct</span>"
      ],
      "text/plain": [
       "Correct"
      ]
     },
     "metadata": {},
     "output_type": "display_data"
    }
   ],
   "source": [
    "star_ratings = reviews.apply(stars, axis='columns')\n",
    "\n",
    "# Check your answer\n",
    "q7.check()"
   ]
  },
  {
   "cell_type": "code",
   "execution_count": 24,
   "id": "e0ac7015",
   "metadata": {
    "execution": {
     "iopub.execute_input": "2022-11-14T11:30:56.029398Z",
     "iopub.status.busy": "2022-11-14T11:30:56.028967Z",
     "iopub.status.idle": "2022-11-14T11:30:56.038542Z",
     "shell.execute_reply": "2022-11-14T11:30:56.037292Z"
    },
    "papermill": {
     "duration": 0.025633,
     "end_time": "2022-11-14T11:30:56.040996",
     "exception": false,
     "start_time": "2022-11-14T11:30:56.015363",
     "status": "completed"
    },
    "tags": []
   },
   "outputs": [
    {
     "data": {
      "text/plain": [
       "0         2\n",
       "1         2\n",
       "         ..\n",
       "129969    2\n",
       "129970    2\n",
       "Length: 129971, dtype: int64"
      ]
     },
     "execution_count": 24,
     "metadata": {},
     "output_type": "execute_result"
    }
   ],
   "source": [
    "star_ratings"
   ]
  },
  {
   "cell_type": "code",
   "execution_count": 25,
   "id": "d9de1388",
   "metadata": {
    "execution": {
     "iopub.execute_input": "2022-11-14T11:30:56.067301Z",
     "iopub.status.busy": "2022-11-14T11:30:56.066875Z",
     "iopub.status.idle": "2022-11-14T11:30:56.229592Z",
     "shell.execute_reply": "2022-11-14T11:30:56.228201Z"
    },
    "papermill": {
     "duration": 0.179033,
     "end_time": "2022-11-14T11:30:56.232143",
     "exception": false,
     "start_time": "2022-11-14T11:30:56.053110",
     "status": "completed"
    },
    "tags": []
   },
   "outputs": [
    {
     "data": {
      "text/html": [
       "<div>\n",
       "<style scoped>\n",
       "    .dataframe tbody tr th:only-of-type {\n",
       "        vertical-align: middle;\n",
       "    }\n",
       "\n",
       "    .dataframe tbody tr th {\n",
       "        vertical-align: top;\n",
       "    }\n",
       "\n",
       "    .dataframe thead th {\n",
       "        text-align: right;\n",
       "    }\n",
       "</style>\n",
       "<table border=\"1\" class=\"dataframe\">\n",
       "  <thead>\n",
       "    <tr style=\"text-align: right;\">\n",
       "      <th></th>\n",
       "      <th>country</th>\n",
       "      <th>description</th>\n",
       "      <th>designation</th>\n",
       "      <th>points</th>\n",
       "      <th>price</th>\n",
       "      <th>province</th>\n",
       "      <th>region_1</th>\n",
       "      <th>region_2</th>\n",
       "      <th>taster_name</th>\n",
       "      <th>taster_twitter_handle</th>\n",
       "      <th>title</th>\n",
       "      <th>variety</th>\n",
       "      <th>winery</th>\n",
       "      <th>points_to_price_ratio</th>\n",
       "      <th>Stars</th>\n",
       "    </tr>\n",
       "  </thead>\n",
       "  <tbody>\n",
       "    <tr>\n",
       "      <th>0</th>\n",
       "      <td>Italy</td>\n",
       "      <td>Aromas include tropical fruit, broom, brimston...</td>\n",
       "      <td>Vulkà Bianco</td>\n",
       "      <td>87</td>\n",
       "      <td>NaN</td>\n",
       "      <td>Sicily &amp; Sardinia</td>\n",
       "      <td>Etna</td>\n",
       "      <td>NaN</td>\n",
       "      <td>Kerin O’Keefe</td>\n",
       "      <td>@kerinokeefe</td>\n",
       "      <td>Nicosia 2013 Vulkà Bianco  (Etna)</td>\n",
       "      <td>White Blend</td>\n",
       "      <td>Nicosia</td>\n",
       "      <td>NaN</td>\n",
       "      <td>2</td>\n",
       "    </tr>\n",
       "    <tr>\n",
       "      <th>1</th>\n",
       "      <td>Portugal</td>\n",
       "      <td>This is ripe and fruity, a wine that is smooth...</td>\n",
       "      <td>Avidagos</td>\n",
       "      <td>87</td>\n",
       "      <td>15.0</td>\n",
       "      <td>Douro</td>\n",
       "      <td>NaN</td>\n",
       "      <td>NaN</td>\n",
       "      <td>Roger Voss</td>\n",
       "      <td>@vossroger</td>\n",
       "      <td>Quinta dos Avidagos 2011 Avidagos Red (Douro)</td>\n",
       "      <td>Portuguese Red</td>\n",
       "      <td>Quinta dos Avidagos</td>\n",
       "      <td>5.800000</td>\n",
       "      <td>2</td>\n",
       "    </tr>\n",
       "    <tr>\n",
       "      <th>...</th>\n",
       "      <td>...</td>\n",
       "      <td>...</td>\n",
       "      <td>...</td>\n",
       "      <td>...</td>\n",
       "      <td>...</td>\n",
       "      <td>...</td>\n",
       "      <td>...</td>\n",
       "      <td>...</td>\n",
       "      <td>...</td>\n",
       "      <td>...</td>\n",
       "      <td>...</td>\n",
       "      <td>...</td>\n",
       "      <td>...</td>\n",
       "      <td>...</td>\n",
       "      <td>...</td>\n",
       "    </tr>\n",
       "    <tr>\n",
       "      <th>129969</th>\n",
       "      <td>France</td>\n",
       "      <td>A dry style of Pinot Gris, this is crisp with ...</td>\n",
       "      <td>NaN</td>\n",
       "      <td>90</td>\n",
       "      <td>32.0</td>\n",
       "      <td>Alsace</td>\n",
       "      <td>Alsace</td>\n",
       "      <td>NaN</td>\n",
       "      <td>Roger Voss</td>\n",
       "      <td>@vossroger</td>\n",
       "      <td>Domaine Marcel Deiss 2012 Pinot Gris (Alsace)</td>\n",
       "      <td>Pinot Gris</td>\n",
       "      <td>Domaine Marcel Deiss</td>\n",
       "      <td>2.812500</td>\n",
       "      <td>2</td>\n",
       "    </tr>\n",
       "    <tr>\n",
       "      <th>129970</th>\n",
       "      <td>France</td>\n",
       "      <td>Big, rich and off-dry, this is powered by inte...</td>\n",
       "      <td>Lieu-dit Harth Cuvée Caroline</td>\n",
       "      <td>90</td>\n",
       "      <td>21.0</td>\n",
       "      <td>Alsace</td>\n",
       "      <td>Alsace</td>\n",
       "      <td>NaN</td>\n",
       "      <td>Roger Voss</td>\n",
       "      <td>@vossroger</td>\n",
       "      <td>Domaine Schoffit 2012 Lieu-dit Harth Cuvée Car...</td>\n",
       "      <td>Gewürztraminer</td>\n",
       "      <td>Domaine Schoffit</td>\n",
       "      <td>4.285714</td>\n",
       "      <td>2</td>\n",
       "    </tr>\n",
       "  </tbody>\n",
       "</table>\n",
       "<p>129971 rows × 15 columns</p>\n",
       "</div>"
      ],
      "text/plain": [
       "         country                                        description  \\\n",
       "0          Italy  Aromas include tropical fruit, broom, brimston...   \n",
       "1       Portugal  This is ripe and fruity, a wine that is smooth...   \n",
       "...          ...                                                ...   \n",
       "129969    France  A dry style of Pinot Gris, this is crisp with ...   \n",
       "129970    France  Big, rich and off-dry, this is powered by inte...   \n",
       "\n",
       "                          designation  points  price           province  \\\n",
       "0                        Vulkà Bianco      87    NaN  Sicily & Sardinia   \n",
       "1                            Avidagos      87   15.0              Douro   \n",
       "...                               ...     ...    ...                ...   \n",
       "129969                            NaN      90   32.0             Alsace   \n",
       "129970  Lieu-dit Harth Cuvée Caroline      90   21.0             Alsace   \n",
       "\n",
       "       region_1 region_2    taster_name taster_twitter_handle  \\\n",
       "0          Etna      NaN  Kerin O’Keefe          @kerinokeefe   \n",
       "1           NaN      NaN     Roger Voss            @vossroger   \n",
       "...         ...      ...            ...                   ...   \n",
       "129969   Alsace      NaN     Roger Voss            @vossroger   \n",
       "129970   Alsace      NaN     Roger Voss            @vossroger   \n",
       "\n",
       "                                                    title         variety  \\\n",
       "0                       Nicosia 2013 Vulkà Bianco  (Etna)     White Blend   \n",
       "1           Quinta dos Avidagos 2011 Avidagos Red (Douro)  Portuguese Red   \n",
       "...                                                   ...             ...   \n",
       "129969      Domaine Marcel Deiss 2012 Pinot Gris (Alsace)      Pinot Gris   \n",
       "129970  Domaine Schoffit 2012 Lieu-dit Harth Cuvée Car...  Gewürztraminer   \n",
       "\n",
       "                      winery  points_to_price_ratio Stars  \n",
       "0                    Nicosia                    NaN     2  \n",
       "1        Quinta dos Avidagos               5.800000     2  \n",
       "...                      ...                    ...   ...  \n",
       "129969  Domaine Marcel Deiss               2.812500     2  \n",
       "129970      Domaine Schoffit               4.285714     2  \n",
       "\n",
       "[129971 rows x 15 columns]"
      ]
     },
     "execution_count": 25,
     "metadata": {},
     "output_type": "execute_result"
    }
   ],
   "source": [
    "reviews['Stars'] = ''\n",
    "_3stars = reviews.loc[(reviews.points >= 95) | (reviews.country == 'Canada')]\n",
    "_2stars = reviews.loc[(reviews.points >= 85) & (reviews.points < 95)]\n",
    "_1stars = reviews.loc[(reviews.points < 85)]\n",
    "\n",
    "reviews.loc[_3stars.index, 'Stars'] = 3\n",
    "reviews.loc[_2stars.index, 'Stars'] = 2\n",
    "reviews.loc[_1stars.index, 'Stars'] = 1\n",
    "reviews"
   ]
  },
  {
   "cell_type": "code",
   "execution_count": 26,
   "id": "17fad8b8",
   "metadata": {
    "execution": {
     "iopub.execute_input": "2022-11-14T11:30:56.258494Z",
     "iopub.status.busy": "2022-11-14T11:30:56.258032Z",
     "iopub.status.idle": "2022-11-14T11:30:56.271868Z",
     "shell.execute_reply": "2022-11-14T11:30:56.270793Z"
    },
    "papermill": {
     "duration": 0.03222,
     "end_time": "2022-11-14T11:30:56.276691",
     "exception": false,
     "start_time": "2022-11-14T11:30:56.244471",
     "status": "completed"
    },
    "tags": []
   },
   "outputs": [
    {
     "data": {
      "application/javascript": [
       "parent.postMessage({\"jupyterEvent\": \"custom.exercise_interaction\", \"data\": {\"outcomeType\": 2, \"failureMessage\": \"Incorrect value for `star_ratings`\", \"interactionType\": 1, \"questionType\": 1, \"questionId\": \"7_StarRatings\", \"learnToolsVersion\": \"0.3.4\", \"valueTowardsCompletion\": 0.0, \"exceptionClass\": \"\", \"trace\": \"\"}}, \"*\")"
      ],
      "text/plain": [
       "<IPython.core.display.Javascript object>"
      ]
     },
     "metadata": {},
     "output_type": "display_data"
    },
    {
     "data": {
      "text/markdown": [
       "<span style=\"color:#cc3333\">Incorrect:</span> Incorrect value for `star_ratings`"
      ],
      "text/plain": [
       "Incorrect: Incorrect value for `star_ratings`"
      ]
     },
     "metadata": {},
     "output_type": "display_data"
    }
   ],
   "source": [
    "star_ratings = reviews.Stars\n",
    "\n",
    "# Check your answer\n",
    "q7.check()"
   ]
  },
  {
   "cell_type": "code",
   "execution_count": 27,
   "id": "f474c34e",
   "metadata": {
    "execution": {
     "iopub.execute_input": "2022-11-14T11:30:56.308711Z",
     "iopub.status.busy": "2022-11-14T11:30:56.308204Z",
     "iopub.status.idle": "2022-11-14T11:30:56.318309Z",
     "shell.execute_reply": "2022-11-14T11:30:56.316949Z"
    },
    "papermill": {
     "duration": 0.027468,
     "end_time": "2022-11-14T11:30:56.321032",
     "exception": false,
     "start_time": "2022-11-14T11:30:56.293564",
     "status": "completed"
    },
    "tags": []
   },
   "outputs": [
    {
     "data": {
      "text/plain": [
       "0         2\n",
       "1         2\n",
       "         ..\n",
       "129969    2\n",
       "129970    2\n",
       "Name: Stars, Length: 129971, dtype: object"
      ]
     },
     "execution_count": 27,
     "metadata": {},
     "output_type": "execute_result"
    }
   ],
   "source": [
    "star_ratings"
   ]
  },
  {
   "cell_type": "code",
   "execution_count": 28,
   "id": "ccdbf2a4",
   "metadata": {
    "execution": {
     "iopub.execute_input": "2022-11-14T11:30:56.348849Z",
     "iopub.status.busy": "2022-11-14T11:30:56.348378Z",
     "iopub.status.idle": "2022-11-14T11:30:56.353833Z",
     "shell.execute_reply": "2022-11-14T11:30:56.352484Z"
    },
    "papermill": {
     "duration": 0.022206,
     "end_time": "2022-11-14T11:30:56.356255",
     "exception": false,
     "start_time": "2022-11-14T11:30:56.334049",
     "status": "completed"
    },
    "tags": []
   },
   "outputs": [],
   "source": [
    "#q7.hint()\n",
    "#q7.solution()"
   ]
  },
  {
   "cell_type": "markdown",
   "id": "1632bb11",
   "metadata": {
    "papermill": {
     "duration": 0.012438,
     "end_time": "2022-11-14T11:30:56.381630",
     "exception": false,
     "start_time": "2022-11-14T11:30:56.369192",
     "status": "completed"
    },
    "tags": []
   },
   "source": [
    "# Keep going\n",
    "Continue to **[grouping and sorting](https://www.kaggle.com/residentmario/grouping-and-sorting)**."
   ]
  },
  {
   "cell_type": "markdown",
   "id": "cb48ecd7",
   "metadata": {
    "papermill": {
     "duration": 0.012379,
     "end_time": "2022-11-14T11:30:56.406888",
     "exception": false,
     "start_time": "2022-11-14T11:30:56.394509",
     "status": "completed"
    },
    "tags": []
   },
   "source": [
    "---\n",
    "\n",
    "\n",
    "\n",
    "\n",
    "*Have questions or comments? Visit the [course discussion forum](https://www.kaggle.com/learn/pandas/discussion) to chat with other learners.*"
   ]
  }
 ],
 "metadata": {
  "kernelspec": {
   "display_name": "Python 3",
   "language": "python",
   "name": "python3"
  },
  "language_info": {
   "codemirror_mode": {
    "name": "ipython",
    "version": 3
   },
   "file_extension": ".py",
   "mimetype": "text/x-python",
   "name": "python",
   "nbconvert_exporter": "python",
   "pygments_lexer": "ipython3",
   "version": "3.7.12"
  },
  "papermill": {
   "default_parameters": {},
   "duration": 20.518672,
   "end_time": "2022-11-14T11:30:57.343394",
   "environment_variables": {},
   "exception": null,
   "input_path": "__notebook__.ipynb",
   "output_path": "__notebook__.ipynb",
   "parameters": {},
   "start_time": "2022-11-14T11:30:36.824722",
   "version": "2.3.4"
  }
 },
 "nbformat": 4,
 "nbformat_minor": 5
}
