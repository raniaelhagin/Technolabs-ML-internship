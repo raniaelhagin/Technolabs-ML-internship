{
 "cells": [
  {
   "cell_type": "markdown",
   "id": "4075425d",
   "metadata": {
    "papermill": {
     "duration": 0.006744,
     "end_time": "2022-11-14T14:50:08.844913",
     "exception": false,
     "start_time": "2022-11-14T14:50:08.838169",
     "status": "completed"
    },
    "tags": []
   },
   "source": [
    "**This notebook is an exercise in the [Pandas](https://www.kaggle.com/learn/pandas) course.  You can reference the tutorial at [this link](https://www.kaggle.com/residentmario/data-types-and-missing-values).**\n",
    "\n",
    "---\n"
   ]
  },
  {
   "cell_type": "markdown",
   "id": "eea0b1e2",
   "metadata": {
    "papermill": {
     "duration": 0.00587,
     "end_time": "2022-11-14T14:50:08.856557",
     "exception": false,
     "start_time": "2022-11-14T14:50:08.850687",
     "status": "completed"
    },
    "tags": []
   },
   "source": [
    "# Introduction\n",
    "\n",
    "Run the following cell to load your data and some utility functions."
   ]
  },
  {
   "cell_type": "code",
   "execution_count": 1,
   "id": "e0487c99",
   "metadata": {
    "execution": {
     "iopub.execute_input": "2022-11-14T14:50:08.872690Z",
     "iopub.status.busy": "2022-11-14T14:50:08.871775Z",
     "iopub.status.idle": "2022-11-14T14:50:11.944217Z",
     "shell.execute_reply": "2022-11-14T14:50:11.943421Z"
    },
    "papermill": {
     "duration": 3.083137,
     "end_time": "2022-11-14T14:50:11.946884",
     "exception": false,
     "start_time": "2022-11-14T14:50:08.863747",
     "status": "completed"
    },
    "tags": []
   },
   "outputs": [
    {
     "name": "stdout",
     "output_type": "stream",
     "text": [
      "Setup complete.\n"
     ]
    }
   ],
   "source": [
    "import pandas as pd\n",
    "\n",
    "reviews = pd.read_csv(\"../input/wine-reviews/winemag-data-130k-v2.csv\", index_col=0)\n",
    "\n",
    "from learntools.core import binder; binder.bind(globals())\n",
    "from learntools.pandas.data_types_and_missing_data import *\n",
    "print(\"Setup complete.\")"
   ]
  },
  {
   "cell_type": "markdown",
   "id": "311ece2e",
   "metadata": {
    "papermill": {
     "duration": 0.005331,
     "end_time": "2022-11-14T14:50:11.958077",
     "exception": false,
     "start_time": "2022-11-14T14:50:11.952746",
     "status": "completed"
    },
    "tags": []
   },
   "source": [
    "# Exercises"
   ]
  },
  {
   "cell_type": "code",
   "execution_count": 2,
   "id": "8d28a1d9",
   "metadata": {
    "execution": {
     "iopub.execute_input": "2022-11-14T14:50:11.971663Z",
     "iopub.status.busy": "2022-11-14T14:50:11.970786Z",
     "iopub.status.idle": "2022-11-14T14:50:11.996087Z",
     "shell.execute_reply": "2022-11-14T14:50:11.994951Z"
    },
    "papermill": {
     "duration": 0.03597,
     "end_time": "2022-11-14T14:50:11.999691",
     "exception": false,
     "start_time": "2022-11-14T14:50:11.963721",
     "status": "completed"
    },
    "tags": []
   },
   "outputs": [
    {
     "data": {
      "text/html": [
       "<div>\n",
       "<style scoped>\n",
       "    .dataframe tbody tr th:only-of-type {\n",
       "        vertical-align: middle;\n",
       "    }\n",
       "\n",
       "    .dataframe tbody tr th {\n",
       "        vertical-align: top;\n",
       "    }\n",
       "\n",
       "    .dataframe thead th {\n",
       "        text-align: right;\n",
       "    }\n",
       "</style>\n",
       "<table border=\"1\" class=\"dataframe\">\n",
       "  <thead>\n",
       "    <tr style=\"text-align: right;\">\n",
       "      <th></th>\n",
       "      <th>country</th>\n",
       "      <th>description</th>\n",
       "      <th>designation</th>\n",
       "      <th>points</th>\n",
       "      <th>price</th>\n",
       "      <th>province</th>\n",
       "      <th>region_1</th>\n",
       "      <th>region_2</th>\n",
       "      <th>taster_name</th>\n",
       "      <th>taster_twitter_handle</th>\n",
       "      <th>title</th>\n",
       "      <th>variety</th>\n",
       "      <th>winery</th>\n",
       "    </tr>\n",
       "  </thead>\n",
       "  <tbody>\n",
       "    <tr>\n",
       "      <th>0</th>\n",
       "      <td>Italy</td>\n",
       "      <td>Aromas include tropical fruit, broom, brimston...</td>\n",
       "      <td>Vulkà Bianco</td>\n",
       "      <td>87</td>\n",
       "      <td>NaN</td>\n",
       "      <td>Sicily &amp; Sardinia</td>\n",
       "      <td>Etna</td>\n",
       "      <td>NaN</td>\n",
       "      <td>Kerin O’Keefe</td>\n",
       "      <td>@kerinokeefe</td>\n",
       "      <td>Nicosia 2013 Vulkà Bianco  (Etna)</td>\n",
       "      <td>White Blend</td>\n",
       "      <td>Nicosia</td>\n",
       "    </tr>\n",
       "    <tr>\n",
       "      <th>1</th>\n",
       "      <td>Portugal</td>\n",
       "      <td>This is ripe and fruity, a wine that is smooth...</td>\n",
       "      <td>Avidagos</td>\n",
       "      <td>87</td>\n",
       "      <td>15.0</td>\n",
       "      <td>Douro</td>\n",
       "      <td>NaN</td>\n",
       "      <td>NaN</td>\n",
       "      <td>Roger Voss</td>\n",
       "      <td>@vossroger</td>\n",
       "      <td>Quinta dos Avidagos 2011 Avidagos Red (Douro)</td>\n",
       "      <td>Portuguese Red</td>\n",
       "      <td>Quinta dos Avidagos</td>\n",
       "    </tr>\n",
       "    <tr>\n",
       "      <th>2</th>\n",
       "      <td>US</td>\n",
       "      <td>Tart and snappy, the flavors of lime flesh and...</td>\n",
       "      <td>NaN</td>\n",
       "      <td>87</td>\n",
       "      <td>14.0</td>\n",
       "      <td>Oregon</td>\n",
       "      <td>Willamette Valley</td>\n",
       "      <td>Willamette Valley</td>\n",
       "      <td>Paul Gregutt</td>\n",
       "      <td>@paulgwine</td>\n",
       "      <td>Rainstorm 2013 Pinot Gris (Willamette Valley)</td>\n",
       "      <td>Pinot Gris</td>\n",
       "      <td>Rainstorm</td>\n",
       "    </tr>\n",
       "    <tr>\n",
       "      <th>3</th>\n",
       "      <td>US</td>\n",
       "      <td>Pineapple rind, lemon pith and orange blossom ...</td>\n",
       "      <td>Reserve Late Harvest</td>\n",
       "      <td>87</td>\n",
       "      <td>13.0</td>\n",
       "      <td>Michigan</td>\n",
       "      <td>Lake Michigan Shore</td>\n",
       "      <td>NaN</td>\n",
       "      <td>Alexander Peartree</td>\n",
       "      <td>NaN</td>\n",
       "      <td>St. Julian 2013 Reserve Late Harvest Riesling ...</td>\n",
       "      <td>Riesling</td>\n",
       "      <td>St. Julian</td>\n",
       "    </tr>\n",
       "    <tr>\n",
       "      <th>4</th>\n",
       "      <td>US</td>\n",
       "      <td>Much like the regular bottling from 2012, this...</td>\n",
       "      <td>Vintner's Reserve Wild Child Block</td>\n",
       "      <td>87</td>\n",
       "      <td>65.0</td>\n",
       "      <td>Oregon</td>\n",
       "      <td>Willamette Valley</td>\n",
       "      <td>Willamette Valley</td>\n",
       "      <td>Paul Gregutt</td>\n",
       "      <td>@paulgwine</td>\n",
       "      <td>Sweet Cheeks 2012 Vintner's Reserve Wild Child...</td>\n",
       "      <td>Pinot Noir</td>\n",
       "      <td>Sweet Cheeks</td>\n",
       "    </tr>\n",
       "  </tbody>\n",
       "</table>\n",
       "</div>"
      ],
      "text/plain": [
       "    country                                        description  \\\n",
       "0     Italy  Aromas include tropical fruit, broom, brimston...   \n",
       "1  Portugal  This is ripe and fruity, a wine that is smooth...   \n",
       "2        US  Tart and snappy, the flavors of lime flesh and...   \n",
       "3        US  Pineapple rind, lemon pith and orange blossom ...   \n",
       "4        US  Much like the regular bottling from 2012, this...   \n",
       "\n",
       "                          designation  points  price           province  \\\n",
       "0                        Vulkà Bianco      87    NaN  Sicily & Sardinia   \n",
       "1                            Avidagos      87   15.0              Douro   \n",
       "2                                 NaN      87   14.0             Oregon   \n",
       "3                Reserve Late Harvest      87   13.0           Michigan   \n",
       "4  Vintner's Reserve Wild Child Block      87   65.0             Oregon   \n",
       "\n",
       "              region_1           region_2         taster_name  \\\n",
       "0                 Etna                NaN       Kerin O’Keefe   \n",
       "1                  NaN                NaN          Roger Voss   \n",
       "2    Willamette Valley  Willamette Valley        Paul Gregutt   \n",
       "3  Lake Michigan Shore                NaN  Alexander Peartree   \n",
       "4    Willamette Valley  Willamette Valley        Paul Gregutt   \n",
       "\n",
       "  taster_twitter_handle                                              title  \\\n",
       "0          @kerinokeefe                  Nicosia 2013 Vulkà Bianco  (Etna)   \n",
       "1            @vossroger      Quinta dos Avidagos 2011 Avidagos Red (Douro)   \n",
       "2           @paulgwine       Rainstorm 2013 Pinot Gris (Willamette Valley)   \n",
       "3                   NaN  St. Julian 2013 Reserve Late Harvest Riesling ...   \n",
       "4           @paulgwine   Sweet Cheeks 2012 Vintner's Reserve Wild Child...   \n",
       "\n",
       "          variety               winery  \n",
       "0     White Blend              Nicosia  \n",
       "1  Portuguese Red  Quinta dos Avidagos  \n",
       "2      Pinot Gris            Rainstorm  \n",
       "3        Riesling           St. Julian  \n",
       "4      Pinot Noir         Sweet Cheeks  "
      ]
     },
     "execution_count": 2,
     "metadata": {},
     "output_type": "execute_result"
    }
   ],
   "source": [
    "reviews.head()"
   ]
  },
  {
   "cell_type": "markdown",
   "id": "155190d1",
   "metadata": {
    "papermill": {
     "duration": 0.006171,
     "end_time": "2022-11-14T14:50:12.012032",
     "exception": false,
     "start_time": "2022-11-14T14:50:12.005861",
     "status": "completed"
    },
    "tags": []
   },
   "source": [
    "## 1. \n",
    "What is the data type of the `points` column in the dataset?"
   ]
  },
  {
   "cell_type": "code",
   "execution_count": 3,
   "id": "1543d765",
   "metadata": {
    "execution": {
     "iopub.execute_input": "2022-11-14T14:50:12.025781Z",
     "iopub.status.busy": "2022-11-14T14:50:12.025395Z",
     "iopub.status.idle": "2022-11-14T14:50:12.035027Z",
     "shell.execute_reply": "2022-11-14T14:50:12.033814Z"
    },
    "papermill": {
     "duration": 0.019348,
     "end_time": "2022-11-14T14:50:12.037454",
     "exception": false,
     "start_time": "2022-11-14T14:50:12.018106",
     "status": "completed"
    },
    "tags": []
   },
   "outputs": [
    {
     "data": {
      "application/javascript": [
       "parent.postMessage({\"jupyterEvent\": \"custom.exercise_interaction\", \"data\": {\"outcomeType\": 1, \"valueTowardsCompletion\": 0.25, \"interactionType\": 1, \"questionType\": 1, \"questionId\": \"1_PointsDtype\", \"learnToolsVersion\": \"0.3.4\", \"failureMessage\": \"\", \"exceptionClass\": \"\", \"trace\": \"\"}}, \"*\")"
      ],
      "text/plain": [
       "<IPython.core.display.Javascript object>"
      ]
     },
     "metadata": {},
     "output_type": "display_data"
    },
    {
     "data": {
      "text/markdown": [
       "<span style=\"color:#33cc33\">Correct</span>"
      ],
      "text/plain": [
       "Correct"
      ]
     },
     "metadata": {},
     "output_type": "display_data"
    }
   ],
   "source": [
    "# Your code here\n",
    "dtype = reviews.points.dtype\n",
    "\n",
    "# Check your answer\n",
    "q1.check()"
   ]
  },
  {
   "cell_type": "code",
   "execution_count": 4,
   "id": "73167110",
   "metadata": {
    "execution": {
     "iopub.execute_input": "2022-11-14T14:50:12.054095Z",
     "iopub.status.busy": "2022-11-14T14:50:12.053074Z",
     "iopub.status.idle": "2022-11-14T14:50:12.060121Z",
     "shell.execute_reply": "2022-11-14T14:50:12.059174Z"
    },
    "papermill": {
     "duration": 0.018521,
     "end_time": "2022-11-14T14:50:12.062296",
     "exception": false,
     "start_time": "2022-11-14T14:50:12.043775",
     "status": "completed"
    },
    "tags": []
   },
   "outputs": [
    {
     "data": {
      "text/plain": [
       "dtype('int64')"
      ]
     },
     "execution_count": 4,
     "metadata": {},
     "output_type": "execute_result"
    }
   ],
   "source": [
    "dtype"
   ]
  },
  {
   "cell_type": "code",
   "execution_count": 5,
   "id": "e41db320",
   "metadata": {
    "execution": {
     "iopub.execute_input": "2022-11-14T14:50:12.077380Z",
     "iopub.status.busy": "2022-11-14T14:50:12.076638Z",
     "iopub.status.idle": "2022-11-14T14:50:12.081385Z",
     "shell.execute_reply": "2022-11-14T14:50:12.080526Z"
    },
    "papermill": {
     "duration": 0.014962,
     "end_time": "2022-11-14T14:50:12.083598",
     "exception": false,
     "start_time": "2022-11-14T14:50:12.068636",
     "status": "completed"
    },
    "tags": []
   },
   "outputs": [],
   "source": [
    "#q1.hint()\n",
    "#q1.solution()"
   ]
  },
  {
   "cell_type": "markdown",
   "id": "0a7784df",
   "metadata": {
    "papermill": {
     "duration": 0.00618,
     "end_time": "2022-11-14T14:50:12.096217",
     "exception": false,
     "start_time": "2022-11-14T14:50:12.090037",
     "status": "completed"
    },
    "tags": []
   },
   "source": [
    "## 2. \n",
    "Create a Series from entries in the `points` column, but convert the entries to strings. Hint: strings are `str` in native Python."
   ]
  },
  {
   "cell_type": "code",
   "execution_count": 6,
   "id": "0c287a90",
   "metadata": {
    "execution": {
     "iopub.execute_input": "2022-11-14T14:50:12.111216Z",
     "iopub.status.busy": "2022-11-14T14:50:12.110556Z",
     "iopub.status.idle": "2022-11-14T14:50:12.192093Z",
     "shell.execute_reply": "2022-11-14T14:50:12.191207Z"
    },
    "papermill": {
     "duration": 0.091591,
     "end_time": "2022-11-14T14:50:12.194231",
     "exception": false,
     "start_time": "2022-11-14T14:50:12.102640",
     "status": "completed"
    },
    "tags": []
   },
   "outputs": [
    {
     "data": {
      "application/javascript": [
       "parent.postMessage({\"jupyterEvent\": \"custom.exercise_interaction\", \"data\": {\"outcomeType\": 1, \"valueTowardsCompletion\": 0.25, \"interactionType\": 1, \"questionType\": 1, \"questionId\": \"2_StrPoints\", \"learnToolsVersion\": \"0.3.4\", \"failureMessage\": \"\", \"exceptionClass\": \"\", \"trace\": \"\"}}, \"*\")"
      ],
      "text/plain": [
       "<IPython.core.display.Javascript object>"
      ]
     },
     "metadata": {},
     "output_type": "display_data"
    },
    {
     "data": {
      "text/markdown": [
       "<span style=\"color:#33cc33\">Correct</span>"
      ],
      "text/plain": [
       "Correct"
      ]
     },
     "metadata": {},
     "output_type": "display_data"
    }
   ],
   "source": [
    "point_strings = reviews.points.astype('str')\n",
    "\n",
    "# Check your answer\n",
    "q2.check()"
   ]
  },
  {
   "cell_type": "code",
   "execution_count": 7,
   "id": "41745cb8",
   "metadata": {
    "execution": {
     "iopub.execute_input": "2022-11-14T14:50:12.209775Z",
     "iopub.status.busy": "2022-11-14T14:50:12.209063Z",
     "iopub.status.idle": "2022-11-14T14:50:12.217687Z",
     "shell.execute_reply": "2022-11-14T14:50:12.216520Z"
    },
    "papermill": {
     "duration": 0.019288,
     "end_time": "2022-11-14T14:50:12.220300",
     "exception": false,
     "start_time": "2022-11-14T14:50:12.201012",
     "status": "completed"
    },
    "tags": []
   },
   "outputs": [
    {
     "data": {
      "text/plain": [
       "0         87\n",
       "1         87\n",
       "2         87\n",
       "3         87\n",
       "4         87\n",
       "          ..\n",
       "129966    90\n",
       "129967    90\n",
       "129968    90\n",
       "129969    90\n",
       "129970    90\n",
       "Name: points, Length: 129971, dtype: object"
      ]
     },
     "execution_count": 7,
     "metadata": {},
     "output_type": "execute_result"
    }
   ],
   "source": [
    "point_strings"
   ]
  },
  {
   "cell_type": "code",
   "execution_count": 8,
   "id": "97cba634",
   "metadata": {
    "execution": {
     "iopub.execute_input": "2022-11-14T14:50:12.236112Z",
     "iopub.status.busy": "2022-11-14T14:50:12.235747Z",
     "iopub.status.idle": "2022-11-14T14:50:12.240370Z",
     "shell.execute_reply": "2022-11-14T14:50:12.239228Z"
    },
    "papermill": {
     "duration": 0.01571,
     "end_time": "2022-11-14T14:50:12.242721",
     "exception": false,
     "start_time": "2022-11-14T14:50:12.227011",
     "status": "completed"
    },
    "tags": []
   },
   "outputs": [],
   "source": [
    "#q2.hint()\n",
    "#q2.solution()"
   ]
  },
  {
   "cell_type": "markdown",
   "id": "07fb1182",
   "metadata": {
    "papermill": {
     "duration": 0.006475,
     "end_time": "2022-11-14T14:50:12.256006",
     "exception": false,
     "start_time": "2022-11-14T14:50:12.249531",
     "status": "completed"
    },
    "tags": []
   },
   "source": [
    "## 3.\n",
    "Sometimes the price column is null. How many reviews in the dataset are missing a price?"
   ]
  },
  {
   "cell_type": "code",
   "execution_count": 9,
   "id": "abe86c99",
   "metadata": {
    "execution": {
     "iopub.execute_input": "2022-11-14T14:50:12.271082Z",
     "iopub.status.busy": "2022-11-14T14:50:12.270620Z",
     "iopub.status.idle": "2022-11-14T14:50:12.281345Z",
     "shell.execute_reply": "2022-11-14T14:50:12.280249Z"
    },
    "papermill": {
     "duration": 0.020994,
     "end_time": "2022-11-14T14:50:12.283613",
     "exception": false,
     "start_time": "2022-11-14T14:50:12.262619",
     "status": "completed"
    },
    "tags": []
   },
   "outputs": [
    {
     "data": {
      "application/javascript": [
       "parent.postMessage({\"jupyterEvent\": \"custom.exercise_interaction\", \"data\": {\"outcomeType\": 1, \"valueTowardsCompletion\": 0.25, \"interactionType\": 1, \"questionType\": 1, \"questionId\": \"3_CountMissingPrices\", \"learnToolsVersion\": \"0.3.4\", \"failureMessage\": \"\", \"exceptionClass\": \"\", \"trace\": \"\"}}, \"*\")"
      ],
      "text/plain": [
       "<IPython.core.display.Javascript object>"
      ]
     },
     "metadata": {},
     "output_type": "display_data"
    },
    {
     "data": {
      "text/markdown": [
       "<span style=\"color:#33cc33\">Correct</span>"
      ],
      "text/plain": [
       "Correct"
      ]
     },
     "metadata": {},
     "output_type": "display_data"
    }
   ],
   "source": [
    "n_missing_prices = pd.isnull(reviews.price).sum()\n",
    "\n",
    "# Check your answer\n",
    "q3.check()"
   ]
  },
  {
   "cell_type": "code",
   "execution_count": 10,
   "id": "9c4883c8",
   "metadata": {
    "execution": {
     "iopub.execute_input": "2022-11-14T14:50:12.299300Z",
     "iopub.status.busy": "2022-11-14T14:50:12.298848Z",
     "iopub.status.idle": "2022-11-14T14:50:12.306201Z",
     "shell.execute_reply": "2022-11-14T14:50:12.305010Z"
    },
    "papermill": {
     "duration": 0.018091,
     "end_time": "2022-11-14T14:50:12.308725",
     "exception": false,
     "start_time": "2022-11-14T14:50:12.290634",
     "status": "completed"
    },
    "tags": []
   },
   "outputs": [
    {
     "data": {
      "text/plain": [
       "8996"
      ]
     },
     "execution_count": 10,
     "metadata": {},
     "output_type": "execute_result"
    }
   ],
   "source": [
    "n_missing_prices"
   ]
  },
  {
   "cell_type": "code",
   "execution_count": 11,
   "id": "2b122d67",
   "metadata": {
    "execution": {
     "iopub.execute_input": "2022-11-14T14:50:12.325738Z",
     "iopub.status.busy": "2022-11-14T14:50:12.325312Z",
     "iopub.status.idle": "2022-11-14T14:50:12.330048Z",
     "shell.execute_reply": "2022-11-14T14:50:12.328934Z"
    },
    "papermill": {
     "duration": 0.015565,
     "end_time": "2022-11-14T14:50:12.332436",
     "exception": false,
     "start_time": "2022-11-14T14:50:12.316871",
     "status": "completed"
    },
    "tags": []
   },
   "outputs": [],
   "source": [
    "#q3.hint()\n",
    "#q3.solution()"
   ]
  },
  {
   "cell_type": "markdown",
   "id": "c5a04782",
   "metadata": {
    "papermill": {
     "duration": 0.006576,
     "end_time": "2022-11-14T14:50:12.346162",
     "exception": false,
     "start_time": "2022-11-14T14:50:12.339586",
     "status": "completed"
    },
    "tags": []
   },
   "source": [
    "## 4.\n",
    "What are the most common wine-producing regions? Create a Series counting the number of times each value occurs in the `region_1` field. This field is often missing data, so replace missing values with `Unknown`. Sort in descending order.  Your output should look something like this:\n",
    "\n",
    "```\n",
    "Unknown                    21247\n",
    "Napa Valley                 4480\n",
    "                           ...  \n",
    "Bardolino Superiore            1\n",
    "Primitivo del Tarantino        1\n",
    "Name: region_1, Length: 1230, dtype: int64\n",
    "```"
   ]
  },
  {
   "cell_type": "code",
   "execution_count": 12,
   "id": "186c1fa3",
   "metadata": {
    "execution": {
     "iopub.execute_input": "2022-11-14T14:50:12.361882Z",
     "iopub.status.busy": "2022-11-14T14:50:12.361446Z",
     "iopub.status.idle": "2022-11-14T14:50:12.378039Z",
     "shell.execute_reply": "2022-11-14T14:50:12.376884Z"
    },
    "papermill": {
     "duration": 0.027036,
     "end_time": "2022-11-14T14:50:12.380177",
     "exception": false,
     "start_time": "2022-11-14T14:50:12.353141",
     "status": "completed"
    },
    "tags": []
   },
   "outputs": [
    {
     "data": {
      "text/plain": [
       "0                        Etna\n",
       "1                     Unknown\n",
       "2           Willamette Valley\n",
       "3         Lake Michigan Shore\n",
       "4           Willamette Valley\n",
       "                 ...         \n",
       "129966                Unknown\n",
       "129967                 Oregon\n",
       "129968                 Alsace\n",
       "129969                 Alsace\n",
       "129970                 Alsace\n",
       "Name: region_1, Length: 129971, dtype: object"
      ]
     },
     "execution_count": 12,
     "metadata": {},
     "output_type": "execute_result"
    }
   ],
   "source": [
    "reviews_per_region_missing = reviews.region_1.fillna('Unknown')\n",
    "reviews_per_region_missing"
   ]
  },
  {
   "cell_type": "code",
   "execution_count": 13,
   "id": "ec86375a",
   "metadata": {
    "execution": {
     "iopub.execute_input": "2022-11-14T14:50:12.396854Z",
     "iopub.status.busy": "2022-11-14T14:50:12.396459Z",
     "iopub.status.idle": "2022-11-14T14:50:12.435496Z",
     "shell.execute_reply": "2022-11-14T14:50:12.434350Z"
    },
    "papermill": {
     "duration": 0.050444,
     "end_time": "2022-11-14T14:50:12.437880",
     "exception": false,
     "start_time": "2022-11-14T14:50:12.387436",
     "status": "completed"
    },
    "tags": []
   },
   "outputs": [
    {
     "data": {
      "application/javascript": [
       "parent.postMessage({\"jupyterEvent\": \"custom.exercise_interaction\", \"data\": {\"outcomeType\": 1, \"valueTowardsCompletion\": 0.25, \"interactionType\": 1, \"questionType\": 2, \"questionId\": \"4_ReviewsPerRegion\", \"learnToolsVersion\": \"0.3.4\", \"failureMessage\": \"\", \"exceptionClass\": \"\", \"trace\": \"\"}}, \"*\")"
      ],
      "text/plain": [
       "<IPython.core.display.Javascript object>"
      ]
     },
     "metadata": {},
     "output_type": "display_data"
    },
    {
     "data": {
      "text/markdown": [
       "<span style=\"color:#33cc33\">Correct</span>"
      ],
      "text/plain": [
       "Correct"
      ]
     },
     "metadata": {},
     "output_type": "display_data"
    }
   ],
   "source": [
    "reviews_per_region = reviews_per_region_missing.value_counts().sort_values(ascending=False)\n",
    "\n",
    "# Check your answer\n",
    "q4.check()"
   ]
  },
  {
   "cell_type": "code",
   "execution_count": 14,
   "id": "8ff59fc8",
   "metadata": {
    "execution": {
     "iopub.execute_input": "2022-11-14T14:50:12.454578Z",
     "iopub.status.busy": "2022-11-14T14:50:12.454118Z",
     "iopub.status.idle": "2022-11-14T14:50:12.462630Z",
     "shell.execute_reply": "2022-11-14T14:50:12.461498Z"
    },
    "papermill": {
     "duration": 0.019698,
     "end_time": "2022-11-14T14:50:12.464940",
     "exception": false,
     "start_time": "2022-11-14T14:50:12.445242",
     "status": "completed"
    },
    "tags": []
   },
   "outputs": [
    {
     "data": {
      "text/plain": [
       "Unknown                 21247\n",
       "Napa Valley              4480\n",
       "Columbia Valley (WA)     4124\n",
       "Russian River Valley     3091\n",
       "California               2629\n",
       "                        ...  \n",
       "Offida Rosso                1\n",
       "Corton Perrières            1\n",
       "Isle St. George             1\n",
       "Geelong                     1\n",
       "Paestum                     1\n",
       "Name: region_1, Length: 1230, dtype: int64"
      ]
     },
     "execution_count": 14,
     "metadata": {},
     "output_type": "execute_result"
    }
   ],
   "source": [
    "reviews_per_region"
   ]
  },
  {
   "cell_type": "code",
   "execution_count": 15,
   "id": "c20c68c7",
   "metadata": {
    "execution": {
     "iopub.execute_input": "2022-11-14T14:50:12.481767Z",
     "iopub.status.busy": "2022-11-14T14:50:12.481358Z",
     "iopub.status.idle": "2022-11-14T14:50:12.485648Z",
     "shell.execute_reply": "2022-11-14T14:50:12.484608Z"
    },
    "papermill": {
     "duration": 0.015235,
     "end_time": "2022-11-14T14:50:12.487799",
     "exception": false,
     "start_time": "2022-11-14T14:50:12.472564",
     "status": "completed"
    },
    "tags": []
   },
   "outputs": [],
   "source": [
    "#q4.hint()\n",
    "#q4.solution()"
   ]
  },
  {
   "cell_type": "markdown",
   "id": "81cd64c3",
   "metadata": {
    "papermill": {
     "duration": 0.007175,
     "end_time": "2022-11-14T14:50:12.502549",
     "exception": false,
     "start_time": "2022-11-14T14:50:12.495374",
     "status": "completed"
    },
    "tags": []
   },
   "source": [
    "# Keep going\n",
    "\n",
    "Move on to **[renaming and combining](https://www.kaggle.com/residentmario/renaming-and-combining)**."
   ]
  },
  {
   "cell_type": "markdown",
   "id": "7393107b",
   "metadata": {
    "papermill": {
     "duration": 0.007363,
     "end_time": "2022-11-14T14:50:12.517396",
     "exception": false,
     "start_time": "2022-11-14T14:50:12.510033",
     "status": "completed"
    },
    "tags": []
   },
   "source": [
    "---\n",
    "\n",
    "\n",
    "\n",
    "\n",
    "*Have questions or comments? Visit the [course discussion forum](https://www.kaggle.com/learn/pandas/discussion) to chat with other learners.*"
   ]
  }
 ],
 "metadata": {
  "kernelspec": {
   "display_name": "Python 3",
   "language": "python",
   "name": "python3"
  },
  "language_info": {
   "codemirror_mode": {
    "name": "ipython",
    "version": 3
   },
   "file_extension": ".py",
   "mimetype": "text/x-python",
   "name": "python",
   "nbconvert_exporter": "python",
   "pygments_lexer": "ipython3",
   "version": "3.7.12"
  },
  "papermill": {
   "default_parameters": {},
   "duration": 13.751766,
   "end_time": "2022-11-14T14:50:13.246997",
   "environment_variables": {},
   "exception": null,
   "input_path": "__notebook__.ipynb",
   "output_path": "__notebook__.ipynb",
   "parameters": {},
   "start_time": "2022-11-14T14:49:59.495231",
   "version": "2.3.4"
  }
 },
 "nbformat": 4,
 "nbformat_minor": 5
}
